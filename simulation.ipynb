{
 "cells": [
  {
   "cell_type": "code",
   "execution_count": 1,
   "metadata": {},
   "outputs": [],
   "source": [
    "# Compare three different algorithms: Dynamic Pricing, Adaptive Pricing, and FCFS\n",
    "# Use intercepts and slopes from initialization.py as starting point for linear demand curve\n",
    "# Dynamic Pricing: \n",
    "    # Retail Price Optimization at InterContinental Hotels Group. \n",
    "    # INFORMS Journal on Applied Analytics 42(1):45-57. \n",
    "    # https://doi.org/10.1287/inte.1110.0620\n",
    "\n",
    "# Adaptibe Pricing: Developed by me, adapted from:\n",
    "    # Revenue Management Without Forecasting or Optimization: An Adaptive Algorithm for Determining Airline Seat Protection Levels\n",
    "    # Management Science 46(6):760-775.\n",
    "    # https://doi.org/10.1287/mnsc.46.6.760.11936\n",
    "    \n",
    "# FCFS: First-Come, First-Serve"
   ]
  },
  {
   "cell_type": "code",
   "execution_count": 44,
   "metadata": {},
   "outputs": [],
   "source": [
    "import itertools\n",
    "import numpy as np\n",
    "from scipy.optimize import linprog\n",
    "from cvxopt import matrix, solvers, spmatrix\n",
    "from sklearn.linear_model import LinearRegression\n",
    "import matplotlib.pyplot as plt\n",
    "\n",
    "from initialize import linparams"
   ]
  },
  {
   "cell_type": "code",
   "execution_count": 113,
   "metadata": {},
   "outputs": [],
   "source": [
    "# Parameter values\n",
    "n_class = 2\n",
    "los = 3\n",
    "capacity = 30\n",
    "intensity = 0.9\n",
    "slope_init = np.array([-0.1, -0.15])\n",
    "rates_init = np.array([[135, 135, 135, 135, 135, 108, 108],\n",
    "                       [115, 115, 115, 115, 115, 92, 92]])"
   ]
  },
  {
   "cell_type": "code",
   "execution_count": 4,
   "metadata": {},
   "outputs": [],
   "source": [
    "# intercepts and slopes for rate class, arrival day of week and los combination\n",
    "params = linparams(capacity, intensity, slope_init, rates_init)"
   ]
  },
  {
   "cell_type": "code",
   "execution_count": 5,
   "metadata": {},
   "outputs": [],
   "source": [
    "# Starting parameters\n",
    "params_slopes = params[0]\n",
    "params_intercepts = params[1]"
   ]
  },
  {
   "cell_type": "code",
   "execution_count": 6,
   "metadata": {},
   "outputs": [
    {
     "data": {
      "text/plain": [
       "array([[[-0.08122807, -0.07370269, -0.08375278],\n",
       "        [-0.07544926, -0.08451997, -0.08142716],\n",
       "        [-0.09322178, -0.07725568, -0.05773602],\n",
       "        [-0.1068316 , -0.07412914, -0.06613756],\n",
       "        [-0.08873431, -0.08650088, -0.07492901],\n",
       "        [-0.09686144, -0.07815779, -0.06201683],\n",
       "        [-0.0760522 , -0.07928701, -0.06180266]],\n",
       "\n",
       "       [[-0.15483036, -0.13341666, -0.11434043],\n",
       "        [-0.12637321, -0.09987329, -0.11079515],\n",
       "        [-0.15404708, -0.11475417, -0.09260816],\n",
       "        [-0.18590262, -0.09726223, -0.10104369],\n",
       "        [-0.192081  , -0.13001256, -0.09647752],\n",
       "        [-0.16013092, -0.11018703, -0.12105246],\n",
       "        [-0.17224569, -0.08826453, -0.08778424]]])"
      ]
     },
     "execution_count": 6,
     "metadata": {},
     "output_type": "execute_result"
    }
   ],
   "source": [
    "params_slopes"
   ]
  },
  {
   "cell_type": "code",
   "execution_count": 7,
   "metadata": {},
   "outputs": [],
   "source": [
    "# Calculate averate rates for each arrival day of week and los combination\n",
    "rates_arrival_los = [[rates_init[i, j],\n",
    "                      rates_init[i, j] + rates_init[i, (j+1)%7],\n",
    "                      rates_init[i, j] + rates_init[i, (j+1)%7] + rates_init[i, (j+2)%7]] \n",
    "                      for i, j in itertools.product(range(n_class), range(7))]\n",
    "# Store it as a numpy array\n",
    "rates_arrival_los = np.array(rates_arrival_los).reshape(n_class, 7, los)"
   ]
  },
  {
   "cell_type": "code",
   "execution_count": 8,
   "metadata": {},
   "outputs": [
    {
     "data": {
      "text/plain": [
       "array([[[135, 270, 405],\n",
       "        [135, 270, 405],\n",
       "        [135, 270, 405],\n",
       "        [135, 270, 378],\n",
       "        [135, 243, 351],\n",
       "        [108, 216, 351],\n",
       "        [108, 243, 378]],\n",
       "\n",
       "       [[115, 230, 345],\n",
       "        [115, 230, 345],\n",
       "        [115, 230, 345],\n",
       "        [115, 230, 322],\n",
       "        [115, 207, 299],\n",
       "        [ 92, 184, 299],\n",
       "        [ 92, 207, 322]]])"
      ]
     },
     "execution_count": 8,
     "metadata": {},
     "output_type": "execute_result"
    }
   ],
   "source": [
    "rates_arrival_los"
   ]
  },
  {
   "cell_type": "code",
   "execution_count": 27,
   "metadata": {},
   "outputs": [
    {
     "data": {
      "text/plain": [
       "numpy.ndarray"
      ]
     },
     "execution_count": 27,
     "metadata": {},
     "output_type": "execute_result"
    }
   ],
   "source": [
    "obj_coefs = (-1) * rates_arrival_los.reshape(n_class * 7 * los)\n",
    "type(obj_coefs)"
   ]
  },
  {
   "cell_type": "code",
   "execution_count": 114,
   "metadata": {},
   "outputs": [],
   "source": [
    "# Inequality equations, LHS\n",
    "# We have total number of 42 decision veriables, corresponding to total number of\n",
    "# rate class, arrival day of week and los combination.\n",
    "C_ineq = np.zeros(7 * los * n_class * 7).reshape(7, n_class*7*los)\n",
    "C_ineq[0,:(7*los)] = [1, 1, 1, 0, 0, 0, 0, 0, 0, 0, 0, 0, 0, 0, 0, 0, 0, 1, 0, 1, 1]\n",
    "C_ineq[1,:(7*los)] = [0, 1, 1, 1, 1, 1, 0, 0, 0, 0, 0, 0, 0, 0, 0, 0, 0, 0, 0, 0, 1]\n",
    "C_ineq[2,:(7*los)] = [0, 0, 1, 0, 1, 1, 1, 1, 1, 0, 0, 0, 0, 0, 0, 0, 0, 0, 0, 0, 0]\n",
    "C_ineq[3,:(7*los)] = [0, 0, 0, 0, 0, 1, 0, 1, 1, 1, 1, 1, 0, 0, 0, 0, 0, 0, 0, 0, 0]\n",
    "C_ineq[4,:(7*los)] = [0, 0, 0, 0, 0, 0, 0, 0, 1, 0, 1, 1, 1, 1, 1, 0, 0, 0, 0, 0, 0]\n",
    "C_ineq[5,:(7*los)] = [0, 0, 0, 0, 0, 0, 0, 0, 0, 0, 0, 1, 0, 1, 1, 1, 1, 1, 0, 0, 0]\n",
    "C_ineq[6,:(7*los)] = [0, 0, 0, 0, 0, 0, 0, 0, 0, 0, 0, 0, 0, 0, 1, 0, 1, 1, 1, 1, 1]\n",
    "C_ineq[0,(7*los):] = [1, 1, 1, 0, 0, 0, 0, 0, 0, 0, 0, 0, 0, 0, 0, 0, 0, 1, 0, 1, 1]\n",
    "C_ineq[1,(7*los):] = [0, 1, 1, 1, 1, 1, 0, 0, 0, 0, 0, 0, 0, 0, 0, 0, 0, 0, 0, 0, 1]\n",
    "C_ineq[2,(7*los):] = [0, 0, 1, 0, 1, 1, 1, 1, 1, 0, 0, 0, 0, 0, 0, 0, 0, 0, 0, 0, 0]\n",
    "C_ineq[3,(7*los):] = [0, 0, 0, 0, 0, 1, 0, 1, 1, 1, 1, 1, 0, 0, 0, 0, 0, 0, 0, 0, 0]\n",
    "C_ineq[4,(7*los):] = [0, 0, 0, 0, 0, 0, 0, 0, 1, 0, 1, 1, 1, 1, 1, 0, 0, 0, 0, 0, 0]\n",
    "C_ineq[5,(7*los):] = [0, 0, 0, 0, 0, 0, 0, 0, 0, 0, 0, 1, 0, 1, 1, 1, 1, 1, 0, 0, 0]\n",
    "C_ineq[6,(7*los):] = [0, 0, 0, 0, 0, 0, 0, 0, 0, 0, 0, 0, 0, 0, 1, 0, 1, 1, 1, 1, 1]\n",
    "\n",
    "# Inequality equations, RHS\n",
    "# For each rate class, number of arrivals for a stay night in question is half of\n",
    "# expected demand, which is capacity * intensity, then this expected demand is equally \n",
    "# split between 6 arrival day, los combination that spans the stay night in question\n",
    "expDemand_each = (capacity * intensity * 0.5) / 6\n",
    "d_ineq = expDemand_each * np.ones(n_class * 7 * los)\n",
    "c_ineq = capacity * np.ones(7)\n",
    "b_ineq = np.append(d_ineq, c_ineq)"
   ]
  },
  {
   "cell_type": "code",
   "execution_count": 127,
   "metadata": {},
   "outputs": [
    {
     "data": {
      "text/plain": [
       "array([[1., 1., 1., 0., 0., 0., 0., 0., 0., 0., 0., 0., 0., 0., 0., 0.,\n",
       "        0., 1., 0., 1., 1., 1., 1., 1., 0., 0., 0., 0., 0., 0., 0., 0.,\n",
       "        0., 0., 0., 0., 0., 0., 1., 0., 1., 1.],\n",
       "       [0., 1., 1., 1., 1., 1., 0., 0., 0., 0., 0., 0., 0., 0., 0., 0.,\n",
       "        0., 0., 0., 0., 1., 0., 1., 1., 1., 1., 1., 0., 0., 0., 0., 0.,\n",
       "        0., 0., 0., 0., 0., 0., 0., 0., 0., 1.],\n",
       "       [0., 0., 1., 0., 1., 1., 1., 1., 1., 0., 0., 0., 0., 0., 0., 0.,\n",
       "        0., 0., 0., 0., 0., 0., 0., 1., 0., 1., 1., 1., 1., 1., 0., 0.,\n",
       "        0., 0., 0., 0., 0., 0., 0., 0., 0., 0.],\n",
       "       [0., 0., 0., 0., 0., 1., 0., 1., 1., 1., 1., 1., 0., 0., 0., 0.,\n",
       "        0., 0., 0., 0., 0., 0., 0., 0., 0., 0., 1., 0., 1., 1., 1., 1.,\n",
       "        1., 0., 0., 0., 0., 0., 0., 0., 0., 0.],\n",
       "       [0., 0., 0., 0., 0., 0., 0., 0., 1., 0., 1., 1., 1., 1., 1., 0.,\n",
       "        0., 0., 0., 0., 0., 0., 0., 0., 0., 0., 0., 0., 0., 1., 0., 1.,\n",
       "        1., 1., 1., 1., 0., 0., 0., 0., 0., 0.],\n",
       "       [0., 0., 0., 0., 0., 0., 0., 0., 0., 0., 0., 1., 0., 1., 1., 1.,\n",
       "        1., 1., 0., 0., 0., 0., 0., 0., 0., 0., 0., 0., 0., 0., 0., 0.,\n",
       "        1., 0., 1., 1., 1., 1., 1., 0., 0., 0.],\n",
       "       [0., 0., 0., 0., 0., 0., 0., 0., 0., 0., 0., 0., 0., 0., 1., 0.,\n",
       "        1., 1., 1., 1., 1., 0., 0., 0., 0., 0., 0., 0., 0., 0., 0., 0.,\n",
       "        0., 0., 0., 1., 0., 1., 1., 1., 1., 1.]])"
      ]
     },
     "execution_count": 127,
     "metadata": {},
     "output_type": "execute_result"
    }
   ],
   "source": [
    "C_ineq"
   ]
  },
  {
   "cell_type": "code",
   "execution_count": 116,
   "metadata": {},
   "outputs": [
    {
     "data": {
      "text/plain": [
       "array([ 2.25,  2.25,  2.25,  2.25,  2.25,  2.25,  2.25,  2.25,  2.25,\n",
       "        2.25,  2.25,  2.25,  2.25,  2.25,  2.25,  2.25,  2.25,  2.25,\n",
       "        2.25,  2.25,  2.25,  2.25,  2.25,  2.25,  2.25,  2.25,  2.25,\n",
       "        2.25,  2.25,  2.25,  2.25,  2.25,  2.25,  2.25,  2.25,  2.25,\n",
       "        2.25,  2.25,  2.25,  2.25,  2.25,  2.25, 30.  , 30.  , 30.  ,\n",
       "       30.  , 30.  , 30.  , 30.  ])"
      ]
     },
     "execution_count": 116,
     "metadata": {},
     "output_type": "execute_result"
    }
   ],
   "source": [
    "b_ineq"
   ]
  },
  {
   "cell_type": "code",
   "execution_count": 117,
   "metadata": {},
   "outputs": [
    {
     "data": {
      "text/plain": [
       "(7, 42)"
      ]
     },
     "execution_count": 117,
     "metadata": {},
     "output_type": "execute_result"
    }
   ],
   "source": [
    "C_ineq.shape"
   ]
  },
  {
   "cell_type": "code",
   "execution_count": 118,
   "metadata": {},
   "outputs": [],
   "source": [
    "D_ineq = np.identity(42, dtype=float)\n",
    "A_ineq = np.concatenate((D_ineq, C_ineq), axis=0)"
   ]
  },
  {
   "cell_type": "code",
   "execution_count": 119,
   "metadata": {},
   "outputs": [
    {
     "data": {
      "text/plain": [
       "(49, 42)"
      ]
     },
     "execution_count": 119,
     "metadata": {},
     "output_type": "execute_result"
    }
   ],
   "source": [
    "A_ineq.shape"
   ]
  },
  {
   "cell_type": "code",
   "execution_count": 120,
   "metadata": {},
   "outputs": [],
   "source": [
    "res = linprog(obj_coefs, A_ub=A_ineq, b_ub=b_ineq)"
   ]
  },
  {
   "cell_type": "code",
   "execution_count": 121,
   "metadata": {},
   "outputs": [],
   "source": [
    "bkLimits = np.round(res['x'], decimals=0)"
   ]
  },
  {
   "cell_type": "code",
   "execution_count": 122,
   "metadata": {},
   "outputs": [
    {
     "data": {
      "text/plain": [
       "array([2., 2., 2., 2., 2., 2., 2., 2., 2., 2., 2., 2., 2., 2., 2., 2., 2.,\n",
       "       2., 2., 2., 2., 2., 2., 2., 2., 2., 2., 2., 2., 2., 2., 2., 2., 2.,\n",
       "       2., 2., 2., 2., 2., 2., 2., 2.])"
      ]
     },
     "execution_count": 122,
     "metadata": {},
     "output_type": "execute_result"
    }
   ],
   "source": [
    "bkLimits"
   ]
  },
  {
   "cell_type": "code",
   "execution_count": 123,
   "metadata": {},
   "outputs": [
    {
     "name": "stdout",
     "output_type": "stream",
     "text": [
      "     con: array([], dtype=float64)\n",
      "     fun: -22274.99999999035\n",
      " message: 'Optimization terminated successfully.'\n",
      "     nit: 9\n",
      "   slack: array([1.00275344e-12, 4.53415083e-13, 4.79172257e-13, 2.18181029e-12,\n",
      "       7.43405337e-13, 8.34443625e-13, 2.01261230e-12, 7.46958051e-13,\n",
      "       4.82724971e-13, 2.18358664e-12, 4.48974191e-13, 5.40456568e-13,\n",
      "       1.00275344e-12, 4.95603558e-13, 4.83169060e-13, 1.64757097e-12,\n",
      "       5.37792033e-13, 4.80504525e-13, 1.64579461e-12, 4.94715380e-13,\n",
      "       5.37792033e-13, 1.04449782e-12, 4.60076421e-13, 1.52278190e-12,\n",
      "       3.09663406e-12, 6.75903777e-13, 3.02113889e-12, 2.26929586e-12,\n",
      "       6.77680134e-13, 1.52011737e-12, 3.09485770e-12, 4.62740957e-13,\n",
      "       9.85433957e-13, 1.04760645e-12, 5.47561996e-13, 5.28466160e-13,\n",
      "       3.22852856e-12, 4.60964600e-13, 5.32462963e-13, 3.23563398e-12,\n",
      "       5.44453371e-13, 9.98756633e-13, 3.00000000e+00, 3.00000000e+00,\n",
      "       3.00000000e+00, 3.00000000e+00, 3.00000000e+00, 3.00000000e+00,\n",
      "       3.00000000e+00])\n",
      "  status: 0\n",
      " success: True\n",
      "       x: array([2.25, 2.25, 2.25, 2.25, 2.25, 2.25, 2.25, 2.25, 2.25, 2.25, 2.25,\n",
      "       2.25, 2.25, 2.25, 2.25, 2.25, 2.25, 2.25, 2.25, 2.25, 2.25, 2.25,\n",
      "       2.25, 2.25, 2.25, 2.25, 2.25, 2.25, 2.25, 2.25, 2.25, 2.25, 2.25,\n",
      "       2.25, 2.25, 2.25, 2.25, 2.25, 2.25, 2.25, 2.25, 2.25])\n"
     ]
    }
   ],
   "source": [
    "print(res)"
   ]
  },
  {
   "cell_type": "code",
   "execution_count": 124,
   "metadata": {},
   "outputs": [],
   "source": [
    "b = matrix(b_ineq)\n",
    "A = matrix(A_ineq)\n",
    "c = matrix(obj_coefs, tc='d')"
   ]
  },
  {
   "cell_type": "code",
   "execution_count": 125,
   "metadata": {},
   "outputs": [
    {
     "name": "stdout",
     "output_type": "stream",
     "text": [
      "     pcost       dcost       gap    pres   dres   k/t\n",
      " 0: -2.4665e+04 -3.0332e+04  3e+03  1e-01  2e-01  1e+00\n",
      " 1: -2.4445e+04 -2.8348e+04  2e+03  8e-02  2e-01  2e+01\n",
      " 2: -2.3656e+04 -2.6384e+04  3e+03  6e-02  1e-01  3e+01\n",
      " 3: -2.2425e+04 -2.2650e+04  5e+02  5e-03  1e-02  2e+01\n",
      " 4: -2.2277e+04 -2.2281e+04  8e+00  7e-05  1e-04  3e-01\n",
      " 5: -2.2275e+04 -2.2275e+04  8e-02  7e-07  1e-06  3e-03\n",
      " 6: -2.2275e+04 -2.2275e+04  8e-04  7e-09  1e-08  3e-05\n",
      "Optimal solution found.\n"
     ]
    }
   ],
   "source": [
    "sol = solvers.lp(c, A, b)"
   ]
  },
  {
   "cell_type": "code",
   "execution_count": 126,
   "metadata": {},
   "outputs": [
    {
     "name": "stdout",
     "output_type": "stream",
     "text": [
      "[ 2.25e+00]\n",
      "[ 2.25e+00]\n",
      "[ 2.25e+00]\n",
      "[ 2.25e+00]\n",
      "[ 2.25e+00]\n",
      "[ 2.25e+00]\n",
      "[ 2.25e+00]\n",
      "[ 2.25e+00]\n",
      "[ 2.25e+00]\n",
      "[ 2.25e+00]\n",
      "[ 2.25e+00]\n",
      "[ 2.25e+00]\n",
      "[ 2.25e+00]\n",
      "[ 2.25e+00]\n",
      "[ 2.25e+00]\n",
      "[ 2.25e+00]\n",
      "[ 2.25e+00]\n",
      "[ 2.25e+00]\n",
      "[ 2.25e+00]\n",
      "[ 2.25e+00]\n",
      "[ 2.25e+00]\n",
      "[ 2.25e+00]\n",
      "[ 2.25e+00]\n",
      "[ 2.25e+00]\n",
      "[ 2.25e+00]\n",
      "[ 2.25e+00]\n",
      "[ 2.25e+00]\n",
      "[ 2.25e+00]\n",
      "[ 2.25e+00]\n",
      "[ 2.25e+00]\n",
      "[ 2.25e+00]\n",
      "[ 2.25e+00]\n",
      "[ 2.25e+00]\n",
      "[ 2.25e+00]\n",
      "[ 2.25e+00]\n",
      "[ 2.25e+00]\n",
      "[ 2.25e+00]\n",
      "[ 2.25e+00]\n",
      "[ 2.25e+00]\n",
      "[ 2.25e+00]\n",
      "[ 2.25e+00]\n",
      "[ 2.25e+00]\n",
      "\n"
     ]
    }
   ],
   "source": [
    "print(sol['x'])"
   ]
  },
  {
   "cell_type": "code",
   "execution_count": null,
   "metadata": {},
   "outputs": [],
   "source": []
  }
 ],
 "metadata": {
  "kernelspec": {
   "display_name": "Python 3",
   "language": "python",
   "name": "python3"
  },
  "language_info": {
   "codemirror_mode": {
    "name": "ipython",
    "version": 3
   },
   "file_extension": ".py",
   "mimetype": "text/x-python",
   "name": "python",
   "nbconvert_exporter": "python",
   "pygments_lexer": "ipython3",
   "version": "3.7.7"
  }
 },
 "nbformat": 4,
 "nbformat_minor": 4
}
