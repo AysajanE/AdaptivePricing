{
 "cells": [
  {
   "cell_type": "code",
   "execution_count": 1,
   "metadata": {},
   "outputs": [],
   "source": [
    "# Compare three different algorithms: Dynamic Pricing, Adaptive Pricing, and FCFS\n",
    "# Use intercepts and slopes from initialization.py as starting point for linear demand curve\n",
    "# Dynamic Pricing: \n",
    "    # Retail Price Optimization at InterContinental Hotels Group. \n",
    "    # INFORMS Journal on Applied Analytics 42(1):45-57. \n",
    "    # https://doi.org/10.1287/inte.1110.0620\n",
    "\n",
    "# Adaptibe Pricing: Developed by me, adapted from:\n",
    "    # Revenue Management Without Forecasting or Optimization: An Adaptive Algorithm for Determining Airline Seat Protection Levels\n",
    "    # Management Science 46(6):760-775.\n",
    "    # https://doi.org/10.1287/mnsc.46.6.760.11936\n",
    "    \n",
    "# FCFS: First-Come, First-Serve"
   ]
  },
  {
   "cell_type": "code",
   "execution_count": 2,
   "metadata": {},
   "outputs": [],
   "source": [
    "import itertools\n",
    "import numpy as np\n",
    "from scipy.optimize import linprog\n",
    "from cvxopt import matrix, solvers, spmatrix\n",
    "from sklearn.linear_model import LinearRegression\n",
    "import matplotlib.pyplot as plt\n",
    "\n",
    "from initialize import linparams"
   ]
  },
  {
   "cell_type": "code",
   "execution_count": 3,
   "metadata": {},
   "outputs": [],
   "source": [
    "# Parameter values\n",
    "n_class = 2\n",
    "los = 3\n",
    "capacity = 50\n",
    "intensity = 1.5\n",
    "slope_init = np.array([-0.1, -0.15])\n",
    "rates_init = np.array([[135, 135, 135, 135, 135, 108, 108],\n",
    "                       [115, 115, 115, 115, 115, 92, 92]])\n",
    "combs = n_class * 7 * los"
   ]
  },
  {
   "cell_type": "code",
   "execution_count": 4,
   "metadata": {},
   "outputs": [],
   "source": [
    "# intercepts and slopes for rate class, arrival day of week and los combination\n",
    "params = linparams(capacity, intensity, slope_init, rates_init)"
   ]
  },
  {
   "cell_type": "code",
   "execution_count": 5,
   "metadata": {},
   "outputs": [],
   "source": [
    "# Starting parameters\n",
    "params_slopes = params[0]\n",
    "params_intercepts = params[1]"
   ]
  },
  {
   "cell_type": "code",
   "execution_count": 6,
   "metadata": {},
   "outputs": [
    {
     "data": {
      "text/plain": [
       "array([[[-0.05214334, -0.10577779, -0.08281085],\n",
       "        [-0.10717032, -0.07648435, -0.07894849],\n",
       "        [-0.0840614 , -0.0794162 , -0.06407827],\n",
       "        [-0.11011302, -0.09129206, -0.07715908],\n",
       "        [-0.06242003, -0.07844733, -0.08082723],\n",
       "        [-0.12932441, -0.09954261, -0.09987862],\n",
       "        [-0.07289733, -0.09943966, -0.09310046]],\n",
       "\n",
       "       [[-0.20080256, -0.1323451 , -0.10682807],\n",
       "        [-0.12603916, -0.10804363, -0.09130725],\n",
       "        [-0.14316521, -0.09202643, -0.09830205],\n",
       "        [-0.16671679, -0.1076695 , -0.08507253],\n",
       "        [-0.11504746, -0.10273544, -0.10389833],\n",
       "        [-0.16421323, -0.11944227, -0.09195448],\n",
       "        [-0.12111864, -0.09594896, -0.09979728]]])"
      ]
     },
     "execution_count": 6,
     "metadata": {},
     "output_type": "execute_result"
    }
   ],
   "source": [
    "params_slopes"
   ]
  },
  {
   "cell_type": "code",
   "execution_count": 7,
   "metadata": {},
   "outputs": [],
   "source": [
    "# Calculate averate rates for each arrival day of week and los combination\n",
    "rates_arrival_los = [[rates_init[i, j],\n",
    "                      rates_init[i, j] + rates_init[i, (j+1)%7],\n",
    "                      rates_init[i, j] + rates_init[i, (j+1)%7] + rates_init[i, (j+2)%7]] \n",
    "                      for i, j in itertools.product(range(n_class), range(7))]\n",
    "# Store it as a numpy array\n",
    "rates_arrival_los = np.array(rates_arrival_los).reshape(n_class, 7, los)"
   ]
  },
  {
   "cell_type": "code",
   "execution_count": 8,
   "metadata": {},
   "outputs": [
    {
     "data": {
      "text/plain": [
       "array([[[135, 270, 405],\n",
       "        [135, 270, 405],\n",
       "        [135, 270, 405],\n",
       "        [135, 270, 378],\n",
       "        [135, 243, 351],\n",
       "        [108, 216, 351],\n",
       "        [108, 243, 378]],\n",
       "\n",
       "       [[115, 230, 345],\n",
       "        [115, 230, 345],\n",
       "        [115, 230, 345],\n",
       "        [115, 230, 322],\n",
       "        [115, 207, 299],\n",
       "        [ 92, 184, 299],\n",
       "        [ 92, 207, 322]]])"
      ]
     },
     "execution_count": 8,
     "metadata": {},
     "output_type": "execute_result"
    }
   ],
   "source": [
    "rates_arrival_los"
   ]
  },
  {
   "cell_type": "code",
   "execution_count": 9,
   "metadata": {},
   "outputs": [
    {
     "data": {
      "text/plain": [
       "array([-135, -270, -405, -135, -270, -405, -135, -270, -405, -135, -270,\n",
       "       -378, -135, -243, -351, -108, -216, -351, -108, -243, -378, -115,\n",
       "       -230, -345, -115, -230, -345, -115, -230, -345, -115, -230, -322,\n",
       "       -115, -207, -299,  -92, -184, -299,  -92, -207, -322])"
      ]
     },
     "execution_count": 9,
     "metadata": {},
     "output_type": "execute_result"
    }
   ],
   "source": [
    "# Coefficients of objective function for LP\n",
    "obj_coefs = (-1) * rates_arrival_los.reshape(n_class * 7 * los)\n",
    "obj_coefs"
   ]
  },
  {
   "cell_type": "code",
   "execution_count": 10,
   "metadata": {},
   "outputs": [],
   "source": [
    "# Inequality equations, LHS\n",
    "# We have total number of 42 decision veriables, corresponding to total number of\n",
    "# rate class, arrival day of week and los combinations.\n",
    "# Column indexes 0-20 are associated with decision variables for rate class 1\n",
    "# Column indexes 21-41 are associated with decision variables for rate class 2\n",
    "G = np.zeros(7 * los * n_class * 7).reshape(7, n_class*7*los)\n",
    "# Arrivals that span Sunday stay night for rate class 1\n",
    "G[0,:(7*los)] = [1, 1, 1, 0, 0, 0, 0, 0, 0, 0, 0, 0, 0, 0, 0, 0, 0, 0, 0, 0, 0]\n",
    "# Arrivals that span Monday stay night for rate class 1\n",
    "G[1,:(7*los)] = [0, 1, 1, 1, 1, 1, 0, 0, 0, 0, 0, 0, 0, 0, 0, 0, 0, 0, 0, 0, 0]\n",
    "G[2,:(7*los)] = [0, 0, 1, 0, 1, 1, 1, 1, 1, 0, 0, 0, 0, 0, 0, 0, 0, 0, 0, 0, 0]\n",
    "G[3,:(7*los)] = [0, 0, 0, 0, 0, 1, 0, 1, 1, 1, 1, 1, 0, 0, 0, 0, 0, 0, 0, 0, 0]\n",
    "G[4,:(7*los)] = [0, 0, 0, 0, 0, 0, 0, 0, 1, 0, 1, 1, 1, 1, 1, 0, 0, 0, 0, 0, 0]\n",
    "G[5,:(7*los)] = [0, 0, 0, 0, 0, 0, 0, 0, 0, 0, 0, 1, 0, 1, 1, 1, 1, 1, 0, 0, 0]\n",
    "G[6,:(7*los)] = [0, 0, 0, 0, 0, 0, 0, 0, 0, 0, 0, 0, 0, 0, 1, 0, 1, 1, 1, 1, 1]\n",
    "# Arrivals that span Sunday stay night for rate class 2\n",
    "G[0,(7*los):] = [1, 1, 1, 0, 0, 0, 0, 0, 0, 0, 0, 0, 0, 0, 0, 0, 0, 0, 0, 0, 0]\n",
    "# Arrivals that span Monday stay night for rate class 2\n",
    "G[1,(7*los):] = [0, 1, 1, 1, 1, 1, 0, 0, 0, 0, 0, 0, 0, 0, 0, 0, 0, 0, 0, 0, 0]\n",
    "G[2,(7*los):] = [0, 0, 1, 0, 1, 1, 1, 1, 1, 0, 0, 0, 0, 0, 0, 0, 0, 0, 0, 0, 0]\n",
    "G[3,(7*los):] = [0, 0, 0, 0, 0, 1, 0, 1, 1, 1, 1, 1, 0, 0, 0, 0, 0, 0, 0, 0, 0]\n",
    "G[4,(7*los):] = [0, 0, 0, 0, 0, 0, 0, 0, 1, 0, 1, 1, 1, 1, 1, 0, 0, 0, 0, 0, 0]\n",
    "G[5,(7*los):] = [0, 0, 0, 0, 0, 0, 0, 0, 0, 0, 0, 1, 0, 1, 1, 1, 1, 1, 0, 0, 0]\n",
    "G[6,(7*los):] = [0, 0, 0, 0, 0, 0, 0, 0, 0, 0, 0, 0, 0, 0, 1, 0, 1, 1, 1, 1, 1]\n",
    "\n",
    "# identity matrix for expected demand constraints, G for capacity constraints,\n",
    "# Negative identity matrix for non-negativity\n",
    "G = np.concatenate((np.identity(combs), G, -np.identity(combs)), axis=0)\n",
    "# Inequality equations, RHS\n",
    "# For each rate class, number of arrivals for a stay night in question is half of\n",
    "# expected demand, which is capacity * intensity, then this expected demand is equally \n",
    "# split between 6 arrival day, los combination that spans the stay night in question\n",
    "expDemand_each = (capacity * intensity * 0.5) / 6\n",
    "h = np.round(expDemand_each, decimals=0) * np.ones(n_class * 7 * los)\n",
    "# First h for expected demand, second component for capacity rhs\n",
    "# Third component for non-negativity rhs.\n",
    "h = np.concatenate((h, capacity * np.ones(7), np.zeros(combs)), axis=0)"
   ]
  },
  {
   "cell_type": "code",
   "execution_count": 11,
   "metadata": {},
   "outputs": [
    {
     "data": {
      "text/plain": [
       "array([ 6.,  6.,  6.,  6.,  6.,  6.,  6.,  6.,  6.,  6.,  6.,  6.,  6.,\n",
       "        6.,  6.,  6.,  6.,  6.,  6.,  6.,  6.,  6.,  6.,  6.,  6.,  6.,\n",
       "        6.,  6.,  6.,  6.,  6.,  6.,  6.,  6.,  6.,  6.,  6.,  6.,  6.,\n",
       "        6.,  6.,  6., 50., 50., 50., 50., 50., 50., 50.,  0.,  0.,  0.,\n",
       "        0.,  0.,  0.,  0.,  0.,  0.,  0.,  0.,  0.,  0.,  0.,  0.,  0.,\n",
       "        0.,  0.,  0.,  0.,  0.,  0.,  0.,  0.,  0.,  0.,  0.,  0.,  0.,\n",
       "        0.,  0.,  0.,  0.,  0.,  0.,  0.,  0.,  0.,  0.,  0.,  0.,  0.])"
      ]
     },
     "execution_count": 11,
     "metadata": {},
     "output_type": "execute_result"
    }
   ],
   "source": [
    "h"
   ]
  },
  {
   "cell_type": "code",
   "execution_count": 12,
   "metadata": {},
   "outputs": [],
   "source": [
    "# Convert numpy arrays to cvxopt matrix forms\n",
    "c = matrix(obj_coefs, tc='d')\n",
    "G = matrix(G)\n",
    "h = matrix(h)"
   ]
  },
  {
   "cell_type": "code",
   "execution_count": 13,
   "metadata": {},
   "outputs": [
    {
     "name": "stdout",
     "output_type": "stream",
     "text": [
      "     pcost       dcost       gap    pres   dres   k/t\n",
      " 0: -4.3576e+04 -1.0770e+05  5e+04  1e-01  8e-01  1e+00\n",
      " 1: -4.4750e+04 -7.3030e+04  2e+04  7e-02  4e-01  5e+01\n",
      " 2: -4.5974e+04 -5.1996e+04  3e+03  1e-02  8e-02  2e+01\n",
      " 3: -4.6445e+04 -4.7593e+04  6e+02  3e-03  1e-02  3e+00\n",
      " 4: -4.6520e+04 -4.6801e+04  2e+02  7e-04  4e-03  1e+00\n",
      " 5: -4.6547e+04 -4.6554e+04  3e+00  1e-05  8e-05  3e-02\n",
      " 6: -4.6548e+04 -4.6548e+04  3e-02  1e-07  8e-07  3e-04\n",
      " 7: -4.6548e+04 -4.6548e+04  3e-04  1e-09  8e-09  3e-06\n",
      "Optimal solution found.\n"
     ]
    }
   ],
   "source": [
    "# Solve LP, method = \"interior point method\" by default\n",
    "# Results are used for initialization purpose (warm start), so it should\n",
    "# not affect final algorithm performance after an efficient number of runs\n",
    "sol = solvers.lp(c, G, h)"
   ]
  },
  {
   "cell_type": "code",
   "execution_count": 14,
   "metadata": {},
   "outputs": [
    {
     "data": {
      "text/plain": [
       "array([[[6., 6., 6.],\n",
       "        [6., 6., 6.],\n",
       "        [6., 6., 6.],\n",
       "        [6., 6., 6.],\n",
       "        [6., 6., 6.],\n",
       "        [6., 6., 6.],\n",
       "        [2., 6., 6.]],\n",
       "\n",
       "       [[6., 6., 6.],\n",
       "        [4., 2., 2.],\n",
       "        [1., 1., 2.],\n",
       "        [3., 3., 3.],\n",
       "        [3., 3., 0.],\n",
       "        [2., 0., 6.],\n",
       "        [0., 6., 6.]]])"
      ]
     },
     "execution_count": 14,
     "metadata": {},
     "output_type": "execute_result"
    }
   ],
   "source": [
    "# Optimal solutions serve as booking limits: number of booking requests to accept for \n",
    "# a given rate class, arrival day, los combination\n",
    "bkLimits = np.array(sol['x']).reshape(n_class, 7, los)\n",
    "bkLimits = np.round(bkLimits, decimals=0)\n",
    "bkLimits"
   ]
  },
  {
   "cell_type": "code",
   "execution_count": 15,
   "metadata": {},
   "outputs": [
    {
     "data": {
      "text/plain": [
       "array([[[135., 155., 175.],\n",
       "        [ 20.,  40.,  60.],\n",
       "        [ 20.,  40.,  60.],\n",
       "        [ 20.,  40.,  56.],\n",
       "        [ 20.,  36.,  36.],\n",
       "        [ 16.,  16., 151.],\n",
       "        [  0., 135., 270.]],\n",
       "\n",
       "       [[115., 115., 115.],\n",
       "        [  0.,   0.,   0.],\n",
       "        [  0.,   0.,   0.],\n",
       "        [  0.,   0.,   0.],\n",
       "        [  0.,   0.,   0.],\n",
       "        [  0.,   0.,  99.],\n",
       "        [  0.,  99., 214.]]])"
      ]
     },
     "execution_count": 15,
     "metadata": {},
     "output_type": "execute_result"
    }
   ],
   "source": [
    "# Dual values associated with demand constraints\n",
    "# Represent marginal contribution for the stay night revenue\n",
    "duals = np.array(sol['z'])[:(n_class*7*los)].reshape(n_class, 7, los)\n",
    "duals = np.round(duals, decimals=0)\n",
    "duals"
   ]
  },
  {
   "cell_type": "code",
   "execution_count": 16,
   "metadata": {},
   "outputs": [],
   "source": [
    "# '012' represents rate class 1, Monday arrival and 3-night stay\n",
    "sun_stay_index = ['000', '001', '002', '061', '062', '052', \n",
    "            '100', '101', '102', '161', '162', '152']\n",
    "\n",
    "mon_stay_index = ['010', '011', '012', '001', '002', '062', \n",
    "            '110', '111', '112', '101', '102', '162']\n",
    "\n",
    "tue_stay_index = ['020', '021', '022', '011', '012', '002', \n",
    "            '120', '121', '122', '111', '112', '102']\n",
    "\n",
    "wed_stay_index = ['030', '031', '032', '021', '022', '012', \n",
    "            '130', '131', '132', '121', '122', '112']\n",
    "\n",
    "thr_stay_index = ['040', '041', '042', '031', '032', '022', \n",
    "            '140', '141', '142', '131', '132', '122']\n",
    "\n",
    "fri_stay_index = ['050', '051', '052', '041', '042', '032', \n",
    "            '150', '151', '152', '141', '142', '132']\n",
    "\n",
    "sat_stay_index = ['060', '061', '062', '051', '052', '042', \n",
    "            '160', '161', '162', '151', '152', '142']"
   ]
  },
  {
   "cell_type": "code",
   "execution_count": 17,
   "metadata": {},
   "outputs": [],
   "source": [
    "sun_duals = [duals[int(item[0]), int(item[1]), int(item[2])] for item in sun_stay_index]\n",
    "sun_duals_max = np.max(sun_duals)\n",
    "max_buckets = 5\n",
    "sun_duals_interval = sun_duals_max / max_buckets\n",
    "bucket = []\n",
    "n_buckets = 1\n",
    "for item in sun_stay_index:\n",
    "    # rate class\n",
    "    r_index = int(item[0])\n",
    "    # arrival day of week\n",
    "    a_index = int(item[1])\n",
    "    # duration (los)\n",
    "    d_index = int(item[2])\n",
    "    "
   ]
  },
  {
   "cell_type": "code",
   "execution_count": null,
   "metadata": {},
   "outputs": [],
   "source": []
  }
 ],
 "metadata": {
  "kernelspec": {
   "display_name": "Python 3",
   "language": "python",
   "name": "python3"
  },
  "language_info": {
   "codemirror_mode": {
    "name": "ipython",
    "version": 3
   },
   "file_extension": ".py",
   "mimetype": "text/x-python",
   "name": "python",
   "nbconvert_exporter": "python",
   "pygments_lexer": "ipython3",
   "version": "3.7.7"
  }
 },
 "nbformat": 4,
 "nbformat_minor": 4
}
