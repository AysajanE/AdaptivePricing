{
 "cells": [
  {
   "cell_type": "code",
   "execution_count": 1,
   "metadata": {},
   "outputs": [],
   "source": [
    "# Compare three different algorithms: Dynamic Pricing, Adaptive Pricing, and FCFS\n",
    "# Use intercepts and slopes from initialization.py as starting point for linear demand curve\n",
    "# Dynamic Pricing: \n",
    "    # Retail Price Optimization at InterContinental Hotels Group. \n",
    "    # INFORMS Journal on Applied Analytics 42(1):45-57. \n",
    "    # https://doi.org/10.1287/inte.1110.0620\n",
    "\n",
    "# Adaptibe Pricing: Developed by me, adapted from:\n",
    "    # Revenue Management Without Forecasting or Optimization: An Adaptive Algorithm for Determining Airline Seat Protection Levels\n",
    "    # Management Science 46(6):760-775.\n",
    "    # https://doi.org/10.1287/mnsc.46.6.760.11936\n",
    "    \n",
    "# FCFS: First-Come, First-Serve"
   ]
  },
  {
   "cell_type": "code",
   "execution_count": 2,
   "metadata": {},
   "outputs": [],
   "source": [
    "import itertools\n",
    "from operator import itemgetter\n",
    "import numpy as np\n",
    "from scipy.stats import norm\n",
    "from scipy.stats import poisson\n",
    "from cvxopt import matrix, solvers, spmatrix\n",
    "\n",
    "# Import linear demand curve coefficients and initialized paratemers \n",
    "from initialize import initialize\n",
    "from genregparam import linparams\n",
    "\n",
    "np.set_printoptions(precision=2, suppress=True)"
   ]
  },
  {
   "cell_type": "code",
   "execution_count": 3,
   "metadata": {},
   "outputs": [],
   "source": [
    "# Parameters for simulation study\n",
    "n_class = 2\n",
    "los = 3\n",
    "capacity = 50\n",
    "intensity = 1.5\n",
    "slopes_init = np.array([-0.1, -0.15])\n",
    "rates_init = np.array([[135, 135, 135, 135, 135, 108, 108],\n",
    "                       [115, 115, 115, 115, 115, 92, 92]])\n",
    "\n",
    "# Total combinations of arrivals\n",
    "combs = n_class * 7 * los"
   ]
  },
  {
   "cell_type": "code",
   "execution_count": 4,
   "metadata": {},
   "outputs": [],
   "source": [
    "# Partitioned protection levels, nested protection levels, representative revenue, and\n",
    "# discount ration for each virtual bucket, each stay night\n",
    "buckets, pl_prt, pl, rates_vir, ratios = initialize(capacity, intensity, rates_init)\n",
    "slopes, intercepts = linparams(capacity, intensity, slopes_init, rates_init)"
   ]
  },
  {
   "cell_type": "code",
   "execution_count": 5,
   "metadata": {},
   "outputs": [],
   "source": [
    "# Calculate averate rates for each arrival day of week and los combination\n",
    "rates_arrival_los = [[rates_init[i, j],\n",
    "                      rates_init[i, j] + rates_init[i, (j+1)%7],\n",
    "                      rates_init[i, j] + rates_init[i, (j+1)%7] + rates_init[i, (j+2)%7]] \n",
    "                      for i, j in itertools.product(range(n_class), range(7))]\n",
    "# Store it as a numpy array\n",
    "rates_arrival_los = np.array(rates_arrival_los).reshape(n_class, 7, los)"
   ]
  },
  {
   "cell_type": "code",
   "execution_count": 6,
   "metadata": {},
   "outputs": [],
   "source": [
    "# Generate mean demand for poisson arrivals for each rate, arrival day, and los combination\n",
    "mus = intercepts + slopes * rates_arrival_los\n",
    "mus = np.round(mus, 0)"
   ]
  },
  {
   "cell_type": "code",
   "execution_count": 7,
   "metadata": {},
   "outputs": [],
   "source": [
    "# Flatten arrays for quadratic programming formulation\n",
    "slopes_flat = slopes.reshape(n_class * 7 * los)\n",
    "intercepts_flat = intercepts.reshape(n_class * 7 * los)"
   ]
  },
  {
   "cell_type": "code",
   "execution_count": 8,
   "metadata": {},
   "outputs": [],
   "source": [
    "# Inequality equations, LHS\n",
    "# We have total number of 42 decision veriables, corresponding to total number of\n",
    "# rate class, arrival day of week and los combinations.\n",
    "# Column indexes 0-20 are associated with decision variables for rate class 1\n",
    "# Column indexes 21-41 are associated with decision variables for rate class 2\n",
    "G = np.zeros(7 * los * n_class * 7).reshape(7, n_class*7*los)\n",
    "# Arrivals that span Sunday stay night for rate class 1\n",
    "G[0,:(7*los)] = [1, 1, 1, 0, 0, 0, 0, 0, 0, 0, 0, 0, 0, 0, 0, 0, 0, 0, 0, 0, 0]\n",
    "# Arrivals that span Monday stay night for rate class 1\n",
    "G[1,:(7*los)] = [0, 1, 1, 1, 1, 1, 0, 0, 0, 0, 0, 0, 0, 0, 0, 0, 0, 0, 0, 0, 0]\n",
    "G[2,:(7*los)] = [0, 0, 1, 0, 1, 1, 1, 1, 1, 0, 0, 0, 0, 0, 0, 0, 0, 0, 0, 0, 0]\n",
    "G[3,:(7*los)] = [0, 0, 0, 0, 0, 1, 0, 1, 1, 1, 1, 1, 0, 0, 0, 0, 0, 0, 0, 0, 0]\n",
    "G[4,:(7*los)] = [0, 0, 0, 0, 0, 0, 0, 0, 1, 0, 1, 1, 1, 1, 1, 0, 0, 0, 0, 0, 0]\n",
    "G[5,:(7*los)] = [0, 0, 0, 0, 0, 0, 0, 0, 0, 0, 0, 1, 0, 1, 1, 1, 1, 1, 0, 0, 0]\n",
    "G[6,:(7*los)] = [0, 0, 0, 0, 0, 0, 0, 0, 0, 0, 0, 0, 0, 0, 1, 0, 1, 1, 1, 1, 1]\n",
    "# Arrivals that span Sunday stay night for rate class 2\n",
    "G[0,(7*los):] = [1, 1, 1, 0, 0, 0, 0, 0, 0, 0, 0, 0, 0, 0, 0, 0, 0, 0, 0, 0, 0]\n",
    "# Arrivals that span Monday stay night for rate class 2\n",
    "G[1,(7*los):] = [0, 1, 1, 1, 1, 1, 0, 0, 0, 0, 0, 0, 0, 0, 0, 0, 0, 0, 0, 0, 0]\n",
    "G[2,(7*los):] = [0, 0, 1, 0, 1, 1, 1, 1, 1, 0, 0, 0, 0, 0, 0, 0, 0, 0, 0, 0, 0]\n",
    "G[3,(7*los):] = [0, 0, 0, 0, 0, 1, 0, 1, 1, 1, 1, 1, 0, 0, 0, 0, 0, 0, 0, 0, 0]\n",
    "G[4,(7*los):] = [0, 0, 0, 0, 0, 0, 0, 0, 1, 0, 1, 1, 1, 1, 1, 0, 0, 0, 0, 0, 0]\n",
    "G[5,(7*los):] = [0, 0, 0, 0, 0, 0, 0, 0, 0, 0, 0, 1, 0, 1, 1, 1, 1, 1, 0, 0, 0]\n",
    "G[6,(7*los):] = [0, 0, 0, 0, 0, 0, 0, 0, 0, 0, 0, 0, 0, 0, 1, 0, 1, 1, 1, 1, 1]\n",
    "\n",
    "h1 = intercepts_flat * G"
   ]
  },
  {
   "cell_type": "code",
   "execution_count": 9,
   "metadata": {},
   "outputs": [],
   "source": [
    "# Here, be careful. For the capacity constraints, LHS is sum of demands that span\n",
    "# a specific stay night in question. But decision variables for quadratic programming\n",
    "# are rates. \n",
    "# demand1 + demand2 + demand3 = intercept1 + slope1 * rate1 + intercept2 + slope2 * rate2 + \n",
    "# intercept3 + slope3 * rate3 <= capacity\n",
    "# --> slope1*rate1 + slope2*rate2 + slope3*rate3 <= capacity - (intercept1+intercept2+intercept3)\n",
    "h1 = np.sum(h1, axis=1)\n",
    "# G for capacity constraints, Negative identity matrix for non-negativity\n",
    "G = slopes_flat * G\n",
    "G = np.concatenate((G, -np.identity(combs)), axis=0)\n",
    "# Inequality equations, RHS\n",
    "# First h for capacity rhs and second component for non-negativity rhs.\n",
    "h = np.concatenate((capacity * np.ones(7) - h1, np.zeros(combs)), axis=0)"
   ]
  },
  {
   "cell_type": "code",
   "execution_count": 10,
   "metadata": {},
   "outputs": [],
   "source": [
    "# This part is a little bit tedious, but I couldn't find an elegant way of doing it\n",
    "# Purpose of this section is to make sure optimal rates for e.g., Monday arrival two-night \n",
    "# stay is equal to optimal rate for Monday arrival one-night stay and Tuesday arrival one-\n",
    "# night stay. This is how the rates are calculated in hotel industry for multiple nights stay.\n",
    "# It is different from airline pricing with multiple legs.\n",
    "arr1 = [3*i for i in range(14)]\n",
    "arr2 = [(3*i) for i in range(1, 7)] + [0] + [(3*i) % 42 for i in range(8, 14)] + [21]\n",
    "arr3 = [3*(i+2) % 21 for i in range(7)] + [3*(i+2) for i in range(7, 12)] + [21] + [24]\n",
    "arr4 = np.concatenate((np.arange(1, 41, 3), np.arange(2, 42, 3))).tolist()\n",
    "els = np.concatenate((np.repeat(1.0, 70), np.repeat(-1, 28)))\n",
    "A = spmatrix(els, np.concatenate((range(28), range(28), range(14, 28), range(28))).tolist(), \n",
    "             arr1 + arr1 + arr2 + arr2 + arr3 + arr4)\n",
    "b = matrix(np.zeros(28))"
   ]
  },
  {
   "cell_type": "code",
   "execution_count": 11,
   "metadata": {},
   "outputs": [],
   "source": [
    "# Quadratic programming\n",
    "#                  minimize (1/2)x_T*Q*x + p_T*x\n",
    "#                  subject to G*x <= h\n",
    "#                             A*x = b\n",
    "slopes_diag = np.diag(slopes_flat)\n",
    "Q = 2 * matrix(-slopes_diag)\n",
    "p = matrix(-intercepts_flat)\n",
    "\n",
    "# Convert numpy arrays to cvxopt matrix forms\n",
    "G = matrix(G)\n",
    "h = matrix(h)"
   ]
  },
  {
   "cell_type": "code",
   "execution_count": 12,
   "metadata": {},
   "outputs": [
    {
     "name": "stdout",
     "output_type": "stream",
     "text": [
      "{'x': <42x1 matrix, tc='d'>, 'y': <28x1 matrix, tc='d'>, 's': <49x1 matrix, tc='d'>, 'z': <49x1 matrix, tc='d'>, 'status': 'optimal', 'gap': 0.02219480980317204, 'relative gap': 4.605552276806852e-07, 'primal objective': -48191.4186816272, 'dual objective': -48191.440876437024, 'primal infeasibility': 1.3101760682293512e-13, 'dual infeasibility': 2.8391552314940973e-16, 'primal slack': 2.741605610475992e-06, 'dual slack': 7.275662333109687e-07, 'iterations': 5}\n"
     ]
    }
   ],
   "source": [
    "# Solve quadratic programming\n",
    "sol = solvers.qp(Q, p, G, h, A, b)\n",
    "print(sol)"
   ]
  },
  {
   "cell_type": "code",
   "execution_count": 13,
   "metadata": {},
   "outputs": [],
   "source": [
    "rates_DP = np.array(sol['x']).reshape(n_class, 7, los)\n",
    "rates_DP = np.round(rates_DP, 0)"
   ]
  },
  {
   "cell_type": "code",
   "execution_count": 14,
   "metadata": {},
   "outputs": [
    {
     "data": {
      "text/plain": [
       "array([[[105., 252., 405.],\n",
       "        [147., 300., 437.],\n",
       "        [153., 289., 428.],\n",
       "        [136., 275., 385.],\n",
       "        [138., 249., 383.],\n",
       "        [111., 245., 350.],\n",
       "        [134., 239., 386.]],\n",
       "\n",
       "       [[102., 235., 372.],\n",
       "        [133., 271., 396.],\n",
       "        [138., 263., 391.],\n",
       "        [125., 253., 358.],\n",
       "        [128., 233., 357.],\n",
       "        [105., 229., 331.],\n",
       "        [124., 226., 359.]]])"
      ]
     },
     "execution_count": 14,
     "metadata": {},
     "output_type": "execute_result"
    }
   ],
   "source": [
    "rates_DP"
   ]
  },
  {
   "cell_type": "code",
   "execution_count": 15,
   "metadata": {},
   "outputs": [],
   "source": [
    "# Initialize rates for adaptive pricing algorithm and first-come, first-serve approach\n",
    "rates_AP = rates_arrival_los\n",
    "rates_FCFS = rates_arrival_los\n",
    "# DAF indicates order of rates as dynamic pricing rates, adaptive pricing rates, and FCFS rates\n",
    "rates_DAF = [rates_DP, rates_AP, rates_FCFS]\n",
    "\n",
    "# Generate nonhomogenous Poisson process true bookings (i.e., customer demand) on a weekly basis\n",
    "# the mean of the Poisson process will be equal to the linear demand curve function of the room rates\n",
    "mus_DAF = [np.maximum(intercepts + slopes * rates, 0) for rates in rates_DAF]\n",
    "\n",
    "demand_DAF = [[poisson.rvs(mu, size=1) for mu in np.nditer(mus_each)] for mus_each in mus_DAF]\n",
    "demand_DAF = [np.array(x).reshape(n_class, 7, los) for x in demand_DAF]"
   ]
  },
  {
   "cell_type": "code",
   "execution_count": 16,
   "metadata": {},
   "outputs": [],
   "source": [
    "# Consider first week, Sunday stay night\n",
    "buckets_sun = [[rda for rda in rdas if rda[1] == 0] for rdas in buckets[0]]\n",
    "capacity_left = [capacity] * 3\n",
    "sold_DAF = []\n",
    "for rdas in reversed(buckets_sun):\n",
    "    sold_bucket = []\n",
    "    for rda in rdas:\n",
    "        sold = [min(demand_DAF[i][rda], capacity_left[i]) for i in range(len(demand_DAF))]\n",
    "        revenue = [rates_DAF[i][rda] * sold[i] for i in range(len(demand_DAF))]\n",
    "        sold_bucket.append((rda, sold, revenue))\n",
    "        capacity_left = [capacity_left[i]-sold[i] for i in range(len(sold))]\n",
    "    sold_DAF.append(sold_bucket)\n",
    "    \n",
    "# Remove empty lists\n",
    "sold_DAF = list(filter(None, sold_DAF))"
   ]
  },
  {
   "cell_type": "code",
   "execution_count": 17,
   "metadata": {},
   "outputs": [
    {
     "data": {
      "text/plain": [
       "[[((0, 0, 1), [9, 8, 7], [2268.0, 2160, 1890]),\n",
       "  ((0, 0, 0), [14, 8, 11], [1470.0, 1080, 1485]),\n",
       "  ((1, 0, 0), [13, 9, 15], [1326.0, 1035, 1725]),\n",
       "  ((1, 0, 1), [3, 5, 6], [705.0, 1150, 1380]),\n",
       "  ((1, 0, 2), [6, 6, 6], [2232.0, 2070, 2070])],\n",
       " [((0, 0, 2), [4, 4, 5], [1620.0, 1620, 2025])]]"
      ]
     },
     "execution_count": 17,
     "metadata": {},
     "output_type": "execute_result"
    }
   ],
   "source": [
    "sold_DAF"
   ]
  },
  {
   "cell_type": "code",
   "execution_count": null,
   "metadata": {},
   "outputs": [],
   "source": []
  }
 ],
 "metadata": {
  "kernelspec": {
   "display_name": "Python 3",
   "language": "python",
   "name": "python3"
  },
  "language_info": {
   "codemirror_mode": {
    "name": "ipython",
    "version": 3
   },
   "file_extension": ".py",
   "mimetype": "text/x-python",
   "name": "python",
   "nbconvert_exporter": "python",
   "pygments_lexer": "ipython3",
   "version": "3.7.7"
  }
 },
 "nbformat": 4,
 "nbformat_minor": 4
}
