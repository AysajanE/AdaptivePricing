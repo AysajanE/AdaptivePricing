{
 "cells": [
  {
   "cell_type": "code",
   "execution_count": 1,
   "metadata": {},
   "outputs": [],
   "source": [
    "# Compare three different algorithms: Dynamic Pricing, Adaptive Pricing, and FCFS\n",
    "# Use intercepts and slopes from initialization.py as starting point for linear demand curve\n",
    "# Dynamic Pricing: \n",
    "    # Retail Price Optimization at InterContinental Hotels Group. \n",
    "    # INFORMS Journal on Applied Analytics 42(1):45-57. \n",
    "    # https://doi.org/10.1287/inte.1110.0620\n",
    "\n",
    "# Adaptibe Pricing: Developed by me, adapted from:\n",
    "    # Revenue Management Without Forecasting or Optimization: An Adaptive Algorithm for Determining Airline Seat Protection Levels\n",
    "    # Management Science 46(6):760-775.\n",
    "    # https://doi.org/10.1287/mnsc.46.6.760.11936\n",
    "    \n",
    "# FCFS: First-Come, First-Serve"
   ]
  },
  {
   "cell_type": "code",
   "execution_count": 2,
   "metadata": {},
   "outputs": [],
   "source": [
    "import itertools\n",
    "from operator import itemgetter\n",
    "import numpy as np\n",
    "from scipy.stats import norm\n",
    "from scipy.stats import poisson\n",
    "from cvxopt import matrix, solvers, spmatrix\n",
    "\n",
    "# Import linear demand curve coefficients and initialized paratemers \n",
    "from initialize import initialize\n",
    "from genregparam import linparams\n",
    "from RADs import stay_index\n",
    "\n",
    "np.set_printoptions(precision=2, suppress=True)"
   ]
  },
  {
   "cell_type": "code",
   "execution_count": 3,
   "metadata": {},
   "outputs": [],
   "source": [
    "# Booking classes for each stay night for week 1\n",
    "# There is no Saturday or Friday arrivals that span Sunday night if it is week 1\n",
    "# Similarly, there is no Saturday arrivals that span Monday night in week 1\n",
    "stay_index_wk1 = [(0, 0, 0), (0, 0, 1), (0, 0, 2), (1, 0, 0), (1, 0, 1), (1, 0, 2)]\n",
    "mon_stay_index_wk1 = [(0, 1, 0), (0, 1, 1), (0, 1, 2), (0, 0, 1), (0, 0, 2), \n",
    "                     (1, 1, 0), (1, 1, 1), (1, 1, 2), (1, 0, 1), (1, 0, 2)]\n",
    "stay_index_wk1 = [stay_index_wk1, mon_stay_index_wk1] + stay_index[2:]"
   ]
  },
  {
   "cell_type": "code",
   "execution_count": 4,
   "metadata": {},
   "outputs": [],
   "source": [
    "# Parameters for simulation study\n",
    "weeks = 52\n",
    "n_class = 2\n",
    "los = 3\n",
    "capacity = 100\n",
    "intensity = 1.5\n",
    "slopes_init = np.array([-0.1, -0.15])\n",
    "rates_init = np.array([[135, 135, 135, 135, 135, 108, 108],\n",
    "                       [115, 115, 115, 115, 115, 92, 92]])\n",
    "\n",
    "# For adaptive pricing algorithm, we have two parameters for step size: param1 and param2\n",
    "param1, param2 = 200, 10\n",
    "\n",
    "# Total combinations of arrivals\n",
    "combs = n_class * 7 * los"
   ]
  },
  {
   "cell_type": "code",
   "execution_count": 5,
   "metadata": {},
   "outputs": [],
   "source": [
    "# Partitioned protection levels, nested protection levels, representative revenue, and\n",
    "# discount ration for each virtual bucket, each stay night\n",
    "buckets, thetas_prt, thetas, rates_vir, ratios = initialize(capacity, intensity, rates_init)\n",
    "slopes, intercepts = linparams(capacity, intensity, slopes_init, rates_init)"
   ]
  },
  {
   "cell_type": "code",
   "execution_count": 6,
   "metadata": {},
   "outputs": [
    {
     "data": {
      "text/plain": [
       "[array([ 12.,  36., 100.]),\n",
       " array([12., 36., 72., 96.]),\n",
       " array([12., 24., 72., 84.]),\n",
       " array([36., 60., 72.]),\n",
       " array([24., 60., 72.]),\n",
       " array([12., 24., 36., 60.]),\n",
       " array([12., 24., 48., 72.])]"
      ]
     },
     "execution_count": 6,
     "metadata": {},
     "output_type": "execute_result"
    }
   ],
   "source": [
    "thetas_old = [np.minimum(thetas[i], capacity)[:-1] for i in range(7)]\n",
    "thetas_old"
   ]
  },
  {
   "cell_type": "code",
   "execution_count": 7,
   "metadata": {},
   "outputs": [],
   "source": [
    "# List all the buckets that a booking class belongs to\n",
    "# These buckets could span multiple stay nights\n",
    "bkClass_bkt = []\n",
    "for i in range(len(buckets)):\n",
    "    for j in range(len(buckets[i])):\n",
    "        for item in buckets[i][j]:\n",
    "            bkClass_bkt.append((item, (i, j)))\n",
    "            \n",
    "# Define a function to calculate rates for multiple stay nights\n",
    "def moving_sum(a, n):\n",
    "    ret = np.cumsum(a, dtype=float)\n",
    "    ret[n:] = ret[n:] - ret[:-n]\n",
    "    return ret[n-1:] "
   ]
  },
  {
   "cell_type": "code",
   "execution_count": 8,
   "metadata": {},
   "outputs": [],
   "source": [
    "# In current week, store rates for current week and next week\n",
    "wk1_rates_AP = rates_init\n",
    "wk2_rates_AP = rates_init\n",
    "rates_for_two_weeks_AP = np.concatenate((wk1_rates_AP, wk2_rates_AP)).reshape(2, n_class, 7)\n",
    "# Derive rates for rate class of r, arrival day of d and length of stay of d\n",
    "rates_rad_old_AP = [[moving_sum(rates_for_two_weeks_AP[:, i].reshape(2*7), j)[:7] \n",
    "  for j in range(1, los+1)] \n",
    " for i in range(n_class)]\n",
    "# Convert to the right shape for later calculation\n",
    "rates_rad_old_AP = np.array(rates_rad_old_AP)\n",
    "rates_rad_old_AP = np.swapaxes(rates_rad_old_AP, 1, 2)\n",
    "\n",
    "# In current week, store rates for current week and next week\n",
    "wk1_rates_FCFS = rates_init\n",
    "wk2_rates_FCFS = rates_init\n",
    "rates_for_two_weeks_FCFS = np.concatenate((wk1_rates_FCFS, wk2_rates_FCFS)).reshape(2, n_class, 7)\n",
    "# Derive rates for rate class of r, arrival day of d and length of stay of d\n",
    "rates_rad_old_FCFS = [[moving_sum(rates_for_two_weeks_FCFS[:, i].reshape(2*7), j)[:7] \n",
    "  for j in range(1, los+1)] \n",
    " for i in range(n_class)]\n",
    "# Convert to the right shape for later calculation\n",
    "rates_rad_old_FCFS = np.array(rates_rad_old_FCFS)\n",
    "rates_rad_old_FCFS = np.swapaxes(rates_rad_old_FCFS, 1, 2)"
   ]
  },
  {
   "cell_type": "code",
   "execution_count": 9,
   "metadata": {},
   "outputs": [],
   "source": [
    "# Flatten arrays for quadratic programming formulation\n",
    "slopes_flat = slopes.reshape(n_class * 7 * los)\n",
    "intercepts_flat = intercepts.reshape(n_class * 7 * los)"
   ]
  },
  {
   "cell_type": "code",
   "execution_count": 10,
   "metadata": {},
   "outputs": [],
   "source": [
    "# Inequality equations, LHS\n",
    "# We have total number of 42 decision veriables, corresponding to total number of\n",
    "# rate class, arrival day of week and los combinations.\n",
    "# Column indexes 0-20 are associated with decision variables for rate class 1\n",
    "# Column indexes 21-41 are associated with decision variables for rate class 2\n",
    "G = np.zeros(7 * los * n_class * 7).reshape(7, n_class*7*los)\n",
    "# Arrivals that span Sunday stay night for rate class 1\n",
    "G[0,:(7*los)] = [1, 1, 1, 0, 0, 0, 0, 0, 0, 0, 0, 0, 0, 0, 0, 0, 0, 0, 0, 0, 0]\n",
    "# Arrivals that span Monday stay night for rate class 1\n",
    "G[1,:(7*los)] = [0, 1, 1, 1, 1, 1, 0, 0, 0, 0, 0, 0, 0, 0, 0, 0, 0, 0, 0, 0, 0]\n",
    "G[2,:(7*los)] = [0, 0, 1, 0, 1, 1, 1, 1, 1, 0, 0, 0, 0, 0, 0, 0, 0, 0, 0, 0, 0]\n",
    "G[3,:(7*los)] = [0, 0, 0, 0, 0, 1, 0, 1, 1, 1, 1, 1, 0, 0, 0, 0, 0, 0, 0, 0, 0]\n",
    "G[4,:(7*los)] = [0, 0, 0, 0, 0, 0, 0, 0, 1, 0, 1, 1, 1, 1, 1, 0, 0, 0, 0, 0, 0]\n",
    "G[5,:(7*los)] = [0, 0, 0, 0, 0, 0, 0, 0, 0, 0, 0, 1, 0, 1, 1, 1, 1, 1, 0, 0, 0]\n",
    "G[6,:(7*los)] = [0, 0, 0, 0, 0, 0, 0, 0, 0, 0, 0, 0, 0, 0, 1, 0, 1, 1, 1, 1, 1]\n",
    "# Arrivals that span Sunday stay night for rate class 2\n",
    "G[0,(7*los):] = [1, 1, 1, 0, 0, 0, 0, 0, 0, 0, 0, 0, 0, 0, 0, 0, 0, 0, 0, 0, 0]\n",
    "# Arrivals that span Monday stay night for rate class 2\n",
    "G[1,(7*los):] = [0, 1, 1, 1, 1, 1, 0, 0, 0, 0, 0, 0, 0, 0, 0, 0, 0, 0, 0, 0, 0]\n",
    "G[2,(7*los):] = [0, 0, 1, 0, 1, 1, 1, 1, 1, 0, 0, 0, 0, 0, 0, 0, 0, 0, 0, 0, 0]\n",
    "G[3,(7*los):] = [0, 0, 0, 0, 0, 1, 0, 1, 1, 1, 1, 1, 0, 0, 0, 0, 0, 0, 0, 0, 0]\n",
    "G[4,(7*los):] = [0, 0, 0, 0, 0, 0, 0, 0, 1, 0, 1, 1, 1, 1, 1, 0, 0, 0, 0, 0, 0]\n",
    "G[5,(7*los):] = [0, 0, 0, 0, 0, 0, 0, 0, 0, 0, 0, 1, 0, 1, 1, 1, 1, 1, 0, 0, 0]\n",
    "G[6,(7*los):] = [0, 0, 0, 0, 0, 0, 0, 0, 0, 0, 0, 0, 0, 0, 1, 0, 1, 1, 1, 1, 1]\n",
    "\n",
    "h1 = intercepts_flat * G"
   ]
  },
  {
   "cell_type": "code",
   "execution_count": 11,
   "metadata": {},
   "outputs": [],
   "source": [
    "# Here, be careful. For the capacity constraints, LHS is sum of demands that span\n",
    "# a specific stay night in question. But decision variables for quadratic programming\n",
    "# are rates. \n",
    "# demand1 + demand2 + demand3 = intercept1 + slope1 * rate1 + intercept2 + slope2 * rate2 + \n",
    "# intercept3 + slope3 * rate3 <= capacity\n",
    "# --> slope1*rate1 + slope2*rate2 + slope3*rate3 <= capacity - (intercept1+intercept2+intercept3)\n",
    "h1 = np.sum(h1, axis=1)\n",
    "# G for capacity constraints, Negative identity matrix for non-negativity\n",
    "G = slopes_flat * G\n",
    "G = np.concatenate((G, -np.identity(combs)), axis=0)\n",
    "# Inequality equations, RHS\n",
    "# First h for capacity rhs and second component for non-negativity rhs.\n",
    "h = np.concatenate((capacity * np.ones(7) - h1, np.zeros(combs)), axis=0)"
   ]
  },
  {
   "cell_type": "code",
   "execution_count": 12,
   "metadata": {},
   "outputs": [],
   "source": [
    "# This part is a little bit tedious, but I couldn't find an elegant way of doing it\n",
    "# Purpose of this section is to make sure optimal rates for e.g., Monday arrival two-night \n",
    "# stay is equal to optimal rate for Monday arrival one-night stay and Tuesday arrival one-\n",
    "# night stay. This is how the rates are calculated in hotel industry for multiple nights stay.\n",
    "# It is different from airline pricing with multiple legs.\n",
    "arr1 = [3*i for i in range(14)]\n",
    "arr2 = [(3*i) for i in range(1, 7)] + [0] + [(3*i) % 42 for i in range(8, 14)] + [21]\n",
    "arr3 = [3*(i+2) % 21 for i in range(7)] + [3*(i+2) for i in range(7, 12)] + [21] + [24]\n",
    "arr4 = np.concatenate((np.arange(1, 41, 3), np.arange(2, 42, 3))).tolist()\n",
    "els = np.concatenate((np.repeat(1.0, 70), np.repeat(-1, 28)))\n",
    "A = spmatrix(els, np.concatenate((range(28), range(28), range(14, 28), range(28))).tolist(), \n",
    "             arr1 + arr1 + arr2 + arr2 + arr3 + arr4)\n",
    "b = matrix(np.zeros(28))"
   ]
  },
  {
   "cell_type": "code",
   "execution_count": 13,
   "metadata": {},
   "outputs": [],
   "source": [
    "# Quadratic programming\n",
    "#                  minimize (1/2)x_T*Q*x + p_T*x\n",
    "#                  subject to G*x <= h\n",
    "#                             A*x = b\n",
    "slopes_diag = np.diag(slopes_flat)\n",
    "Q = 2 * matrix(-slopes_diag)\n",
    "p = matrix(-intercepts_flat)\n",
    "\n",
    "# Convert numpy arrays to cvxopt matrix forms\n",
    "G = matrix(G)\n",
    "h = matrix(h)"
   ]
  },
  {
   "cell_type": "code",
   "execution_count": 14,
   "metadata": {},
   "outputs": [
    {
     "name": "stdout",
     "output_type": "stream",
     "text": [
      "optimal\n"
     ]
    }
   ],
   "source": [
    "# Solve quadratic programming\n",
    "sol = solvers.qp(Q, p, G, h, A, b)\n",
    "print(sol['status'])"
   ]
  },
  {
   "cell_type": "code",
   "execution_count": 15,
   "metadata": {},
   "outputs": [],
   "source": [
    "rates_DP = np.array(sol['x']).reshape(n_class, 7, los)\n",
    "rates_DP = np.round(rates_DP, 0)"
   ]
  },
  {
   "cell_type": "code",
   "execution_count": 16,
   "metadata": {},
   "outputs": [
    {
     "data": {
      "text/plain": [
       "array([[[ 98., 253., 413.],\n",
       "        [154., 314., 461.],\n",
       "        [160., 307., 459.],\n",
       "        [147., 299., 424.],\n",
       "        [152., 277., 423.],\n",
       "        [125., 271., 370.],\n",
       "        [146., 244., 398.]],\n",
       "\n",
       "       [[ 79., 223., 354.],\n",
       "        [144., 275., 408.],\n",
       "        [131., 264., 391.],\n",
       "        [133., 260., 367.],\n",
       "        [127., 233., 363.],\n",
       "        [107., 237., 316.],\n",
       "        [130., 209., 353.]]])"
      ]
     },
     "execution_count": 16,
     "metadata": {},
     "output_type": "execute_result"
    }
   ],
   "source": [
    "# Check if the rates for multiple los is satisfied, one can look at rate for e.g., Sunday arrival\n",
    "# three night stay for rate class 1, $405, should equal to Sunday arrival one-night stay,\n",
    "# Monday arrival one-night stay, and Tuesday arrival, one-night stay.\n",
    "# And indeed 405 = 112 + 149 + 143 (exits rounding error, of course)\n",
    "rates_DP"
   ]
  },
  {
   "cell_type": "code",
   "execution_count": 17,
   "metadata": {},
   "outputs": [],
   "source": [
    "######################## Start Simulation ########################\n",
    "################################################################################################\n",
    "################################################################################################\n",
    "################################################################################################\n",
    "################################################################################################\n",
    "################################################################################################"
   ]
  },
  {
   "cell_type": "code",
   "execution_count": 18,
   "metadata": {},
   "outputs": [],
   "source": [
    "######################## Week 1 ########################\n",
    "# Initialize rates for adaptive pricing algorithm and first-come, first-serve approach\n",
    "rates_DP = rates_DP\n",
    "rates_AP = rates_rad_old_AP\n",
    "rates_FCFS = rates_rad_old_FCFS\n",
    "# Order of rates as dynamic pricing rates, adaptive pricing rates, and FCFS rates\n",
    "ratesAll = [rates_DP, rates_AP, rates_FCFS]\n",
    "\n",
    "# Generate nonhomogenous Poisson process true bookings (i.e., customer demand) on a weekly basis\n",
    "# the mean of the Poisson process will be equal to the linear demand curve function of the room rates\n",
    "mus = [np.maximum(intercepts + slopes * rates, 0) for rates in ratesAll]\n",
    "\n",
    "demands = [[poisson.rvs(mu, size=1) for mu in np.nditer(mus_each)] for mus_each in mus]\n",
    "demands = [np.array(x).reshape(n_class, 7, los) for x in demands]\n",
    "demands_old_FCFS = demands[2]\n",
    "demands_new_FCFS = demands[2]"
   ]
  },
  {
   "cell_type": "code",
   "execution_count": 20,
   "metadata": {},
   "outputs": [
    {
     "data": {
      "text/plain": [
       "array([90934., 70644., 79946.])"
      ]
     },
     "execution_count": 20,
     "metadata": {},
     "output_type": "execute_result"
    }
   ],
   "source": [
    "# Consider first week stay nights, our week starts on Sunday, not Monday\n",
    "nightlyRev = []\n",
    "wk1SellInfo = []\n",
    "wk1RoomSold_AP = []\n",
    "for i in range(7):\n",
    "    # Sunday of first week, there is no previous week Saturday or Friday arrival that span Sunday\n",
    "    if i == 0:\n",
    "        buckets_night = [[rad for rad in rads if rad[1] == 0] for rads in buckets[i]]\n",
    "    # Monday of first week, there is no previous week Saturday arrival that span Monday\n",
    "    elif i == 1:\n",
    "        buckets_night = [[rad for rad in rads if rad[1] != 6] for rads in buckets[i]]\n",
    "    else:\n",
    "        buckets_night = buckets[i]\n",
    "    # Three different algorithms, three different scenarios to consider\n",
    "    capacity_left = [capacity] * 3\n",
    "    # Info about the booking class type, rooms sold and revenues (single night revenue)\n",
    "    soldAll = []\n",
    "    roomSold_AP = []\n",
    "    # Reverse the buckets for each night under the assumption that low ranked booking\n",
    "    # classes arrive first\n",
    "    pl_idx = 0\n",
    "    for rads in reversed(buckets_night):\n",
    "        sold_bucket = []\n",
    "        sold_bucket_AP = 0\n",
    "        for rad in rads:\n",
    "            # For stay night revenue calculation, we only use one-night stay revenue, not\n",
    "            # multiple stay night total revenue\n",
    "            rad_single = (rad[0], i, 0)\n",
    "            # Rooms sold equals smaller of demand and capacity left\n",
    "            # Dynamic pricing\n",
    "            sold_DP = min(demands[0][rad], capacity_left[0])\n",
    "            # Adaptive pricing, the selling amount is constrained by the protection levels for higher classes\n",
    "            try:\n",
    "                BL_AP = max(capacity_left[1]-list(reversed(thetas_old[i]))[pl_idx], 0)\n",
    "            except IndexError:\n",
    "                BL_AP = capacity_left[1]\n",
    "            \n",
    "            sold_AP = min(demands[1][rad], BL_AP)\n",
    "            sold_bucket_AP += sold_AP\n",
    "            # First-come, first-serve\n",
    "            sold_FCFS = min(demands[2][rad], capacity_left[2])\n",
    "            \n",
    "            sold = [sold_DP, sold_AP, sold_FCFS]\n",
    "            \n",
    "            rev = [ratesAll[i][rad_single] * sold[i] for i in range(len(demands))]\n",
    "            sold_bucket.append((rad, sold, rev))\n",
    "            # Update remaining capacity for the next virtual class\n",
    "            capacity_left = [capacity_left[i]-sold[i] for i in range(len(sold))]\n",
    "        soldAll.append(sold_bucket)\n",
    "        roomSold_AP.append(sold_bucket_AP)\n",
    "        pl_idx += 1\n",
    "\n",
    "    # Remove empty lists\n",
    "    soldAll = list(filter(None, soldAll))\n",
    "    soldAll = list(itertools.chain.from_iterable(soldAll))\n",
    "    wk1SellInfo.append(soldAll)\n",
    "    wk1RoomSold_AP.append(roomSold_AP)\n",
    "\n",
    "    # Extract revenue information and store it in revenue array\n",
    "    revenue = [soldAll[i][2] for i in range(len(soldAll))]\n",
    "    nightlyRev.append(revenue)\n",
    "    \n",
    "    # Calculate weekly revenue for each algorithm\n",
    "nightlyRev = [np.array(x) for x in nightlyRev]\n",
    "revSum = [np.sum(x, axis=0) for x in nightlyRev]\n",
    "wk1Rev = np.sum(revSum, axis=0)\n",
    "wk1Rev"
   ]
  },
  {
   "cell_type": "code",
   "execution_count": 21,
   "metadata": {},
   "outputs": [],
   "source": [
    "# Use adaptive pricing algoritm to derive new rates for week 3\n",
    "wk1RoomSold_AP = [list(reversed(wk1RoomSold_AP[i])) for i in range(len(wk1RoomSold_AP))]\n",
    "wk1RoomSold_AP = [np.array(x) for x in wk1RoomSold_AP]\n",
    "\n",
    "# Update protection levels according to the sales info\n",
    "roomSold_cumsum = [np.cumsum(x) for x in wk1RoomSold_AP]"
   ]
  },
  {
   "cell_type": "code",
   "execution_count": 22,
   "metadata": {},
   "outputs": [
    {
     "data": {
      "text/plain": [
       "([array([ 12.,  36., 100.]),\n",
       "  array([12., 36., 72., 96.]),\n",
       "  array([12., 24., 72., 84.]),\n",
       "  array([36., 60., 72.]),\n",
       "  array([24., 60., 72.]),\n",
       "  array([12., 24., 36., 60.]),\n",
       "  array([12., 24., 48., 72.])],\n",
       " [array([ 0., 26., 90.]),\n",
       "  array([ 0., 23., 59., 88.]),\n",
       "  array([ 0., 11., 61., 74.]),\n",
       "  array([41., 47., 60.]),\n",
       "  array([29., 66., 78.]),\n",
       "  array([ 0.,  9., 25., 52.]),\n",
       "  array([ 0., 11., 37., 63.])])"
      ]
     },
     "execution_count": 22,
     "metadata": {},
     "output_type": "execute_result"
    }
   ],
   "source": [
    "# Compute if the demand for a class exceeds its corresponding protection levels\n",
    "Y = [roomSold_cumsum[i][:-1] >= thetas_old[i] for i in range(7)]\n",
    "# Implement Equation(2) in vanRyzin-McGill 2000\n",
    "Z = [np.cumproduct(Y[i]) for i in range(7)]\n",
    "# Calculate H(theta, x)\n",
    "H = [ratios[i][1:] - Z[i] for i in range(7)]\n",
    "thetas_new = [thetas_old[i] - (param1/(param2+1)) * H[i] for i in range(7)]\n",
    "# Truncate at zero and sort it-- nonnegativity of protection levels \n",
    "thetas_new = [np.minimum(np.maximum(thetas_new[i], 0), capacity) for i in range(7)]\n",
    "thetas_new = [sorted(thetas_new[i]) for i in range(7)]\n",
    "# Round to integers\n",
    "thetas_new = [np.round(thetas_new[i], 0) for i in range(7)]\n",
    "thetas_old, thetas_new"
   ]
  },
  {
   "cell_type": "code",
   "execution_count": 23,
   "metadata": {},
   "outputs": [],
   "source": [
    "# Create a dummy booking class 1 so that we can find the partitioned protection levels\n",
    "# from nested ones in an easy way\n",
    "thetas_old_full = [np.concatenate(([0], thetas_old[i], [capacity])) for i in range(7)]\n",
    "thetas_new_full = [np.concatenate(([0], thetas_new[i], [capacity])) for i in range(7)]\n",
    "\n",
    "# Calculate partitioned protection level changes for each bucket in each night\n",
    "thetas_old_full_prt = [np.diff(thetas_old_full[i]) for i in range(7)]\n",
    "thetas_new_full_prt = [np.diff(thetas_new_full[i]) for i in range(7)]\n",
    "\n",
    "# Percent change for partitioned protection levels\n",
    "# When divide by zero, we assume the change is 1, or 100%.\n",
    "thetas_adj = [np.divide(thetas_new_full_prt[i], thetas_old_full_prt[i], \n",
    "                        out=(np.zeros_like(thetas_new_full_prt[i])+2),\n",
    "                       where=thetas_old_full_prt[i]!=0) - 1 for i in range(7)]"
   ]
  },
  {
   "cell_type": "code",
   "execution_count": 24,
   "metadata": {},
   "outputs": [],
   "source": [
    "bkClass_bkt_uniq = {}\n",
    "rates_adj = {}\n",
    "for x, y in bkClass_bkt:\n",
    "    if x in bkClass_bkt_uniq:\n",
    "        bkClass_bkt_uniq[x].append((y))\n",
    "        rates_adj[x].append((thetas_adj[y[0]][y[1]]))\n",
    "    else:\n",
    "        bkClass_bkt_uniq[x] = [(y)]\n",
    "        rates_adj[x] = [(thetas_adj[y[0]][y[1]])]"
   ]
  },
  {
   "cell_type": "code",
   "execution_count": 25,
   "metadata": {},
   "outputs": [],
   "source": [
    "# Derive average changes for a booking class (i.e., r, a, d combination)\n",
    "rates_adj_avg = {}\n",
    "for k, v in rates_adj.items():\n",
    "    avg_adj = np.round(np.mean(np.array(v)), 4)\n",
    "    rates_adj_avg[k] = [(avg_adj)]\n",
    "    single_rate = np.round((rates_rad_old_AP[k] * (1+rates_adj_avg[k][0])) / (k[2] + 1), 0)\n",
    "    rates_adj_avg[k].append((single_rate))"
   ]
  },
  {
   "cell_type": "code",
   "execution_count": 26,
   "metadata": {},
   "outputs": [],
   "source": [
    "# Derive single stay night revenue for each rate class for each stay night of the week\n",
    "rate0_new = []\n",
    "rate1_new = []\n",
    "for bkt in buckets:\n",
    "    # Flatten the bucket elements for each day of the week\n",
    "    bkt_ls = list(itertools.chain.from_iterable(bkt))\n",
    "    # For each booking class in the falttened list, extract the rates generated by the algorithm\n",
    "    myRate0_dict = {my_key: rates_adj_avg[my_key] for my_key in bkt_ls if my_key[0] == 0}\n",
    "    myRate1_dict = {my_key: rates_adj_avg[my_key] for my_key in bkt_ls if my_key[0] == 1}\n",
    "    # Store it as an array\n",
    "    myRate0 = np.array(list(myRate0_dict.values()))\n",
    "    myRate1 = np.array(list(myRate1_dict.values()))\n",
    "    # Calculate stay night rates for each rate class for each stay night\n",
    "    myRate0_avg = np.round(np.mean(myRate0, axis=0)[1], 0)\n",
    "    myRate1_avg = np.round(np.mean(myRate1, axis=0)[1], 0)\n",
    "    # Create list for new rates to use for next week\n",
    "    rate0_new.append(myRate0_avg)\n",
    "    rate1_new.append(myRate1_avg)\n",
    "\n",
    "# New single night rates for next week\n",
    "rates_update_AP = np.concatenate((rate0_new, rate1_new)).reshape(n_class, 7)"
   ]
  },
  {
   "cell_type": "code",
   "execution_count": 27,
   "metadata": {},
   "outputs": [
    {
     "data": {
      "text/plain": [
       "array([[ 95., 156., 130., 130., 132., 128., 104.],\n",
       "       [122., 196., 187., 161., 116., 115., 124.]])"
      ]
     },
     "execution_count": 27,
     "metadata": {},
     "output_type": "execute_result"
    }
   ],
   "source": [
    "rates_update_AP"
   ]
  },
  {
   "cell_type": "code",
   "execution_count": 28,
   "metadata": {},
   "outputs": [],
   "source": [
    "def sum_of_elements(arr):\n",
    "    n = len(arr) // 2\n",
    "    sumfirst = sum(arr[:n])\n",
    "    sumsecond = sum(arr[n:])\n",
    "    return sumfirst, sumsecond"
   ]
  },
  {
   "cell_type": "code",
   "execution_count": 29,
   "metadata": {},
   "outputs": [],
   "source": [
    "# Compute total demand by rate class for each stay night, which is then \n",
    "# used to calculate demand change ratio for FCFS strategy\n",
    "demands_old_bynight_FCFS = [sum_of_elements(demands_old_FCFS[tuple(zip(*stay_index_wk1[i]))]) \n",
    "                            for i in range(7)]\n",
    "demands_new_bynight_FCFS = [sum_of_elements(demands_new_FCFS[tuple(zip(*stay_index_wk1[i]))]) \n",
    "                            for i in range(7)]\n",
    "\n",
    "demands_adj_ratio = [[(demands_new_bynight_FCFS[i][j] - demands_old_bynight_FCFS[i][j]) / demands_old_bynight_FCFS[i][j] \n",
    " for j in range(n_class)] for i in range(7)]\n",
    "demands_adj_ratio = np.array(demands_adj_ratio)\n",
    "demands_adj_ratio = np.swapaxes(demands_adj_ratio, 0, 1)\n",
    "rates_update_FCFS = wk1_rates_FCFS * (1 + demands_adj_ratio)"
   ]
  },
  {
   "cell_type": "code",
   "execution_count": 30,
   "metadata": {},
   "outputs": [
    {
     "data": {
      "text/plain": [
       "array([[135., 135., 135., 135., 135., 108., 108.],\n",
       "       [115., 115., 115., 115., 115.,  92.,  92.]])"
      ]
     },
     "execution_count": 30,
     "metadata": {},
     "output_type": "execute_result"
    }
   ],
   "source": [
    "rates_update_FCFS"
   ]
  },
  {
   "cell_type": "code",
   "execution_count": 34,
   "metadata": {},
   "outputs": [
    {
     "name": "stdout",
     "output_type": "stream",
     "text": [
      "[[[150. 282. 417.]\n",
      "  [132. 267. 400.]\n",
      "  [135. 268. 386.]\n",
      "  [133. 251. 385.]\n",
      "  [118. 252. 388.]\n",
      "  [134. 270. 411.]\n",
      "  [136. 277. 411.]]\n",
      "\n",
      " [[183. 356. 513.]\n",
      "  [173. 330. 480.]\n",
      "  [157. 307. 476.]\n",
      "  [150. 319. 483.]\n",
      "  [169. 333. 497.]\n",
      "  [164. 328. 480.]\n",
      "  [164. 316. 482.]]]\n",
      "[[[268.12 641.01 926.11]\n",
      "  [372.88 657.98 859.32]\n",
      "  [285.1  486.44 608.85]\n",
      "  [201.34 323.75 433.94]\n",
      "  [122.41 232.6  401.86]\n",
      "  [110.19 279.45 547.58]\n",
      "  [169.26 437.38 810.27]]\n",
      "\n",
      " [[118.91 184.78 184.78]\n",
      "  [ 65.87  65.87 105.43]\n",
      "  [  0.    39.57 117.23]\n",
      "  [ 39.57 117.23 231.23]\n",
      "  [ 77.66 191.67 370.95]\n",
      "  [114.01 293.29 412.2 ]\n",
      "  [179.28 298.2  364.06]]]\n",
      "[[ 0.67   nan  0.67  0.14 -0.07 -0.04 -0.2 ]\n",
      " [ 0.14  0.16  0.11 -0.01  0.07  0.07 -0.12]]\n",
      "[[[141. 275. 409.]\n",
      "  [134. 268. 410.]\n",
      "  [134. 276. 413.]\n",
      "  [142. 279. 407.]\n",
      "  [137. 265. 414.]\n",
      "  [128. 277. 381.]\n",
      "  [149. 253. 349.]]\n",
      "\n",
      " [[152. 318. 460.]\n",
      "  [166. 308. 444.]\n",
      "  [142. 278. 418.]\n",
      "  [136. 276. 415.]\n",
      "  [140. 279. 428.]\n",
      "  [139. 288. 433.]\n",
      "  [149. 294. 444.]]]\n",
      "[[[268.12 641.01 926.11]\n",
      "  [372.88 657.98 859.32]\n",
      "  [285.1  486.44 608.85]\n",
      "  [201.34 323.75 433.94]\n",
      "  [122.41 232.6  401.86]\n",
      "  [110.19 279.45 726.33]\n",
      "  [169.26 616.13    nan]]\n",
      "\n",
      " [[118.91 184.78 184.78]\n",
      "  [ 65.87  65.87 105.43]\n",
      "  [  0.    39.57 117.23]\n",
      "  [ 39.57 117.23 231.23]\n",
      "  [ 77.66 191.67 370.95]\n",
      "  [114.01 293.29 428.67]\n",
      "  [179.28 314.66 391.21]]]\n"
     ]
    },
    {
     "name": "stderr",
     "output_type": "stream",
     "text": [
      "/usr/local/lib/python3.7/site-packages/ipykernel_launcher.py:227: RuntimeWarning: invalid value encountered in long_scalars\n"
     ]
    },
    {
     "ename": "ValueError",
     "evalue": "Domain error in arguments.",
     "output_type": "error",
     "traceback": [
      "\u001b[0;31m---------------------------------------------------------------------------\u001b[0m",
      "\u001b[0;31mValueError\u001b[0m                                Traceback (most recent call last)",
      "\u001b[0;32m<ipython-input-34-c94583ee5101>\u001b[0m in \u001b[0;36m<module>\u001b[0;34m\u001b[0m\n\u001b[1;32m     43\u001b[0m     \u001b[0;31m# the mean of the Poisson process will be equal to the linear demand curve function of the room rates\u001b[0m\u001b[0;34m\u001b[0m\u001b[0;34m\u001b[0m\u001b[0;34m\u001b[0m\u001b[0m\n\u001b[1;32m     44\u001b[0m     \u001b[0mmus\u001b[0m \u001b[0;34m=\u001b[0m \u001b[0;34m[\u001b[0m\u001b[0mnp\u001b[0m\u001b[0;34m.\u001b[0m\u001b[0mmaximum\u001b[0m\u001b[0;34m(\u001b[0m\u001b[0mintercepts\u001b[0m \u001b[0;34m+\u001b[0m \u001b[0mslopes\u001b[0m \u001b[0;34m*\u001b[0m \u001b[0mrates\u001b[0m\u001b[0;34m,\u001b[0m \u001b[0;36m0\u001b[0m\u001b[0;34m)\u001b[0m \u001b[0;32mfor\u001b[0m \u001b[0mrates\u001b[0m \u001b[0;32min\u001b[0m \u001b[0mratesAll\u001b[0m\u001b[0;34m]\u001b[0m\u001b[0;34m\u001b[0m\u001b[0;34m\u001b[0m\u001b[0m\n\u001b[0;32m---> 45\u001b[0;31m     \u001b[0mdemands_next\u001b[0m \u001b[0;34m=\u001b[0m \u001b[0;34m[\u001b[0m\u001b[0;34m[\u001b[0m\u001b[0mpoisson\u001b[0m\u001b[0;34m.\u001b[0m\u001b[0mrvs\u001b[0m\u001b[0;34m(\u001b[0m\u001b[0mmu\u001b[0m\u001b[0;34m,\u001b[0m \u001b[0msize\u001b[0m\u001b[0;34m=\u001b[0m\u001b[0;36m1\u001b[0m\u001b[0;34m)\u001b[0m \u001b[0;32mfor\u001b[0m \u001b[0mmu\u001b[0m \u001b[0;32min\u001b[0m \u001b[0mnp\u001b[0m\u001b[0;34m.\u001b[0m\u001b[0mnditer\u001b[0m\u001b[0;34m(\u001b[0m\u001b[0mmus_each\u001b[0m\u001b[0;34m)\u001b[0m\u001b[0;34m]\u001b[0m \u001b[0;32mfor\u001b[0m \u001b[0mmus_each\u001b[0m \u001b[0;32min\u001b[0m \u001b[0mmus\u001b[0m\u001b[0;34m]\u001b[0m\u001b[0;34m\u001b[0m\u001b[0;34m\u001b[0m\u001b[0m\n\u001b[0m\u001b[1;32m     46\u001b[0m     \u001b[0mdemands_next\u001b[0m \u001b[0;34m=\u001b[0m \u001b[0;34m[\u001b[0m\u001b[0mnp\u001b[0m\u001b[0;34m.\u001b[0m\u001b[0marray\u001b[0m\u001b[0;34m(\u001b[0m\u001b[0mx\u001b[0m\u001b[0;34m)\u001b[0m\u001b[0;34m.\u001b[0m\u001b[0mreshape\u001b[0m\u001b[0;34m(\u001b[0m\u001b[0mn_class\u001b[0m\u001b[0;34m,\u001b[0m \u001b[0;36m7\u001b[0m\u001b[0;34m,\u001b[0m \u001b[0mlos\u001b[0m\u001b[0;34m)\u001b[0m \u001b[0;32mfor\u001b[0m \u001b[0mx\u001b[0m \u001b[0;32min\u001b[0m \u001b[0mdemands_next\u001b[0m\u001b[0;34m]\u001b[0m\u001b[0;34m\u001b[0m\u001b[0;34m\u001b[0m\u001b[0m\n\u001b[1;32m     47\u001b[0m \u001b[0;34m\u001b[0m\u001b[0m\n",
      "\u001b[0;32m<ipython-input-34-c94583ee5101>\u001b[0m in \u001b[0;36m<listcomp>\u001b[0;34m(.0)\u001b[0m\n\u001b[1;32m     43\u001b[0m     \u001b[0;31m# the mean of the Poisson process will be equal to the linear demand curve function of the room rates\u001b[0m\u001b[0;34m\u001b[0m\u001b[0;34m\u001b[0m\u001b[0;34m\u001b[0m\u001b[0m\n\u001b[1;32m     44\u001b[0m     \u001b[0mmus\u001b[0m \u001b[0;34m=\u001b[0m \u001b[0;34m[\u001b[0m\u001b[0mnp\u001b[0m\u001b[0;34m.\u001b[0m\u001b[0mmaximum\u001b[0m\u001b[0;34m(\u001b[0m\u001b[0mintercepts\u001b[0m \u001b[0;34m+\u001b[0m \u001b[0mslopes\u001b[0m \u001b[0;34m*\u001b[0m \u001b[0mrates\u001b[0m\u001b[0;34m,\u001b[0m \u001b[0;36m0\u001b[0m\u001b[0;34m)\u001b[0m \u001b[0;32mfor\u001b[0m \u001b[0mrates\u001b[0m \u001b[0;32min\u001b[0m \u001b[0mratesAll\u001b[0m\u001b[0;34m]\u001b[0m\u001b[0;34m\u001b[0m\u001b[0;34m\u001b[0m\u001b[0m\n\u001b[0;32m---> 45\u001b[0;31m     \u001b[0mdemands_next\u001b[0m \u001b[0;34m=\u001b[0m \u001b[0;34m[\u001b[0m\u001b[0;34m[\u001b[0m\u001b[0mpoisson\u001b[0m\u001b[0;34m.\u001b[0m\u001b[0mrvs\u001b[0m\u001b[0;34m(\u001b[0m\u001b[0mmu\u001b[0m\u001b[0;34m,\u001b[0m \u001b[0msize\u001b[0m\u001b[0;34m=\u001b[0m\u001b[0;36m1\u001b[0m\u001b[0;34m)\u001b[0m \u001b[0;32mfor\u001b[0m \u001b[0mmu\u001b[0m \u001b[0;32min\u001b[0m \u001b[0mnp\u001b[0m\u001b[0;34m.\u001b[0m\u001b[0mnditer\u001b[0m\u001b[0;34m(\u001b[0m\u001b[0mmus_each\u001b[0m\u001b[0;34m)\u001b[0m\u001b[0;34m]\u001b[0m \u001b[0;32mfor\u001b[0m \u001b[0mmus_each\u001b[0m \u001b[0;32min\u001b[0m \u001b[0mmus\u001b[0m\u001b[0;34m]\u001b[0m\u001b[0;34m\u001b[0m\u001b[0;34m\u001b[0m\u001b[0m\n\u001b[0m\u001b[1;32m     46\u001b[0m     \u001b[0mdemands_next\u001b[0m \u001b[0;34m=\u001b[0m \u001b[0;34m[\u001b[0m\u001b[0mnp\u001b[0m\u001b[0;34m.\u001b[0m\u001b[0marray\u001b[0m\u001b[0;34m(\u001b[0m\u001b[0mx\u001b[0m\u001b[0;34m)\u001b[0m\u001b[0;34m.\u001b[0m\u001b[0mreshape\u001b[0m\u001b[0;34m(\u001b[0m\u001b[0mn_class\u001b[0m\u001b[0;34m,\u001b[0m \u001b[0;36m7\u001b[0m\u001b[0;34m,\u001b[0m \u001b[0mlos\u001b[0m\u001b[0;34m)\u001b[0m \u001b[0;32mfor\u001b[0m \u001b[0mx\u001b[0m \u001b[0;32min\u001b[0m \u001b[0mdemands_next\u001b[0m\u001b[0;34m]\u001b[0m\u001b[0;34m\u001b[0m\u001b[0;34m\u001b[0m\u001b[0m\n\u001b[1;32m     47\u001b[0m \u001b[0;34m\u001b[0m\u001b[0m\n",
      "\u001b[0;32m<ipython-input-34-c94583ee5101>\u001b[0m in \u001b[0;36m<listcomp>\u001b[0;34m(.0)\u001b[0m\n\u001b[1;32m     43\u001b[0m     \u001b[0;31m# the mean of the Poisson process will be equal to the linear demand curve function of the room rates\u001b[0m\u001b[0;34m\u001b[0m\u001b[0;34m\u001b[0m\u001b[0;34m\u001b[0m\u001b[0m\n\u001b[1;32m     44\u001b[0m     \u001b[0mmus\u001b[0m \u001b[0;34m=\u001b[0m \u001b[0;34m[\u001b[0m\u001b[0mnp\u001b[0m\u001b[0;34m.\u001b[0m\u001b[0mmaximum\u001b[0m\u001b[0;34m(\u001b[0m\u001b[0mintercepts\u001b[0m \u001b[0;34m+\u001b[0m \u001b[0mslopes\u001b[0m \u001b[0;34m*\u001b[0m \u001b[0mrates\u001b[0m\u001b[0;34m,\u001b[0m \u001b[0;36m0\u001b[0m\u001b[0;34m)\u001b[0m \u001b[0;32mfor\u001b[0m \u001b[0mrates\u001b[0m \u001b[0;32min\u001b[0m \u001b[0mratesAll\u001b[0m\u001b[0;34m]\u001b[0m\u001b[0;34m\u001b[0m\u001b[0;34m\u001b[0m\u001b[0m\n\u001b[0;32m---> 45\u001b[0;31m     \u001b[0mdemands_next\u001b[0m \u001b[0;34m=\u001b[0m \u001b[0;34m[\u001b[0m\u001b[0;34m[\u001b[0m\u001b[0mpoisson\u001b[0m\u001b[0;34m.\u001b[0m\u001b[0mrvs\u001b[0m\u001b[0;34m(\u001b[0m\u001b[0mmu\u001b[0m\u001b[0;34m,\u001b[0m \u001b[0msize\u001b[0m\u001b[0;34m=\u001b[0m\u001b[0;36m1\u001b[0m\u001b[0;34m)\u001b[0m \u001b[0;32mfor\u001b[0m \u001b[0mmu\u001b[0m \u001b[0;32min\u001b[0m \u001b[0mnp\u001b[0m\u001b[0;34m.\u001b[0m\u001b[0mnditer\u001b[0m\u001b[0;34m(\u001b[0m\u001b[0mmus_each\u001b[0m\u001b[0;34m)\u001b[0m\u001b[0;34m]\u001b[0m \u001b[0;32mfor\u001b[0m \u001b[0mmus_each\u001b[0m \u001b[0;32min\u001b[0m \u001b[0mmus\u001b[0m\u001b[0;34m]\u001b[0m\u001b[0;34m\u001b[0m\u001b[0;34m\u001b[0m\u001b[0m\n\u001b[0m\u001b[1;32m     46\u001b[0m     \u001b[0mdemands_next\u001b[0m \u001b[0;34m=\u001b[0m \u001b[0;34m[\u001b[0m\u001b[0mnp\u001b[0m\u001b[0;34m.\u001b[0m\u001b[0marray\u001b[0m\u001b[0;34m(\u001b[0m\u001b[0mx\u001b[0m\u001b[0;34m)\u001b[0m\u001b[0;34m.\u001b[0m\u001b[0mreshape\u001b[0m\u001b[0;34m(\u001b[0m\u001b[0mn_class\u001b[0m\u001b[0;34m,\u001b[0m \u001b[0;36m7\u001b[0m\u001b[0;34m,\u001b[0m \u001b[0mlos\u001b[0m\u001b[0;34m)\u001b[0m \u001b[0;32mfor\u001b[0m \u001b[0mx\u001b[0m \u001b[0;32min\u001b[0m \u001b[0mdemands_next\u001b[0m\u001b[0;34m]\u001b[0m\u001b[0;34m\u001b[0m\u001b[0;34m\u001b[0m\u001b[0m\n\u001b[1;32m     47\u001b[0m \u001b[0;34m\u001b[0m\u001b[0m\n",
      "\u001b[0;32m/usr/local/lib/python3.7/site-packages/scipy/stats/_distn_infrastructure.py\u001b[0m in \u001b[0;36mrvs\u001b[0;34m(self, *args, **kwargs)\u001b[0m\n\u001b[1;32m   2967\u001b[0m         \"\"\"\n\u001b[1;32m   2968\u001b[0m         \u001b[0mkwargs\u001b[0m\u001b[0;34m[\u001b[0m\u001b[0;34m'discrete'\u001b[0m\u001b[0;34m]\u001b[0m \u001b[0;34m=\u001b[0m \u001b[0;32mTrue\u001b[0m\u001b[0;34m\u001b[0m\u001b[0;34m\u001b[0m\u001b[0m\n\u001b[0;32m-> 2969\u001b[0;31m         \u001b[0;32mreturn\u001b[0m \u001b[0msuper\u001b[0m\u001b[0;34m(\u001b[0m\u001b[0mrv_discrete\u001b[0m\u001b[0;34m,\u001b[0m \u001b[0mself\u001b[0m\u001b[0;34m)\u001b[0m\u001b[0;34m.\u001b[0m\u001b[0mrvs\u001b[0m\u001b[0;34m(\u001b[0m\u001b[0;34m*\u001b[0m\u001b[0margs\u001b[0m\u001b[0;34m,\u001b[0m \u001b[0;34m**\u001b[0m\u001b[0mkwargs\u001b[0m\u001b[0;34m)\u001b[0m\u001b[0;34m\u001b[0m\u001b[0;34m\u001b[0m\u001b[0m\n\u001b[0m\u001b[1;32m   2970\u001b[0m \u001b[0;34m\u001b[0m\u001b[0m\n\u001b[1;32m   2971\u001b[0m     \u001b[0;32mdef\u001b[0m \u001b[0mpmf\u001b[0m\u001b[0;34m(\u001b[0m\u001b[0mself\u001b[0m\u001b[0;34m,\u001b[0m \u001b[0mk\u001b[0m\u001b[0;34m,\u001b[0m \u001b[0;34m*\u001b[0m\u001b[0margs\u001b[0m\u001b[0;34m,\u001b[0m \u001b[0;34m**\u001b[0m\u001b[0mkwds\u001b[0m\u001b[0;34m)\u001b[0m\u001b[0;34m:\u001b[0m\u001b[0;34m\u001b[0m\u001b[0;34m\u001b[0m\u001b[0m\n",
      "\u001b[0;32m/usr/local/lib/python3.7/site-packages/scipy/stats/_distn_infrastructure.py\u001b[0m in \u001b[0;36mrvs\u001b[0;34m(self, *args, **kwds)\u001b[0m\n\u001b[1;32m    964\u001b[0m         \u001b[0mcond\u001b[0m \u001b[0;34m=\u001b[0m \u001b[0mlogical_and\u001b[0m\u001b[0;34m(\u001b[0m\u001b[0mself\u001b[0m\u001b[0;34m.\u001b[0m\u001b[0m_argcheck\u001b[0m\u001b[0;34m(\u001b[0m\u001b[0;34m*\u001b[0m\u001b[0margs\u001b[0m\u001b[0;34m)\u001b[0m\u001b[0;34m,\u001b[0m \u001b[0;34m(\u001b[0m\u001b[0mscale\u001b[0m \u001b[0;34m>=\u001b[0m \u001b[0;36m0\u001b[0m\u001b[0;34m)\u001b[0m\u001b[0;34m)\u001b[0m\u001b[0;34m\u001b[0m\u001b[0;34m\u001b[0m\u001b[0m\n\u001b[1;32m    965\u001b[0m         \u001b[0;32mif\u001b[0m \u001b[0;32mnot\u001b[0m \u001b[0mnp\u001b[0m\u001b[0;34m.\u001b[0m\u001b[0mall\u001b[0m\u001b[0;34m(\u001b[0m\u001b[0mcond\u001b[0m\u001b[0;34m)\u001b[0m\u001b[0;34m:\u001b[0m\u001b[0;34m\u001b[0m\u001b[0;34m\u001b[0m\u001b[0m\n\u001b[0;32m--> 966\u001b[0;31m             \u001b[0;32mraise\u001b[0m \u001b[0mValueError\u001b[0m\u001b[0;34m(\u001b[0m\u001b[0;34m\"Domain error in arguments.\"\u001b[0m\u001b[0;34m)\u001b[0m\u001b[0;34m\u001b[0m\u001b[0;34m\u001b[0m\u001b[0m\n\u001b[0m\u001b[1;32m    967\u001b[0m \u001b[0;34m\u001b[0m\u001b[0m\n\u001b[1;32m    968\u001b[0m         \u001b[0;32mif\u001b[0m \u001b[0mnp\u001b[0m\u001b[0;34m.\u001b[0m\u001b[0mall\u001b[0m\u001b[0;34m(\u001b[0m\u001b[0mscale\u001b[0m \u001b[0;34m==\u001b[0m \u001b[0;36m0\u001b[0m\u001b[0;34m)\u001b[0m\u001b[0;34m:\u001b[0m\u001b[0;34m\u001b[0m\u001b[0;34m\u001b[0m\u001b[0m\n",
      "\u001b[0;31mValueError\u001b[0m: Domain error in arguments."
     ]
    }
   ],
   "source": [
    "######################## Week 2 ########################\n",
    "weeklyRev = []\n",
    "for week in range(2, weeks+1):\n",
    "    # First of all, protection levels are updated\n",
    "    thetas_old = thetas_new\n",
    "    demands_old_FCFS = demands_new_FCFS\n",
    "    # In current week, store rates for current week and next week\n",
    "    wk1_rates_AP = wk2_rates_AP\n",
    "    wk2_rates_AP = rates_update_AP\n",
    "    rates_for_two_weeks_AP = np.concatenate((wk1_rates_AP, wk2_rates_AP)).reshape(2, n_class, 7)\n",
    "    # Derive rates for rate class of r, arrival day of d and length of stay of d\n",
    "    rates_rad_old_AP = [[moving_sum(rates_for_two_weeks_AP[:, i].reshape(2*7), j)[:7] \n",
    "      for j in range(1, los+1)] \n",
    "     for i in range(n_class)]\n",
    "    # Convert to the right shape for later calculation\n",
    "    rates_rad_old_AP = np.array(rates_rad_old_AP)\n",
    "    rates_rad_old_AP = np.swapaxes(rates_rad_old_AP, 1, 2)\n",
    "    print(rates_rad_old_AP)\n",
    "    # In current week, store rates for current week and next week\n",
    "    wk1_rates_FCFS = wk2_rates_FCFS\n",
    "    wk2_rates_FCFS = rates_update_FCFS\n",
    "    rates_for_two_weeks_FCFS = np.concatenate((wk1_rates_FCFS, wk2_rates_FCFS)).reshape(2, n_class, 7)\n",
    "    # Derive rates for rate class of r, arrival day of d and length of stay of d\n",
    "    rates_rad_old_FCFS = [[moving_sum(rates_for_two_weeks_FCFS[:, i].reshape(2*7), j)[:7] \n",
    "      for j in range(1, los+1)] \n",
    "     for i in range(n_class)]\n",
    "    # Convert to the right shape for later calculation\n",
    "    rates_rad_old_FCFS = np.array(rates_rad_old_FCFS)\n",
    "    rates_rad_old_FCFS = np.swapaxes(rates_rad_old_FCFS, 1, 2)\n",
    "    print(rates_rad_old_FCFS)\n",
    "    ################################################################################\n",
    "    ################################################################################\n",
    "    ################################################################################\n",
    "\n",
    "    # Consider second week stay nights, our week starts on Sunday, not Monday\n",
    "    # Initialize rates for adaptive pricing algorithm and first-come, first-serve approach\n",
    "    rates_DP = rates_DP\n",
    "    rates_AP = rates_rad_old_AP\n",
    "    rates_FCFS = rates_rad_old_FCFS\n",
    "    # Order of rates as dynamic pricing rates, adaptive pricing rates, and FCFS rates\n",
    "    ratesAll = [rates_DP, rates_AP, rates_FCFS]\n",
    "    # Generate nonhomogenous Poisson process true bookings (i.e., customer demand) on a weekly basis\n",
    "    # the mean of the Poisson process will be equal to the linear demand curve function of the room rates\n",
    "    mus = [np.maximum(intercepts + slopes * rates, 0) for rates in ratesAll]\n",
    "    demands_next = [[poisson.rvs(mu, size=1) for mu in np.nditer(mus_each)] for mus_each in mus]\n",
    "    demands_next = [np.array(x).reshape(n_class, 7, los) for x in demands_next]\n",
    "\n",
    "    demands_new_FCFS = demands_next[2]\n",
    "\n",
    "    ################################################################################\n",
    "    ################################################################################\n",
    "    ################################################################################\n",
    "\n",
    "    # Week 2 sell information\n",
    "    nightlyRev_next = []\n",
    "    wk2SellInfo = []\n",
    "    wk2RoomSold_AP = []\n",
    "    for i in range(7):\n",
    "        buckets_night = buckets[i]\n",
    "        # Three different algorithms, three different scenarios to consider\n",
    "        capacity_left = [capacity] * 3\n",
    "        # Info about the booking class type, rooms sold and revenues (single night revenue)\n",
    "        soldAll = []\n",
    "        roomSold_AP = []\n",
    "        # Reverse the buckets for each night under the assumption that low ranked booking\n",
    "        # classes arrive first\n",
    "        pl_idx = 0\n",
    "        for rads in reversed(buckets_night):\n",
    "            sold_bucket = []\n",
    "            sold_bucket_AP = 0\n",
    "            for rad in rads:\n",
    "                # For stay night revenue calculation, we only use one-night stay revenue, not\n",
    "                # multiple stay night total revenue\n",
    "                rad_single = (rad[0], i, 0)\n",
    "                # Rooms sold equals smaller of demand and capacity left\n",
    "                # Dynamic pricing\n",
    "                sold_DP = min(demands_next[0][rad], capacity_left[0])\n",
    "                # Adaptive pricing, the selling amount is constrained by the protection levels for higher classes\n",
    "                try:\n",
    "                    BL_AP = max(capacity_left[1]-list(reversed(thetas_old[i]))[pl_idx], 0)\n",
    "                except IndexError:\n",
    "                    BL_AP = capacity_left[1]\n",
    "\n",
    "                sold_AP = min(demands_next[1][rad], BL_AP)\n",
    "                sold_bucket_AP += sold_AP\n",
    "                # First-come, first-serve\n",
    "                sold_FCFS = min(demands_next[2][rad], capacity_left[2])\n",
    "\n",
    "                sold = [sold_DP, sold_AP, sold_FCFS]\n",
    "\n",
    "                rev = [ratesAll[i][rad_single] * sold[i] for i in range(len(demands_next))]\n",
    "                sold_bucket.append((rad, sold, rev))\n",
    "                # Update remaining capacity for the next virtual class\n",
    "                capacity_left = [capacity_left[i]-sold[i] for i in range(len(sold))]\n",
    "            soldAll.append(sold_bucket)\n",
    "            roomSold_AP.append(sold_bucket_AP)\n",
    "            pl_idx += 1\n",
    "\n",
    "        # Remove empty lists\n",
    "        soldAll = list(filter(None, soldAll))\n",
    "        soldAll = list(itertools.chain.from_iterable(soldAll))\n",
    "        wk2SellInfo.append(soldAll)\n",
    "        wk2RoomSold_AP.append(roomSold_AP)\n",
    "\n",
    "        # Extract revenue information and store it in revenue array\n",
    "        revenue = [soldAll[i][2] for i in range(len(soldAll))]\n",
    "        nightlyRev_next.append(revenue)\n",
    "\n",
    "        # Calculate weekly revenue for each algorithm\n",
    "    nightlyRev_next = [np.array(x) for x in nightlyRev_next]\n",
    "    revSum = [np.sum(x, axis=0) for x in nightlyRev_next]\n",
    "    wk2Rev = np.sum(revSum, axis=0)\n",
    "    weeklyRev.append(wk2Rev)\n",
    "\n",
    "    ################################################################################\n",
    "    ################################################################################\n",
    "    ################################################################################\n",
    "\n",
    "    # Use adaptive pricing algoritm to derive new rates for week 3\n",
    "    wk2RoomSold_AP = [list(reversed(wk2RoomSold_AP[i])) for i in range(len(wk2RoomSold_AP))]\n",
    "    wk2RoomSold_AP = [np.array(x) for x in wk2RoomSold_AP]\n",
    "\n",
    "    # Update protection levels according to the sales info\n",
    "    roomSold_cumsum = [np.cumsum(x) for x in wk2RoomSold_AP]\n",
    "\n",
    "    ################################################################################\n",
    "    ################################################################################\n",
    "    ################################################################################\n",
    "\n",
    "    # Compute if the demand for a class exceeds its corresponding protection levels\n",
    "    Y = [roomSold_cumsum[i][:-1] >= thetas_old[i] for i in range(7)]\n",
    "    # Implement Equation(2) in vanRyzin-McGill 2000\n",
    "    Z = [np.cumproduct(Y[i]) for i in range(7)]\n",
    "    # Calculate H(theta, x)\n",
    "    H = [ratios[i][1:] - Z[i] for i in range(7)]\n",
    "    thetas_new = [thetas_old[i] - (param1/(param2+week)) * H[i] for i in range(7)]\n",
    "    # Truncate at zero and sort it-- nonnegativity of protection levels \n",
    "    thetas_new = [np.minimum(np.maximum(thetas_new[i], 0), capacity) for i in range(7)]\n",
    "    thetas_new = [sorted(thetas_new[i]) for i in range(7)]\n",
    "    # Round to integers\n",
    "    thetas_new = [np.round(thetas_new[i], 0) for i in range(7)]\n",
    "\n",
    "    ################################################################################\n",
    "    ################################################################################\n",
    "    ################################################################################\n",
    "\n",
    "    # Create a dummy booking class 1 so that we can find the partitioned protection levels\n",
    "    # from nested ones in an easy way\n",
    "    thetas_old_full = [np.concatenate(([0], thetas_old[i], [capacity])) for i in range(7)]\n",
    "    thetas_new_full = [np.concatenate(([0], thetas_new[i], [capacity])) for i in range(7)]\n",
    "\n",
    "    # Calculate partitioned protection level changes for each bucket in each night\n",
    "    thetas_old_full_prt = [np.diff(thetas_old_full[i]) for i in range(7)]\n",
    "    thetas_new_full_prt = [np.diff(thetas_new_full[i]) for i in range(7)]\n",
    "\n",
    "    # Percent change for partitioned protection levels\n",
    "    # When divide by zero, we assume the change is 1, or 100%.\n",
    "    thetas_adj = [np.divide(thetas_new_full_prt[i], thetas_old_full_prt[i], \n",
    "                            out=(np.zeros_like(thetas_new_full_prt[i])+2),\n",
    "                           where=thetas_old_full_prt[i]!=0) - 1 for i in range(7)]\n",
    "\n",
    "    ################################################################################\n",
    "    ################################################################################\n",
    "    ################################################################################\n",
    "\n",
    "    bkClass_bkt_uniq = {}\n",
    "    rates_adj = {}\n",
    "    for x, y in bkClass_bkt:\n",
    "        if x in bkClass_bkt_uniq:\n",
    "            bkClass_bkt_uniq[x].append((y))\n",
    "            rates_adj[x].append((thetas_adj[y[0]][y[1]]))\n",
    "        else:\n",
    "            bkClass_bkt_uniq[x] = [(y)]\n",
    "            rates_adj[x] = [(thetas_adj[y[0]][y[1]])]\n",
    "\n",
    "    ################################################################################\n",
    "    ################################################################################\n",
    "    ################################################################################\n",
    "\n",
    "    # Derive average changes for a booking class (i.e., r, a, d combination)\n",
    "    rates_adj_avg = {}\n",
    "    for k, v in rates_adj.items():\n",
    "        avg_adj = np.round(np.mean(np.array(v)), 4)\n",
    "        rates_adj_avg[k] = [(avg_adj)]\n",
    "        single_rate = np.round((rates_rad_old_AP[k] * (1+rates_adj_avg[k][0])) / (k[2] + 1), 0)\n",
    "        rates_adj_avg[k].append((single_rate))\n",
    "\n",
    "    ################################################################################\n",
    "    ################################################################################\n",
    "    ################################################################################\n",
    "\n",
    "    # Derive single stay night revenue for each rate class for each stay night of the week\n",
    "    rate0_new = []\n",
    "    rate1_new = []\n",
    "    for bkt in buckets:\n",
    "        # Flatten the bucket elements for each day of the week\n",
    "        bkt_ls = list(itertools.chain.from_iterable(bkt))\n",
    "        # For each booking class in the falttened list, extract the rates generated by the algorithm\n",
    "        myRate0_dict = {my_key: rates_adj_avg[my_key] for my_key in bkt_ls if my_key[0] == 0}\n",
    "        myRate1_dict = {my_key: rates_adj_avg[my_key] for my_key in bkt_ls if my_key[0] == 1}\n",
    "        # Store it as an array\n",
    "        myRate0 = np.array(list(myRate0_dict.values()))\n",
    "        myRate1 = np.array(list(myRate1_dict.values()))\n",
    "        # Calculate stay night rates for each rate class for each stay night\n",
    "        myRate0_avg = np.round(np.mean(myRate0, axis=0)[1], 0)\n",
    "        myRate1_avg = np.round(np.mean(myRate1, axis=0)[1], 0)\n",
    "        # Create list for new rates to use for next week\n",
    "        rate0_new.append(myRate0_avg)\n",
    "        rate1_new.append(myRate1_avg)\n",
    "\n",
    "    # New single night rates for next week\n",
    "    rates_update_AP = np.concatenate((rate0_new, rate1_new)).reshape(n_class, 7)\n",
    "\n",
    "    ################################################################################\n",
    "    ################################################################################\n",
    "    ################################################################################\n",
    "\n",
    "    # Compute total demand by rate class for each stay night, which is then \n",
    "    # used to calculate demand change ratio for FCFS strategy\n",
    "    demands_old_bynight_FCFS = [sum_of_elements(demands_old_FCFS[tuple(zip(*stay_index[i]))]) \n",
    "                                for i in range(7)]\n",
    "    demands_new_bynight_FCFS = [sum_of_elements(demands_new_FCFS[tuple(zip(*stay_index[i]))]) \n",
    "                                for i in range(7)]\n",
    "\n",
    "    demands_adj_ratio = [[(demands_new_bynight_FCFS[i][j] - \n",
    "                           demands_old_bynight_FCFS[i][j]) / demands_old_bynight_FCFS[i][j] \n",
    "                          for j in range(n_class)] for i in range(7)]\n",
    "    demands_adj_ratio = np.array(demands_adj_ratio)\n",
    "    demands_adj_ratio = np.swapaxes(demands_adj_ratio, 0, 1)\n",
    "    print(demands_adj_ratio)\n",
    "    rates_update_FCFS = wk1_rates_FCFS * (1 + demands_adj_ratio)"
   ]
  },
  {
   "cell_type": "code",
   "execution_count": 31,
   "metadata": {},
   "outputs": [
    {
     "data": {
      "text/plain": [
       "[array([88487., 83111., 81848.]),\n",
       " array([90202., 83449., 80624.]),\n",
       " array([90944.  , 75347.  , 82478.93]),\n",
       " array([92166.  , 80235.  , 75264.09]),\n",
       " array([92839.  , 87096.  , 89184.98]),\n",
       " array([92832.  , 75485.  , 61432.58]),\n",
       " array([89441.  , 81525.  , 71480.57]),\n",
       " array([93370.  , 86713.  , 85224.24]),\n",
       " array([92019.  , 77907.  , 47542.63]),\n",
       " array([94348.  , 81597.  , 59110.06]),\n",
       " array([92601.  , 76556.  , 77202.25])]"
      ]
     },
     "execution_count": 31,
     "metadata": {},
     "output_type": "execute_result"
    }
   ],
   "source": [
    "weeklyRev"
   ]
  },
  {
   "cell_type": "code",
   "execution_count": 31,
   "metadata": {},
   "outputs": [],
   "source": [
    "# Consider second week stay nights, our week starts on Sunday, not Monday\n",
    "# Initialize rates for adaptive pricing algorithm and first-come, first-serve approach\n",
    "rates_DP = rates_DP\n",
    "rates_AP = rates_rad_old_AP\n",
    "rates_FCFS = rates_rad_old_FCFS\n",
    "# Order of rates as dynamic pricing rates, adaptive pricing rates, and FCFS rates\n",
    "ratesAll = [rates_DP, rates_AP, rates_FCFS]\n",
    "\n",
    "# Generate nonhomogenous Poisson process true bookings (i.e., customer demand) on a weekly basis\n",
    "# the mean of the Poisson process will be equal to the linear demand curve function of the room rates\n",
    "mus = [np.maximum(intercepts + slopes * rates, 0) for rates in ratesAll]\n",
    "demands_next = [[poisson.rvs(mu, size=1) for mu in np.nditer(mus_each)] for mus_each in mus]\n",
    "demands_next = [np.array(x).reshape(n_class, 7, los) for x in demands_next]\n",
    "\n",
    "demands_new_FCFS = demands_next[2]"
   ]
  },
  {
   "cell_type": "code",
   "execution_count": 32,
   "metadata": {},
   "outputs": [
    {
     "data": {
      "text/plain": [
       "array([90008., 82850., 80916.])"
      ]
     },
     "execution_count": 32,
     "metadata": {},
     "output_type": "execute_result"
    }
   ],
   "source": [
    "# Week 2 sell information\n",
    "nightlyRev_next = []\n",
    "wk2SellInfo = []\n",
    "wk2RoomSold_AP = []\n",
    "for i in range(7):\n",
    "    buckets_night = buckets[i]\n",
    "    # Three different algorithms, three different scenarios to consider\n",
    "    capacity_left = [capacity] * 3\n",
    "    # Info about the booking class type, rooms sold and revenues (single night revenue)\n",
    "    soldAll = []\n",
    "    roomSold_AP = []\n",
    "    # Reverse the buckets for each night under the assumption that low ranked booking\n",
    "    # classes arrive first\n",
    "    pl_idx = 0\n",
    "    for rads in reversed(buckets_night):\n",
    "        sold_bucket = []\n",
    "        sold_bucket_AP = 0\n",
    "        for rad in rads:\n",
    "            # For stay night revenue calculation, we only use one-night stay revenue, not\n",
    "            # multiple stay night total revenue\n",
    "            rad_single = (rad[0], i, 0)\n",
    "            # Rooms sold equals smaller of demand and capacity left\n",
    "            # Dynamic pricing\n",
    "            sold_DP = min(demands_next[0][rad], capacity_left[0])\n",
    "            # Adaptive pricing, the selling amount is constrained by the protection levels for higher classes\n",
    "            try:\n",
    "                BL_AP = max(capacity_left[1]-list(reversed(thetas_old[i]))[pl_idx], 0)\n",
    "            except IndexError:\n",
    "                BL_AP = capacity_left[1]\n",
    "            \n",
    "            sold_AP = min(demands_next[1][rad], BL_AP)\n",
    "            sold_bucket_AP += sold_AP\n",
    "            # First-come, first-serve\n",
    "            sold_FCFS = min(demands_next[2][rad], capacity_left[2])\n",
    "            \n",
    "            sold = [sold_DP, sold_AP, sold_FCFS]\n",
    "            \n",
    "            rev = [ratesAll[i][rad_single] * sold[i] for i in range(len(demands_next))]\n",
    "            sold_bucket.append((rad, sold, rev))\n",
    "            # Update remaining capacity for the next virtual class\n",
    "            capacity_left = [capacity_left[i]-sold[i] for i in range(len(sold))]\n",
    "        soldAll.append(sold_bucket)\n",
    "        roomSold_AP.append(sold_bucket_AP)\n",
    "        pl_idx += 1\n",
    "\n",
    "    # Remove empty lists\n",
    "    soldAll = list(filter(None, soldAll))\n",
    "    soldAll = list(itertools.chain.from_iterable(soldAll))\n",
    "    wk2SellInfo.append(soldAll)\n",
    "    wk2RoomSold_AP.append(roomSold_AP)\n",
    "\n",
    "    # Extract revenue information and store it in revenue array\n",
    "    revenue = [soldAll[i][2] for i in range(len(soldAll))]\n",
    "    nightlyRev_next.append(revenue)\n",
    "    \n",
    "    # Calculate weekly revenue for each algorithm\n",
    "nightlyRev_next = [np.array(x) for x in nightlyRev_next]\n",
    "revSum = [np.sum(x, axis=0) for x in nightlyRev_next]\n",
    "wk2Rev = np.sum(revSum, axis=0)\n",
    "wk2Rev"
   ]
  },
  {
   "cell_type": "code",
   "execution_count": 33,
   "metadata": {},
   "outputs": [],
   "source": [
    "# Use adaptive pricing algoritm to derive new rates for week 3\n",
    "wk2RoomSold_AP = [list(reversed(wk2RoomSold_AP[i])) for i in range(len(wk2RoomSold_AP))]\n",
    "wk2RoomSold_AP = [np.array(x) for x in wk2RoomSold_AP]\n",
    "\n",
    "# Update protection levels according to the sales info\n",
    "roomSold_cumsum = [np.cumsum(x) for x in wk2RoomSold_AP]"
   ]
  },
  {
   "cell_type": "code",
   "execution_count": 34,
   "metadata": {},
   "outputs": [
    {
     "data": {
      "text/plain": [
       "([array([ 0., 26., 90.]),\n",
       "  array([ 0., 23., 59., 88.]),\n",
       "  array([11., 14., 61., 74.]),\n",
       "  array([23., 47., 60.]),\n",
       "  array([11., 47., 60.]),\n",
       "  array([ 0.,  9., 25., 52.]),\n",
       "  array([ 0., 11., 37., 63.])],\n",
       " [array([ 4., 16., 80.]),\n",
       "  array([ 4., 10., 46., 80.]),\n",
       "  array([13., 19., 69., 82.]),\n",
       "  array([28., 52., 66.]),\n",
       "  array([16., 53., 66.]),\n",
       "  array([ 2., 13., 14., 44.]),\n",
       "  array([ 2., 17., 44., 72.])])"
      ]
     },
     "execution_count": 34,
     "metadata": {},
     "output_type": "execute_result"
    }
   ],
   "source": [
    "# Compute if the demand for a class exceeds its corresponding protection levels\n",
    "Y = [roomSold_cumsum[i][:-1] >= thetas_old[i] for i in range(7)]\n",
    "# Implement Equation(2) in vanRyzin-McGill 2000\n",
    "Z = [np.cumproduct(Y[i]) for i in range(7)]\n",
    "# Calculate H(theta, x)\n",
    "H = [ratios[i][1:] - Z[i] for i in range(7)]\n",
    "thetas_new = [thetas_old[i] - (param1/(param2+1)) * H[i] for i in range(7)]\n",
    "# Truncate at zero and sort it-- nonnegativity of protection levels \n",
    "thetas_new = [np.minimum(np.maximum(thetas_new[i], 0), capacity) for i in range(7)]\n",
    "thetas_new = [sorted(thetas_new[i]) for i in range(7)]\n",
    "# Round to integers\n",
    "thetas_new = [np.round(thetas_new[i], 0) for i in range(7)]\n",
    "thetas_old, thetas_new"
   ]
  },
  {
   "cell_type": "code",
   "execution_count": 35,
   "metadata": {},
   "outputs": [],
   "source": [
    "# Create a dummy booking class 1 so that we can find the partitioned protection levels\n",
    "# from nested ones in an easy way\n",
    "thetas_old_full = [np.concatenate(([0], thetas_old[i], [capacity])) for i in range(7)]\n",
    "thetas_new_full = [np.concatenate(([0], thetas_new[i], [capacity])) for i in range(7)]\n",
    "\n",
    "# Calculate partitioned protection level changes for each bucket in each night\n",
    "thetas_old_full_prt = [np.diff(thetas_old_full[i]) for i in range(7)]\n",
    "thetas_new_full_prt = [np.diff(thetas_new_full[i]) for i in range(7)]\n",
    "\n",
    "# Percent change for partitioned protection levels\n",
    "# When divide by zero, we assume the change is 1, or 100%.\n",
    "thetas_adj = [np.divide(thetas_new_full_prt[i], thetas_old_full_prt[i], \n",
    "                        out=(np.zeros_like(thetas_new_full_prt[i])+2),\n",
    "                       where=thetas_old_full_prt[i]!=0) - 1 for i in range(7)]"
   ]
  },
  {
   "cell_type": "code",
   "execution_count": 36,
   "metadata": {},
   "outputs": [],
   "source": [
    "bkClass_bkt_uniq = {}\n",
    "rates_adj = {}\n",
    "for x, y in bkClass_bkt:\n",
    "    if x in bkClass_bkt_uniq:\n",
    "        bkClass_bkt_uniq[x].append((y))\n",
    "        rates_adj[x].append((thetas_adj[y[0]][y[1]]))\n",
    "    else:\n",
    "        bkClass_bkt_uniq[x] = [(y)]\n",
    "        rates_adj[x] = [(thetas_adj[y[0]][y[1]])]"
   ]
  },
  {
   "cell_type": "code",
   "execution_count": 37,
   "metadata": {},
   "outputs": [],
   "source": [
    "# Derive average changes for a booking class (i.e., r, a, d combination)\n",
    "rates_adj_avg = {}\n",
    "for k, v in rates_adj.items():\n",
    "    avg_adj = np.round(np.mean(np.array(v)), 4)\n",
    "    rates_adj_avg[k] = [(avg_adj)]\n",
    "    single_rate = np.round((rates_rad_old_AP[k] * (1+rates_adj_avg[k][0])) / (k[2] + 1), 0)\n",
    "    rates_adj_avg[k].append((single_rate))"
   ]
  },
  {
   "cell_type": "code",
   "execution_count": 38,
   "metadata": {},
   "outputs": [],
   "source": [
    "# Derive single stay night revenue for each rate class for each stay night of the week\n",
    "rate0_new = []\n",
    "rate1_new = []\n",
    "for bkt in buckets:\n",
    "    # Flatten the bucket elements for each day of the week\n",
    "    bkt_ls = list(itertools.chain.from_iterable(bkt))\n",
    "    # For each booking class in the falttened list, extract the rates generated by the algorithm\n",
    "    myRate0_dict = {my_key: rates_adj_avg[my_key] for my_key in bkt_ls if my_key[0] == 0}\n",
    "    myRate1_dict = {my_key: rates_adj_avg[my_key] for my_key in bkt_ls if my_key[0] == 1}\n",
    "    # Store it as an array\n",
    "    myRate0 = np.array(list(myRate0_dict.values()))\n",
    "    myRate1 = np.array(list(myRate1_dict.values()))\n",
    "    # Calculate stay night rates for each rate class for each stay night\n",
    "    myRate0_avg = np.round(np.mean(myRate0, axis=0)[1], 0)\n",
    "    myRate1_avg = np.round(np.mean(myRate1, axis=0)[1], 0)\n",
    "    # Create list for new rates to use for next week\n",
    "    rate0_new.append(myRate0_avg)\n",
    "    rate1_new.append(myRate1_avg)\n",
    "\n",
    "# New single night rates for next week\n",
    "rates_update_AP = np.concatenate((rate0_new, rate1_new)).reshape(n_class, 7)"
   ]
  },
  {
   "cell_type": "code",
   "execution_count": 39,
   "metadata": {},
   "outputs": [
    {
     "data": {
      "text/plain": [
       "array([[142., 166., 139., 143., 133., 122., 132.],\n",
       "       [130., 135., 112., 100.,  98., 106., 108.]])"
      ]
     },
     "execution_count": 39,
     "metadata": {},
     "output_type": "execute_result"
    }
   ],
   "source": [
    "rates_update_AP"
   ]
  },
  {
   "cell_type": "code",
   "execution_count": 40,
   "metadata": {},
   "outputs": [
    {
     "data": {
      "text/plain": [
       "array([[122.57, 140.7 , 162.  , 131.49, 140.7 , 101.92, 116.2 ],\n",
       "       [ 82.74,  96.93, 119.54, 147.61, 113.49,  84.44,  89.61]])"
      ]
     },
     "execution_count": 40,
     "metadata": {},
     "output_type": "execute_result"
    }
   ],
   "source": [
    "# Compute total demand by rate class for each stay night, which is then \n",
    "# used to calculate demand change ratio for FCFS strategy\n",
    "demands_old_bynight_FCFS = [sum_of_elements(demands_old_FCFS[tuple(zip(*stay_index[i]))]) \n",
    "                            for i in range(7)]\n",
    "demands_new_bynight_FCFS = [sum_of_elements(demands_new_FCFS[tuple(zip(*stay_index[i]))]) \n",
    "                            for i in range(7)]\n",
    "\n",
    "demands_adj_ratio = [[(demands_new_bynight_FCFS[i][j] - \n",
    "                       demands_old_bynight_FCFS[i][j]) / demands_old_bynight_FCFS[i][j] \n",
    " for j in range(n_class)] for i in range(7)]\n",
    "demands_adj_ratio = np.array(demands_adj_ratio)\n",
    "demands_adj_ratio = np.swapaxes(demands_adj_ratio, 0, 1)\n",
    "rates_update_FCFS = wk1_rates_FCFS * (1 + demands_adj_ratio)\n",
    "rates_update_FCFS"
   ]
  },
  {
   "cell_type": "code",
   "execution_count": null,
   "metadata": {},
   "outputs": [],
   "source": []
  }
 ],
 "metadata": {
  "kernelspec": {
   "display_name": "Python 3",
   "language": "python",
   "name": "python3"
  },
  "language_info": {
   "codemirror_mode": {
    "name": "ipython",
    "version": 3
   },
   "file_extension": ".py",
   "mimetype": "text/x-python",
   "name": "python",
   "nbconvert_exporter": "python",
   "pygments_lexer": "ipython3",
   "version": "3.7.7"
  }
 },
 "nbformat": 4,
 "nbformat_minor": 4
}
