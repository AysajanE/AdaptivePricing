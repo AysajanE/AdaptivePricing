{
 "cells": [
  {
   "cell_type": "code",
   "execution_count": 1,
   "metadata": {},
   "outputs": [],
   "source": [
    "# Compare three different algorithms: Dynamic Pricing, Adaptive Pricing, and FCFS\n",
    "# Use intercepts and slopes from initialization.py as starting point for linear demand curve\n",
    "# Dynamic Pricing: \n",
    "    # Retail Price Optimization at InterContinental Hotels Group. \n",
    "    # INFORMS Journal on Applied Analytics 42(1):45-57. \n",
    "    # https://doi.org/10.1287/inte.1110.0620\n",
    "\n",
    "# Adaptibe Pricing: Developed by me, adapted from:\n",
    "    # Revenue Management Without Forecasting or Optimization: An Adaptive Algorithm for Determining Airline Seat Protection Levels\n",
    "    # Management Science 46(6):760-775.\n",
    "    # https://doi.org/10.1287/mnsc.46.6.760.11936\n",
    "    \n",
    "# FCFS: First-Come, First-Serve"
   ]
  },
  {
   "cell_type": "code",
   "execution_count": 7,
   "metadata": {},
   "outputs": [],
   "source": [
    "import numpy as np\n",
    "\n",
    "from initialize import initialize\n",
    "from genregparam import linparams"
   ]
  },
  {
   "cell_type": "code",
   "execution_count": 9,
   "metadata": {},
   "outputs": [],
   "source": [
    "capacity = 50\n",
    "intensity = 1.5\n",
    "slopes = np.array([-0.1, -0.15])\n",
    "rates_init = np.array([[135, 135, 135, 135, 135, 108, 108],\n",
    "                       [115, 115, 115, 115, 115, 92, 92]])"
   ]
  },
  {
   "cell_type": "code",
   "execution_count": 10,
   "metadata": {},
   "outputs": [],
   "source": [
    "a, b, c, d = initialize(capacity, intensity, rates_init)\n",
    "e, f = linparams(capacity, intensity, slopes, rates_init)"
   ]
  },
  {
   "cell_type": "code",
   "execution_count": 12,
   "metadata": {},
   "outputs": [
    {
     "data": {
      "text/plain": [
       "array([[[22.62227621, 32.40628061, 37.809649  ],\n",
       "        [26.12394516, 35.67537805, 42.77259624],\n",
       "        [28.92817251, 34.40896481, 37.17615239],\n",
       "        [25.62695653, 34.34543388, 33.91875214],\n",
       "        [20.42850943, 23.61110127, 30.06144173],\n",
       "        [23.57635566, 26.70233184, 33.22054347],\n",
       "        [20.47008763, 26.39493584, 23.49121457]],\n",
       "\n",
       "       [[28.51441076, 43.84826051, 39.34586602],\n",
       "        [24.44204377, 34.88606404, 51.58742009],\n",
       "        [28.14581111, 30.49564832, 33.60918932],\n",
       "        [37.12851546, 32.89550617, 44.81204469],\n",
       "        [25.92395201, 30.65840075, 34.42028485],\n",
       "        [25.37732779, 33.06529243, 40.60196774],\n",
       "        [26.72282129, 34.2489876 , 37.61645861]]])"
      ]
     },
     "execution_count": 12,
     "metadata": {},
     "output_type": "execute_result"
    }
   ],
   "source": [
    "f"
   ]
  },
  {
   "cell_type": "code",
   "execution_count": null,
   "metadata": {},
   "outputs": [],
   "source": []
  }
 ],
 "metadata": {
  "kernelspec": {
   "display_name": "Python 3",
   "language": "python",
   "name": "python3"
  },
  "language_info": {
   "codemirror_mode": {
    "name": "ipython",
    "version": 3
   },
   "file_extension": ".py",
   "mimetype": "text/x-python",
   "name": "python",
   "nbconvert_exporter": "python",
   "pygments_lexer": "ipython3",
   "version": "3.7.7"
  }
 },
 "nbformat": 4,
 "nbformat_minor": 4
}
