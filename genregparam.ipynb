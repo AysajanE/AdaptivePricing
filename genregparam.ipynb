{
 "cells": [
  {
   "cell_type": "code",
   "execution_count": 1,
   "metadata": {},
   "outputs": [],
   "source": [
    "# Initiate linear demand curve parameters for simulation analysis\n",
    "# One linear demand curve is initiated for each rate class, arrival day of week and \n",
    "# los combination"
   ]
  },
  {
   "cell_type": "code",
   "execution_count": 2,
   "metadata": {},
   "outputs": [],
   "source": [
    "import itertools\n",
    "import numpy as np\n",
    "from scipy.stats import norm\n",
    "from scipy.stats import poisson\n",
    "from sklearn.linear_model import LinearRegression"
   ]
  },
  {
   "cell_type": "code",
   "execution_count": 3,
   "metadata": {},
   "outputs": [],
   "source": [
    "# Consider two rate classes for simplicity\n",
    "n_class = 2\n",
    "# Consider Length-of-Stay (los) of upto three days\n",
    "los = 3\n",
    "capacity = 50\n",
    "# Consider two demand scenario, by changing capacity\n",
    "demand_intensity = 0.9\n",
    "# Slope for linear demand curve\n",
    "slope = np.array([-0.1, -0.15])\n",
    "# Nightly rates for Monday stay night through Sunday stay night\n",
    "# Higher weekday rates imply business hotel settings and higher weekend rates imply resorts\n",
    "rates_init = np.array([[135, 135, 135, 135, 135, 108, 108],\n",
    "                       [115, 115, 115, 115, 115, 92, 92]])"
   ]
  },
  {
   "cell_type": "code",
   "execution_count": 4,
   "metadata": {},
   "outputs": [
    {
     "data": {
      "text/plain": [
       "array([[135.1, 139.2, 142.7, 144.7, 138.3, 104.9,  98.9],\n",
       "       [124.1, 113.4, 118.2, 121.8, 110.9,  91.3,  96.6]])"
      ]
     },
     "execution_count": 4,
     "metadata": {},
     "output_type": "execute_result"
    }
   ],
   "source": [
    "# Take the slope of -0.1 for rate class 1, then the mean true demand point for any arrival date/lengthof-\n",
    "# stay combination is passed through by the line defined by this slope; 30 points on the price \n",
    "# axis for each arrival date/length-of-stay combination over the first 21 simulation days \n",
    "# are randomly generated from the interval (init_rate-50, init_rate+50)\n",
    "# Sunday-one night stay as an example\n",
    "drawsize = 30\n",
    "# Random draw for one night stay for each day of week\n",
    "randomRates_one = [np.random.randint(rates_init[i, j]-50, rates_init[i, j]+50+1, drawsize) \n",
    "                     for i, j in itertools.product(range(n_class), range(7))]\n",
    "randomRates_one = np.array(randomRates_one).reshape(n_class, 7, drawsize)\n",
    "# Check the averages are close to rates_init\n",
    "np.round(np.average(randomRates_one, axis = 2), decimals=1)"
   ]
  },
  {
   "cell_type": "code",
   "execution_count": 5,
   "metadata": {},
   "outputs": [
    {
     "data": {
      "text/plain": [
       "(2, 7, 30)"
      ]
     },
     "execution_count": 5,
     "metadata": {},
     "output_type": "execute_result"
    }
   ],
   "source": [
    "randomRates_one.shape"
   ]
  },
  {
   "cell_type": "code",
   "execution_count": 6,
   "metadata": {},
   "outputs": [],
   "source": [
    "# Construct rates for more than one night stay, up to 3-night stay\n",
    "# Sunday night arrival, two night stay rates equal Sunday one night + Monday one night stay\n",
    "randomRates_two = [randomRates_one[i, j%7] \n",
    "                     + randomRates_one[i, (j+1)%7] \n",
    "                     for i, j in itertools.product(range(n_class), range(7))]\n",
    "\n",
    "randomRates_three = [randomRates_one[i, j%7] \n",
    "                       + randomRates_one[i, (j+1)%7] \n",
    "                       + randomRates_one[i, (j+2)%7] \n",
    "                     for i, j in itertools.product(range(n_class), range(7))]"
   ]
  },
  {
   "cell_type": "code",
   "execution_count": 7,
   "metadata": {},
   "outputs": [],
   "source": [
    "# For each arrival date, los can be 1-night, 2-night, or 3-night.\n",
    "# Accordingly, the rates will be corresponding to different los.\n",
    "# e.g., for Mon arrival, 2-night stay, the rate equals Mon single night rate + Tu single night rate\n",
    "randomRates_one = np.array(randomRates_one).reshape(n_class, 7, drawsize)\n",
    "randomRates_two = np.array(randomRates_two).reshape(n_class, 7, drawsize)\n",
    "randomRates_three = np.array(randomRates_three).reshape(n_class, 7, drawsize)\n",
    "randomRates = [(randomRates_one[i, j], randomRates_two[i, j], randomRates_three[i, j]) \n",
    "               for i, j in itertools.product(range(n_class), range(7))]"
   ]
  },
  {
   "cell_type": "code",
   "execution_count": 8,
   "metadata": {},
   "outputs": [
    {
     "data": {
      "text/plain": [
       "(2, 7, 3, 30)"
      ]
     },
     "execution_count": 8,
     "metadata": {},
     "output_type": "execute_result"
    }
   ],
   "source": [
    "# axis 0 = n_class, axis 1 = day of week, axis 2 = los, and axis 3 = random draws\n",
    "randomRates = np.array(randomRates).reshape(n_class, 7, los, drawsize)\n",
    "randomRates.shape"
   ]
  },
  {
   "cell_type": "code",
   "execution_count": 9,
   "metadata": {},
   "outputs": [
    {
     "data": {
      "text/plain": [
       "array([[127, 180,  91, 172, 139, 160, 169, 115,  94, 122, 174,  96, 130,\n",
       "        146, 128, 148, 109, 156, 109,  92, 110, 100,  86, 183, 125, 158,\n",
       "        161, 132, 163, 179],\n",
       "       [289, 271, 268, 349, 248, 269, 354, 274, 241, 294, 284, 219, 292,\n",
       "        331, 233, 316, 206, 255, 274, 210, 290, 226, 202, 295, 261, 286,\n",
       "        297, 292, 263, 340],\n",
       "       [458, 418, 429, 478, 390, 369, 499, 385, 382, 460, 449, 352, 387,\n",
       "        512, 412, 447, 374, 360, 446, 303, 385, 391, 373, 428, 428, 424,\n",
       "        481, 451, 378, 461]])"
      ]
     },
     "execution_count": 9,
     "metadata": {},
     "output_type": "execute_result"
    }
   ],
   "source": [
    "# Randomly generated rates for class 1, Sunday arrivals\n",
    "randomRates[0, 0]"
   ]
  },
  {
   "cell_type": "code",
   "execution_count": 10,
   "metadata": {},
   "outputs": [
    {
     "data": {
      "text/plain": [
       "array([[124.06666667, 237.5       , 355.73333333],\n",
       "       [113.43333333, 231.66666667, 353.5       ],\n",
       "       [118.23333333, 240.06666667, 351.        ],\n",
       "       [121.83333333, 232.76666667, 324.03333333],\n",
       "       [110.93333333, 202.2       , 298.76666667],\n",
       "       [ 91.26666667, 187.83333333, 311.9       ],\n",
       "       [ 96.56666667, 220.63333333, 334.06666667]])"
      ]
     },
     "execution_count": 10,
     "metadata": {},
     "output_type": "execute_result"
    }
   ],
   "source": [
    "# Check accuracy, result should be similar to init_rate\n",
    "np.mean(randomRates[1], axis = 2)"
   ]
  },
  {
   "cell_type": "code",
   "execution_count": 11,
   "metadata": {},
   "outputs": [
    {
     "data": {
      "text/plain": [
       "array([[135, 135, 135, 135, 135, 108, 108],\n",
       "       [115, 115, 115, 115, 115,  92,  92]])"
      ]
     },
     "execution_count": 11,
     "metadata": {},
     "output_type": "execute_result"
    }
   ],
   "source": [
    "# Construct rates for more than one night stay, up to 3-night stay\n",
    "rates_init"
   ]
  },
  {
   "cell_type": "code",
   "execution_count": 12,
   "metadata": {},
   "outputs": [],
   "source": [
    "# Calculate averate rates for each arrival day of week and los combination\n",
    "rates_arrival_los = [[rates_init[i, j],\n",
    "                      rates_init[i, j] + rates_init[i, (j+1)%7],\n",
    "                      rates_init[i, j] + rates_init[i, (j+1)%7] + rates_init[i, (j+2)%7]] \n",
    "                      for i, j in itertools.product(range(n_class), range(7))]\n",
    "# Store it as a numpy array\n",
    "rates_arrival_los = np.array(rates_arrival_los).reshape(n_class, 7, los)"
   ]
  },
  {
   "cell_type": "code",
   "execution_count": 13,
   "metadata": {},
   "outputs": [
    {
     "data": {
      "text/plain": [
       "array([[[135, 270, 405],\n",
       "        [135, 270, 405],\n",
       "        [135, 270, 405],\n",
       "        [135, 270, 378],\n",
       "        [135, 243, 351],\n",
       "        [108, 216, 351],\n",
       "        [108, 243, 378]],\n",
       "\n",
       "       [[115, 230, 345],\n",
       "        [115, 230, 345],\n",
       "        [115, 230, 345],\n",
       "        [115, 230, 322],\n",
       "        [115, 207, 299],\n",
       "        [ 92, 184, 299],\n",
       "        [ 92, 207, 322]]])"
      ]
     },
     "execution_count": 13,
     "metadata": {},
     "output_type": "execute_result"
    }
   ],
   "source": [
    "rates_arrival_los"
   ]
  },
  {
   "cell_type": "code",
   "execution_count": 14,
   "metadata": {},
   "outputs": [],
   "source": [
    "# Calculate y-intercepts, assuming los distribution for a stay night is 1/3, 1/3, and 1/3\n",
    "# There exist one 1-night stay, two 2-night stays and three 3-night stays that cover \n",
    "# stay night in question.\n",
    "# Each rate class contribute half of the demand for each stay night\n",
    "half_demand = 0.5 * capacity * demand_intensity\n",
    "# Intercepts for 1-night stay\n",
    "A1 = np.array([[1, 0, 0, 0, 0, 0, 0],\n",
    "               [0, 1, 0, 0, 0, 0, 0],\n",
    "               [0, 0, 1, 0, 0, 0, 0],\n",
    "               [0, 0, 0, 1, 0, 0, 0],\n",
    "               [0, 0, 0, 0, 1, 0, 0],\n",
    "               [0, 0, 0, 0, 0, 1, 0],\n",
    "               [0, 0, 0, 0, 0, 0, 1]])\n",
    "b1 = [(half_demand * 1/3 - slope[i] * rates_arrival_los[i, j, 0]) \n",
    "               for i, j in itertools.product(range(n_class), range(7))]\n",
    "b1 = np.array(b1).reshape(n_class, 7)\n",
    "x1 = [np.linalg.solve(A1, b1[i]) for i in range(n_class)]\n",
    "\n",
    "# Intercepts for 2-night stay\n",
    "A2 = np.array([[1, 0, 0, 0, 0, 0, 1],\n",
    "               [1, 1, 0, 0, 0, 0, 0],\n",
    "               [0, 1, 1, 0, 0, 0, 0],\n",
    "               [0, 0, 1, 1, 0, 0, 0],\n",
    "               [0, 0, 0, 1, 1, 0, 0],\n",
    "               [0, 0, 0, 0, 1, 1, 0],\n",
    "               [0, 0, 0, 0, 0, 1, 1]])\n",
    "b2 = [(half_demand * 1/3 - slope[i] * (rates_arrival_los[i, j, 1]\n",
    "                                               +rates_arrival_los[i, (j-1+7)%7, 1])) \n",
    "               for i, j in itertools.product(range(n_class), range(7))]\n",
    "b2 = np.array(b2).reshape(n_class, 7)\n",
    "x2 = [np.linalg.solve(A2, b2[i]) for i in range(n_class)]\n",
    "\n",
    "# Intercepts for 3-night stay\n",
    "A3 = np.array([[1, 0, 0, 0, 0, 1, 1],\n",
    "               [1, 1, 0, 0, 0, 0, 1],\n",
    "               [1, 1, 1, 0, 0, 0, 0],\n",
    "               [0, 1, 1, 1, 0, 0, 0],\n",
    "               [0, 0, 1, 1, 1, 0, 0],\n",
    "               [0, 0, 0, 1, 1, 1, 0],\n",
    "               [0, 0, 0, 0, 1, 1, 1]])\n",
    "b3 = [(half_demand * 1/3 - slope[i] * (rates_arrival_los[i, j, 2]\n",
    "                                               +rates_arrival_los[i, (j-1+7)%7, 2]\n",
    "                                               +rates_arrival_los[i, (j-2+7)%7, 2]))\n",
    "             for i, j in itertools.product(range(n_class), range(7))]\n",
    "b3 = np.array(b3).reshape(n_class, 7)\n",
    "x3 = [np.linalg.solve(A3, b3[i]) for i in range(n_class)]"
   ]
  },
  {
   "cell_type": "code",
   "execution_count": 15,
   "metadata": {},
   "outputs": [],
   "source": [
    "# Create intercepts matrix for all arrival day-los combinations\n",
    "# Total 2 * 7 * 3 = 42 intercepts\n",
    "intercepts = np.concatenate((np.array(x1), np.array(x2), np.array(x3)), axis=1)\n",
    "intercepts = np.reshape(intercepts, (n_class, los, 7), order='C')\n",
    "intercepts = np.array([np.transpose(intercepts[i]) for i in range(n_class)])"
   ]
  },
  {
   "cell_type": "code",
   "execution_count": 16,
   "metadata": {},
   "outputs": [
    {
     "data": {
      "text/plain": [
       "array([[[21.  , 30.75, 43.  ],\n",
       "        [21.  , 30.75, 43.  ],\n",
       "        [21.  , 30.75, 43.  ],\n",
       "        [21.  , 30.75, 40.3 ],\n",
       "        [21.  , 28.05, 37.6 ],\n",
       "        [18.3 , 25.35, 37.6 ],\n",
       "        [18.3 , 28.05, 40.3 ]],\n",
       "\n",
       "       [[24.75, 38.25, 54.25],\n",
       "        [24.75, 38.25, 54.25],\n",
       "        [24.75, 38.25, 54.25],\n",
       "        [24.75, 38.25, 50.8 ],\n",
       "        [24.75, 34.8 , 47.35],\n",
       "        [21.3 , 31.35, 47.35],\n",
       "        [21.3 , 34.8 , 50.8 ]]])"
      ]
     },
     "execution_count": 16,
     "metadata": {},
     "output_type": "execute_result"
    }
   ],
   "source": [
    "intercepts"
   ]
  },
  {
   "cell_type": "code",
   "execution_count": 17,
   "metadata": {},
   "outputs": [],
   "source": [
    "# Mean of Poisson demand that is generated by the slope and y-intercept\n",
    "# One mean demand for each of the 30 randomly drawn price\n",
    "meanDemand = [intercepts[i,j, k] + slope[i] * randomRates[i, j, k, l] \n",
    "                    for i, j, k, l in itertools.product(range(n_class), range(7), range(los), range(drawsize))]\n",
    "meanDemand = np.array(meanDemand).reshape(n_class, 7, los, drawsize)\n",
    "zeros = np.zeros(n_class * 7 * los * drawsize).reshape(n_class, 7, los, drawsize)\n",
    "# Can't have megative demand, so truncate mean demand at zero\n",
    "meanDemand = np.maximum(meanDemand, zeros)"
   ]
  },
  {
   "cell_type": "code",
   "execution_count": 18,
   "metadata": {},
   "outputs": [
    {
     "data": {
      "text/plain": [
       "array([7.48666667, 3.82833333, 2.67333333])"
      ]
     },
     "execution_count": 18,
     "metadata": {},
     "output_type": "execute_result"
    }
   ],
   "source": [
    "# Mean demand rate for a Sunday arrival (including 1-, 2-, and 3-night stay) \n",
    "np.average(meanDemand[0, 0], axis=1)"
   ]
  },
  {
   "cell_type": "code",
   "execution_count": 19,
   "metadata": {},
   "outputs": [
    {
     "data": {
      "text/plain": [
       "array([8.3 , 1.85, 0.  ])"
      ]
     },
     "execution_count": 19,
     "metadata": {},
     "output_type": "execute_result"
    }
   ],
   "source": [
    "# Mean demand rate for a Sunday arrival (including 1-, 2-, and 3-night stay) \n",
    "meanDemand[0, 0, :, 0]"
   ]
  },
  {
   "cell_type": "code",
   "execution_count": 20,
   "metadata": {},
   "outputs": [
    {
     "data": {
      "text/plain": [
       "array([[27.03166667, 23.33166667, 20.15833333, 19.74166667, 23.31333333,\n",
       "        28.07      , 30.66666667],\n",
       "       [22.7       , 25.95166667, 25.30166667, 26.085     , 31.64833333,\n",
       "        30.83666667, 25.79166667]])"
      ]
     },
     "execution_count": 20,
     "metadata": {},
     "output_type": "execute_result"
    }
   ],
   "source": [
    "# Check total mean demand for each control day of week for each random drawn price\n",
    "totalDemand = [np.sum(meanDemand[i, j,:,k]) \n",
    "                     + np.sum(meanDemand[i, (j-1+7)%7, 1:, k]) \n",
    "                     + np.sum(meanDemand[i, (j-2+7)%7, 2:, k]) \n",
    "                     for i, j, k in itertools.product(range(n_class), range(7), range(drawsize))]\n",
    "# Check total mean demand for each day of week\n",
    "# This mean demand should be around half of the expected demand\n",
    "totalDemand = np.array(totalDemand).reshape(n_class, 7, drawsize)\n",
    "np.mean(totalDemand, axis=2)"
   ]
  },
  {
   "cell_type": "code",
   "execution_count": 21,
   "metadata": {},
   "outputs": [],
   "source": [
    "# Generate random demand for each day of week and length of stay combination\n",
    "randomDemand = [poisson.rvs(mu, size=1) for mu in np.nditer(meanDemand)]\n",
    "randomDemand = np.array(randomDemand).reshape(n_class, 7, los, drawsize)"
   ]
  },
  {
   "cell_type": "code",
   "execution_count": 22,
   "metadata": {},
   "outputs": [
    {
     "data": {
      "text/plain": [
       "array([[ 6,  7, 13,  3,  6,  3,  5,  4, 11, 13,  5,  8,  5,  6,  9,  5,\n",
       "         8,  4, 12, 12, 11, 14, 10,  3, 14,  4,  7,  7,  2,  1],\n",
       "       [ 5,  3,  2,  0,  7,  5,  0,  2,  5,  1,  3,  7,  0,  0, 14,  0,\n",
       "        11,  4,  2,  9,  2,  9, 15,  0,  4,  3,  1,  0,  5,  0],\n",
       "       [ 0,  2,  0,  0,  4,  7,  0,  6,  7,  0,  0,  6,  7,  0,  2,  0,\n",
       "         5, 10,  0, 14,  6,  6,  4,  0,  0,  2,  0,  0,  6,  0]])"
      ]
     },
     "execution_count": 22,
     "metadata": {},
     "output_type": "execute_result"
    }
   ],
   "source": [
    "# Class 1 Sunday arrivals for 1-night, 2-night, and 3-night stays\n",
    "randomDemand[0, 0]"
   ]
  },
  {
   "cell_type": "code",
   "execution_count": 23,
   "metadata": {},
   "outputs": [
    {
     "data": {
      "text/plain": [
       "array([[27.16666667, 24.33333333, 19.66666667, 19.43333333, 23.73333333,\n",
       "        28.66666667, 30.3       ],\n",
       "       [23.46666667, 26.4       , 26.56666667, 25.73333333, 30.33333333,\n",
       "        30.03333333, 26.56666667]])"
      ]
     },
     "execution_count": 23,
     "metadata": {},
     "output_type": "execute_result"
    }
   ],
   "source": [
    "# Check number of total arrivals span a stay night in question for each day of week, \n",
    "# Consider up to 3-night stay\n",
    "arrivals = [np.sum(randomDemand[i, j,:,k]) \n",
    "            + np.sum(randomDemand[i, (j-1+7)%7, 1:, k]) \n",
    "            + np.sum(randomDemand[i, (j-2+7)%7, 2:, k]) \n",
    "            for i, j, k in itertools.product(range(n_class), range(7), range(drawsize))]\n",
    "arrivals = np.array(arrivals).reshape(n_class, 7, drawsize)\n",
    "np.mean(arrivals, axis = 2)"
   ]
  },
  {
   "cell_type": "code",
   "execution_count": 24,
   "metadata": {},
   "outputs": [
    {
     "data": {
      "text/plain": [
       "(2, 7, 30)"
      ]
     },
     "execution_count": 24,
     "metadata": {},
     "output_type": "execute_result"
    }
   ],
   "source": [
    "arrivals.shape"
   ]
  },
  {
   "cell_type": "code",
   "execution_count": 25,
   "metadata": {},
   "outputs": [
    {
     "data": {
      "text/plain": [
       "(array([[127, 180,  91, 172, 139, 160, 169, 115,  94, 122, 174,  96, 130,\n",
       "         146, 128, 148, 109, 156, 109,  92, 110, 100,  86, 183, 125, 158,\n",
       "         161, 132, 163, 179],\n",
       "        [289, 271, 268, 349, 248, 269, 354, 274, 241, 294, 284, 219, 292,\n",
       "         331, 233, 316, 206, 255, 274, 210, 290, 226, 202, 295, 261, 286,\n",
       "         297, 292, 263, 340],\n",
       "        [458, 418, 429, 478, 390, 369, 499, 385, 382, 460, 449, 352, 387,\n",
       "         512, 412, 447, 374, 360, 446, 303, 385, 391, 373, 428, 428, 424,\n",
       "         481, 451, 378, 461]]),\n",
       " array([[ 6,  7, 13,  3,  6,  3,  5,  4, 11, 13,  5,  8,  5,  6,  9,  5,\n",
       "          8,  4, 12, 12, 11, 14, 10,  3, 14,  4,  7,  7,  2,  1],\n",
       "        [ 5,  3,  2,  0,  7,  5,  0,  2,  5,  1,  3,  7,  0,  0, 14,  0,\n",
       "         11,  4,  2,  9,  2,  9, 15,  0,  4,  3,  1,  0,  5,  0],\n",
       "        [ 0,  2,  0,  0,  4,  7,  0,  6,  7,  0,  0,  6,  7,  0,  2,  0,\n",
       "          5, 10,  0, 14,  6,  6,  4,  0,  0,  2,  0,  0,  6,  0]]))"
      ]
     },
     "execution_count": 25,
     "metadata": {},
     "output_type": "execute_result"
    }
   ],
   "source": [
    "# Rates and demand for Sunday stay night for rate class 1 \n",
    "randomRates[0, 0], randomDemand[0, 0]"
   ]
  },
  {
   "cell_type": "code",
   "execution_count": 26,
   "metadata": {},
   "outputs": [],
   "source": [
    "# Create linear regression object\n",
    "slopes_update = []\n",
    "intercepts_update = []\n",
    "regr = LinearRegression()\n",
    "for i, j, k in itertools.product(range(n_class), range(7), range(los)):\n",
    "    regr.fit(randomRates[i, j, k, :].reshape(drawsize, -1), randomDemand[i, j, k, :])\n",
    "    intercepts_update.append(regr.intercept_)\n",
    "    slopes_update.append(regr.coef_)"
   ]
  },
  {
   "cell_type": "code",
   "execution_count": 27,
   "metadata": {},
   "outputs": [],
   "source": [
    "slopes_update = np.array(slopes_update).reshape(n_class, 7, los)\n",
    "intercepts_update = np.array(intercepts_update).reshape(n_class, 7, los)"
   ]
  },
  {
   "cell_type": "code",
   "execution_count": 28,
   "metadata": {},
   "outputs": [],
   "source": [
    "slopes_update = np.round(slopes_update, 2)\n",
    "intercepts_update = np.round(intercepts_update, 0)"
   ]
  },
  {
   "cell_type": "code",
   "execution_count": 29,
   "metadata": {},
   "outputs": [
    {
     "data": {
      "text/plain": [
       "(array([[[-0.1 , -0.09, -0.07],\n",
       "         [-0.11, -0.07, -0.06],\n",
       "         [-0.1 , -0.07, -0.06],\n",
       "         [-0.11, -0.06, -0.09],\n",
       "         [-0.1 , -0.1 , -0.06],\n",
       "         [-0.1 , -0.1 , -0.09],\n",
       "         [-0.11, -0.08, -0.07]],\n",
       " \n",
       "        [[-0.17, -0.09, -0.09],\n",
       "         [-0.14, -0.11, -0.07],\n",
       "         [-0.14, -0.07, -0.09],\n",
       "         [-0.13, -0.1 , -0.09],\n",
       "         [-0.16, -0.09, -0.08],\n",
       "         [-0.12, -0.12, -0.09],\n",
       "         [-0.17, -0.12, -0.09]]]),\n",
       " array([[[20., 28., 32.],\n",
       "         [23., 24., 28.],\n",
       "         [20., 23., 26.],\n",
       "         [23., 21., 38.],\n",
       "         [22., 29., 23.],\n",
       "         [18., 25., 35.],\n",
       "         [19., 24., 30.]],\n",
       " \n",
       "        [[27., 24., 35.],\n",
       "         [24., 31., 29.],\n",
       "         [24., 21., 36.],\n",
       "         [22., 28., 34.],\n",
       "         [25., 25., 27.],\n",
       "         [18., 27., 31.],\n",
       "         [24., 30., 34.]]]))"
      ]
     },
     "execution_count": 29,
     "metadata": {},
     "output_type": "execute_result"
    }
   ],
   "source": [
    "slopes_update, intercepts_update"
   ]
  },
  {
   "cell_type": "code",
   "execution_count": null,
   "metadata": {},
   "outputs": [],
   "source": [
    " "
   ]
  }
 ],
 "metadata": {
  "kernelspec": {
   "display_name": "Python 3",
   "language": "python",
   "name": "python3"
  },
  "language_info": {
   "codemirror_mode": {
    "name": "ipython",
    "version": 3
   },
   "file_extension": ".py",
   "mimetype": "text/x-python",
   "name": "python",
   "nbconvert_exporter": "python",
   "pygments_lexer": "ipython3",
   "version": "3.7.7"
  }
 },
 "nbformat": 4,
 "nbformat_minor": 4
}
