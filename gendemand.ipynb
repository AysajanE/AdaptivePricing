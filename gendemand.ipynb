{
 "cells": [
  {
   "cell_type": "code",
   "execution_count": 1,
   "metadata": {},
   "outputs": [],
   "source": [
    "# Generate demand for simulation analysis"
   ]
  },
  {
   "cell_type": "code",
   "execution_count": 2,
   "metadata": {},
   "outputs": [],
   "source": [
    "import itertools\n",
    "import numpy as np\n",
    "from scipy.stats import norm\n",
    "from scipy.stats import poisson\n",
    "from sklearn.linear_model import LinearRegression\n",
    "import matplotlib.pyplot as plt"
   ]
  },
  {
   "cell_type": "code",
   "execution_count": 3,
   "metadata": {},
   "outputs": [],
   "source": [
    "# Consider two rate classes for simplicity\n",
    "n_class = 2\n",
    "# Consider Length-of-Stay (los) of upto three days\n",
    "los = 3\n",
    "capacity = 50\n",
    "# Consider two demand scenario, by changing capacity\n",
    "demand_intensity = np.array([0.9, 1.5])\n",
    "# Slope for linear demand curve\n",
    "slope = np.array([-0.1, -0.15])\n",
    "# Nightly rates for Monday stay night through Sunday stay night\n",
    "# Higher weekday rates imply business hotel settings and higher weekend rates imply resorts\n",
    "init_rate1 = np.array([135, 135, 135, 135, 135, 108, 108])\n",
    "init_rate2 = np.array([115, 115, 115, 115, 115, 92, 92])"
   ]
  },
  {
   "cell_type": "code",
   "execution_count": 4,
   "metadata": {},
   "outputs": [],
   "source": [
    "# Take the slope of -0.1 for rate class 1, then the mean true demand point for any arrival date/lengthof-\n",
    "# stay combination is passed through by the line defined by this slope; 30 points on the price \n",
    "# axis for each arrival date/length-of-stay combination over the first 21 simulation days \n",
    "# are randomly generated from the interval (init_rate-50, init_rate+50)\n",
    "# Sunday-one night stay as an example\n",
    "drawsize = 30\n",
    "# Random draw for one night stay for each day of week\n",
    "random_rates1_one = [np.random.randint(init_rate1[i]-50, init_rate1[i]+50+1, drawsize) \n",
    "                     for i in range(7)]\n",
    "random_rates2_one = [np.random.randint(init_rate2[i]-50, init_rate2[i]+50+1, drawsize) \n",
    "                     for i in range(7)]\n",
    "\n",
    "# Construct rates for more than one night stay, up to 3-night stay\n",
    "# Sunday night arrival, two night stay rates equal sunday one night + monday one night stay\n",
    "random_rates1_two = [random_rates1_one[i%7] \n",
    "                     + random_rates1_one[(i+1)%7] \n",
    "                     for i in range(7)]\n",
    "\n",
    "random_rates2_two = [random_rates2_one[i%7] \n",
    "                     + random_rates2_one[(i+1)%7] \n",
    "                     for i in range(7)]\n",
    "\n",
    "random_rates1_three = [random_rates1_one[i%7] \n",
    "                       + random_rates1_one[(i+1)%7] \n",
    "                       + random_rates1_one[(i+2)%7] \n",
    "                       for i in range(7)]\n",
    "\n",
    "random_rates2_three = [random_rates2_one[i%7] \n",
    "                       + random_rates2_one[(i+1)%7] \n",
    "                       + random_rates2_one[(i+2)%7] \n",
    "                       for i in range(7)]"
   ]
  },
  {
   "cell_type": "code",
   "execution_count": 5,
   "metadata": {},
   "outputs": [],
   "source": [
    "# Change type to numpy array\n",
    "random_rates1_one = np.array(random_rates1_one).reshape(7, drawsize)\n",
    "random_rates1_two = np.array(random_rates1_two).reshape(7, drawsize)\n",
    "random_rates1_three = np.array(random_rates1_three).reshape(7, drawsize)\n",
    "randomRates1 = [(random_rates1_one[i], random_rates1_two[i], random_rates1_three[i]) \n",
    "                 for i in range(7)]"
   ]
  },
  {
   "cell_type": "code",
   "execution_count": 6,
   "metadata": {},
   "outputs": [],
   "source": [
    "# Reshape array, where axis 0 = day of week, axis 1 = length of stay, and axis 3 = random draw\n",
    "randomRates1 = np.array(randomRates1).reshape(7, 3, drawsize)"
   ]
  },
  {
   "cell_type": "code",
   "execution_count": 7,
   "metadata": {},
   "outputs": [
    {
     "data": {
      "text/plain": [
       "array([[171, 133, 135, 105, 118, 179, 183,  92, 156,  90, 173,  93, 185,\n",
       "        174,  86, 177, 127, 120, 161, 157,  93, 149, 114, 163, 152, 157,\n",
       "        140, 146, 177, 120],\n",
       "       [274, 221, 226, 282, 279, 325, 362, 181, 277, 264, 352, 222, 314,\n",
       "        302, 244, 308, 231, 263, 255, 271, 216, 286, 263, 330, 280, 277,\n",
       "        229, 331, 284, 239],\n",
       "       [454, 396, 329, 447, 390, 486, 536, 318, 398, 379, 456, 318, 425,\n",
       "        469, 341, 467, 337, 430, 403, 384, 346, 377, 356, 499, 441, 448,\n",
       "        379, 466, 449, 404]])"
      ]
     },
     "execution_count": 7,
     "metadata": {},
     "output_type": "execute_result"
    }
   ],
   "source": [
    "randomRates1[0]"
   ]
  },
  {
   "cell_type": "code",
   "execution_count": 8,
   "metadata": {},
   "outputs": [
    {
     "data": {
      "text/plain": [
       "array([[140.86666667, 272.93333333, 410.93333333],\n",
       "       [132.06666667, 270.06666667, 394.76666667],\n",
       "       [138.        , 262.7       , 395.8       ],\n",
       "       [124.7       , 257.8       , 366.46666667],\n",
       "       [133.1       , 241.76666667, 353.46666667],\n",
       "       [108.66666667, 220.36666667, 361.23333333],\n",
       "       [111.7       , 252.56666667, 384.63333333]])"
      ]
     },
     "execution_count": 8,
     "metadata": {},
     "output_type": "execute_result"
    }
   ],
   "source": [
    "# Check accuracy, result should be similar to init_rate\n",
    "np.mean(randomRates1, axis = 2)"
   ]
  },
  {
   "cell_type": "code",
   "execution_count": 9,
   "metadata": {},
   "outputs": [
    {
     "data": {
      "text/plain": [
       "array([135, 135, 135, 135, 135, 108, 108])"
      ]
     },
     "execution_count": 9,
     "metadata": {},
     "output_type": "execute_result"
    }
   ],
   "source": [
    "# Construct rates for more than one night stay, up to 3-night stay\n",
    "init_rate1"
   ]
  },
  {
   "cell_type": "code",
   "execution_count": 10,
   "metadata": {},
   "outputs": [],
   "source": [
    "# Calculate averate rates for each arrival day of week and los combination\n",
    "rates1_arrival_los = [[init_rate1[i],\n",
    "                      init_rate1[i] + init_rate1[(i+1)%7],\n",
    "                      init_rate1[i] + init_rate1[(i+1)%7] + init_rate1[(i+2)%7]] \n",
    "                      for i in range(7)]\n",
    "# Store it as a numpy array\n",
    "rates1_arrival_los = np.array(rates1_arrival_los)"
   ]
  },
  {
   "cell_type": "code",
   "execution_count": 11,
   "metadata": {},
   "outputs": [
    {
     "data": {
      "text/plain": [
       "array([[135, 270, 405],\n",
       "       [135, 270, 405],\n",
       "       [135, 270, 405],\n",
       "       [135, 270, 378],\n",
       "       [135, 243, 351],\n",
       "       [108, 216, 351],\n",
       "       [108, 243, 378]])"
      ]
     },
     "execution_count": 11,
     "metadata": {},
     "output_type": "execute_result"
    }
   ],
   "source": [
    "rates1_arrival_los"
   ]
  },
  {
   "cell_type": "code",
   "execution_count": 12,
   "metadata": {},
   "outputs": [],
   "source": [
    "# Calculate y-intercepts, assuming los distribution for a stay night is 1/3, 1/3, and 1/3\n",
    "# There exist one 1-night stay, two 2-night stays and three 3-night stays that cover \n",
    "# stay night in question.\n",
    "# Each rate class contribute half of the demand for each stay night\n",
    "half_demand = 0.5 * capacity * demand_intensity\n",
    "\n",
    "intercepts_rate1 = [[half_demand[0] * 1/3 - slope[0] * rates1_arrival_los[i, 0],\n",
    "                   half_demand[0] * 1/3 * 1/2 - slope[0] * rates1_arrival_los[(i-1+7)%7, 1],\n",
    "                   half_demand[0] * 1/3 * 1/3 - slope[0] * rates1_arrival_los[(i-2+7)%7, 2]] \n",
    "                    for i in range(7)]\n",
    "\n",
    "intercepts_rate1 = np.array(intercepts_rate1)"
   ]
  },
  {
   "cell_type": "code",
   "execution_count": 13,
   "metadata": {},
   "outputs": [
    {
     "data": {
      "text/plain": [
       "(-0.1,\n",
       " array([[21.  , 28.05, 37.6 ],\n",
       "        [21.  , 30.75, 40.3 ],\n",
       "        [21.  , 30.75, 43.  ],\n",
       "        [21.  , 30.75, 43.  ],\n",
       "        [21.  , 30.75, 43.  ],\n",
       "        [18.3 , 28.05, 40.3 ],\n",
       "        [18.3 , 25.35, 37.6 ]]))"
      ]
     },
     "execution_count": 13,
     "metadata": {},
     "output_type": "execute_result"
    }
   ],
   "source": [
    "slope[0], intercepts_rate1"
   ]
  },
  {
   "cell_type": "code",
   "execution_count": 14,
   "metadata": {},
   "outputs": [],
   "source": [
    "# Mean of Poisson demand that is generated by the slope and y-intercept\n",
    "# One mean demand for each of the 30 randomly drawn price\n",
    "meanDemand_rate1 = [intercepts_rate1[i,j] + slope[0] * randomRates1[i, j, k] \n",
    "                    for i, j, k in itertools.product(range(7), range(los), range(drawsize))]\n",
    "meanDemand_rate1 = np.array(meanDemand_rate1).reshape(7, los, drawsize)\n",
    "zeros = np.zeros(7 * los * drawsize).reshape(7, los, drawsize)\n",
    "# Truncate mean demand at zero\n",
    "meanDemand_rate1 = np.maximum(meanDemand_rate1, zeros)"
   ]
  },
  {
   "cell_type": "code",
   "execution_count": 15,
   "metadata": {},
   "outputs": [
    {
     "data": {
      "text/plain": [
       "array([[ 3.9 ,  7.7 ,  7.5 , 10.5 ,  9.2 ,  3.1 ,  2.7 , 11.8 ,  5.4 ,\n",
       "        12.  ,  3.7 , 11.7 ,  2.5 ,  3.6 , 12.4 ,  3.3 ,  8.3 ,  9.  ,\n",
       "         4.9 ,  5.3 , 11.7 ,  6.1 ,  9.6 ,  4.7 ,  5.8 ,  5.3 ,  7.  ,\n",
       "         6.4 ,  3.3 ,  9.  ],\n",
       "       [ 0.65,  5.95,  5.45,  0.  ,  0.15,  0.  ,  0.  ,  9.95,  0.35,\n",
       "         1.65,  0.  ,  5.85,  0.  ,  0.  ,  3.65,  0.  ,  4.95,  1.75,\n",
       "         2.55,  0.95,  6.45,  0.  ,  1.75,  0.  ,  0.05,  0.35,  5.15,\n",
       "         0.  ,  0.  ,  4.15],\n",
       "       [ 0.  ,  0.  ,  4.7 ,  0.  ,  0.  ,  0.  ,  0.  ,  5.8 ,  0.  ,\n",
       "         0.  ,  0.  ,  5.8 ,  0.  ,  0.  ,  3.5 ,  0.  ,  3.9 ,  0.  ,\n",
       "         0.  ,  0.  ,  3.  ,  0.  ,  2.  ,  0.  ,  0.  ,  0.  ,  0.  ,\n",
       "         0.  ,  0.  ,  0.  ]])"
      ]
     },
     "execution_count": 15,
     "metadata": {},
     "output_type": "execute_result"
    }
   ],
   "source": [
    "# Mean demand rate for a Sunday arrival (including 1-, 2-, and 3-night stay) \n",
    "meanDemand_rate1[0]"
   ]
  },
  {
   "cell_type": "code",
   "execution_count": 16,
   "metadata": {},
   "outputs": [],
   "source": [
    "# Check total mean demand for each day of week for each random drawn price\n",
    "totalDemand_rate1 = [[np.sum(meanDemand_rate1[i,:,j]) \n",
    "                     + np.sum(meanDemand_rate1[(i-1+7)%7, 1:, j]) \n",
    "                     + np.sum(meanDemand_rate1[(i-2+7)%7, 2:, j]) \n",
    "                     for i in range(7)] for j in range(drawsize)]"
   ]
  },
  {
   "cell_type": "code",
   "execution_count": 17,
   "metadata": {},
   "outputs": [
    {
     "data": {
      "text/plain": [
       "array([18.82333333, 33.145     , 38.27333333, 22.90833333, 19.68333333,\n",
       "       38.61      , 27.85666667])"
      ]
     },
     "execution_count": 17,
     "metadata": {},
     "output_type": "execute_result"
    }
   ],
   "source": [
    "# Check total mean demand for each day of week\n",
    "totalDemand_rate1 = np.array(totalDemand_rate1).reshape(7, drawsize)\n",
    "np.mean(totalDemand_rate1, axis=1)"
   ]
  },
  {
   "cell_type": "code",
   "execution_count": 18,
   "metadata": {},
   "outputs": [],
   "source": [
    "# Generate random demand for each day of week and length of stay combination\n",
    "randomDemand_rate1 = [poisson.rvs(mu, size=1) for mu in np.nditer(meanDemand_rate1)]\n",
    "randomDemand_rate1 = np.array(randomDemand_rate1).reshape(7, los, drawsize)"
   ]
  },
  {
   "cell_type": "code",
   "execution_count": 19,
   "metadata": {},
   "outputs": [
    {
     "data": {
      "text/plain": [
       "array([[ 6,  9,  6,  8, 18,  0,  2, 12,  6,  9,  3, 12,  2,  0, 13,  5,\n",
       "        10, 13,  7,  5, 12,  7, 12,  1,  6,  7,  5,  4,  8,  7],\n",
       "       [ 0,  4,  1,  0,  0,  0,  0,  5,  0,  1,  0,  5,  0,  0,  3,  0,\n",
       "         8,  1,  4,  2,  1,  0,  1,  0,  0,  2,  5,  0,  0,  6],\n",
       "       [ 0,  0,  5,  0,  0,  0,  0,  9,  0,  0,  0,  5,  0,  0,  3,  0,\n",
       "         3,  0,  0,  0,  5,  0,  2,  0,  0,  0,  0,  0,  0,  0]])"
      ]
     },
     "execution_count": 19,
     "metadata": {},
     "output_type": "execute_result"
    }
   ],
   "source": [
    "randomDemand_rate1[0]"
   ]
  },
  {
   "cell_type": "code",
   "execution_count": null,
   "metadata": {},
   "outputs": [],
   "source": []
  }
 ],
 "metadata": {
  "kernelspec": {
   "display_name": "Python 3",
   "language": "python",
   "name": "python3"
  },
  "language_info": {
   "codemirror_mode": {
    "name": "ipython",
    "version": 3
   },
   "file_extension": ".py",
   "mimetype": "text/x-python",
   "name": "python",
   "nbconvert_exporter": "python",
   "pygments_lexer": "ipython3",
   "version": "3.7.7"
  }
 },
 "nbformat": 4,
 "nbformat_minor": 4
}
