{
 "cells": [
  {
   "cell_type": "code",
   "execution_count": 1,
   "metadata": {},
   "outputs": [],
   "source": [
    "# Initiate linear demand curve parameters for simulation analysis\n",
    "# One linear demand curve is initiated for each rate class, arrival day of week and \n",
    "# los combination"
   ]
  },
  {
   "cell_type": "code",
   "execution_count": 2,
   "metadata": {},
   "outputs": [],
   "source": [
    "import itertools\n",
    "import numpy as np\n",
    "from scipy.stats import norm\n",
    "from scipy.stats import poisson\n",
    "from sklearn.linear_model import LinearRegression"
   ]
  },
  {
   "cell_type": "code",
   "execution_count": 3,
   "metadata": {},
   "outputs": [],
   "source": [
    "# Consider two rate classes for simplicity\n",
    "n_class = 2\n",
    "# Consider Length-of-Stay (los) of upto three days\n",
    "los = 3\n",
    "capacity = 50\n",
    "# Consider two demand scenario, by changing capacity\n",
    "demand_intensity = 0.9\n",
    "# Slope for linear demand curve\n",
    "slope = np.array([-0.1, -0.15])\n",
    "# Nightly rates for Monday stay night through Sunday stay night\n",
    "# Higher weekday rates imply business hotel settings and higher weekend rates imply resorts\n",
    "rates_init = np.array([[135, 135, 135, 135, 135, 108, 108],\n",
    "                       [115, 115, 115, 115, 115, 92, 92]])"
   ]
  },
  {
   "cell_type": "code",
   "execution_count": 4,
   "metadata": {},
   "outputs": [
    {
     "data": {
      "text/plain": [
       "array([[145. , 132.3, 136.6, 142.7, 132.3, 110.9, 112.4],\n",
       "       [118.3, 122.2, 114.4, 108.5, 120.4,  84.2, 102.3]])"
      ]
     },
     "execution_count": 4,
     "metadata": {},
     "output_type": "execute_result"
    }
   ],
   "source": [
    "# Take the slope of -0.1 for rate class 1, then the mean true demand point for any arrival date/lengthof-\n",
    "# stay combination is passed through by the line defined by this slope; 30 points on the price \n",
    "# axis for each arrival date/length-of-stay combination over the first 21 simulation days \n",
    "# are randomly generated from the interval (init_rate-50, init_rate+50)\n",
    "# Sunday-one night stay as an example\n",
    "drawsize = 30\n",
    "# Random draw for one night stay for each day of week\n",
    "randomRates_one = [np.random.randint(rates_init[i, j]-50, rates_init[i, j]+50+1, drawsize) \n",
    "                     for i, j in itertools.product(range(n_class), range(7))]\n",
    "randomRates_one = np.array(randomRates_one).reshape(n_class, 7, drawsize)\n",
    "# Check the averages are close to rates_init\n",
    "np.round(np.average(randomRates_one, axis = 2), decimals=1)"
   ]
  },
  {
   "cell_type": "code",
   "execution_count": 5,
   "metadata": {},
   "outputs": [
    {
     "data": {
      "text/plain": [
       "(2, 7, 30)"
      ]
     },
     "execution_count": 5,
     "metadata": {},
     "output_type": "execute_result"
    }
   ],
   "source": [
    "randomRates_one.shape"
   ]
  },
  {
   "cell_type": "code",
   "execution_count": 6,
   "metadata": {},
   "outputs": [],
   "source": [
    "# Construct rates for more than one night stay, up to 3-night stay\n",
    "# Sunday night arrival, two night stay rates equal Sunday one night + Monday one night stay\n",
    "randomRates_two = [randomRates_one[i, j%7] \n",
    "                     + randomRates_one[i, (j+1)%7] \n",
    "                     for i, j in itertools.product(range(n_class), range(7))]\n",
    "\n",
    "randomRates_three = [randomRates_one[i, j%7] \n",
    "                       + randomRates_one[i, (j+1)%7] \n",
    "                       + randomRates_one[i, (j+2)%7] \n",
    "                     for i, j in itertools.product(range(n_class), range(7))]"
   ]
  },
  {
   "cell_type": "code",
   "execution_count": 7,
   "metadata": {},
   "outputs": [],
   "source": [
    "# For each arrival date, los can be 1-night, 2-night, or 3-night.\n",
    "# Accordingly, the rates will be corresponding to different los.\n",
    "# e.g., for Mon arrival, 2-night stay, the rate equals Mon single night rate + Tu single night rate\n",
    "randomRates_one = np.array(randomRates_one).reshape(n_class, 7, drawsize)\n",
    "randomRates_two = np.array(randomRates_two).reshape(n_class, 7, drawsize)\n",
    "randomRates_three = np.array(randomRates_three).reshape(n_class, 7, drawsize)\n",
    "randomRates = [(randomRates_one[i, j], randomRates_two[i, j], randomRates_three[i, j]) \n",
    "               for i, j in itertools.product(range(n_class), range(7))]"
   ]
  },
  {
   "cell_type": "code",
   "execution_count": 8,
   "metadata": {},
   "outputs": [
    {
     "data": {
      "text/plain": [
       "(2, 7, 3, 30)"
      ]
     },
     "execution_count": 8,
     "metadata": {},
     "output_type": "execute_result"
    }
   ],
   "source": [
    "# axis 0 = n_class, axis 1 = day of week, axis 2 = los, and axis 3 = random draws\n",
    "randomRates = np.array(randomRates).reshape(n_class, 7, los, drawsize)\n",
    "randomRates.shape"
   ]
  },
  {
   "cell_type": "code",
   "execution_count": 9,
   "metadata": {},
   "outputs": [
    {
     "data": {
      "text/plain": [
       "array([[176, 148, 140, 166, 174, 100, 168, 101, 113, 137, 105, 152, 169,\n",
       "        131, 180, 176, 166, 175, 117, 120, 185, 179, 125, 135, 119, 166,\n",
       "         89, 105, 155, 177],\n",
       "       [307, 248, 291, 278, 269, 197, 267, 253, 257, 299, 262, 296, 335,\n",
       "        300, 277, 280, 253, 285, 260, 277, 303, 286, 275, 258, 301, 338,\n",
       "        241, 280, 279, 266],\n",
       "       [478, 340, 448, 419, 429, 292, 437, 436, 394, 428, 355, 470, 501,\n",
       "        457, 433, 372, 342, 421, 430, 415, 440, 386, 408, 424, 416, 489,\n",
       "        363, 417, 405, 371]])"
      ]
     },
     "execution_count": 9,
     "metadata": {},
     "output_type": "execute_result"
    }
   ],
   "source": [
    "# Randomly generated rates for class 1, Sunday arrivals\n",
    "randomRates[0, 0]"
   ]
  },
  {
   "cell_type": "code",
   "execution_count": 10,
   "metadata": {},
   "outputs": [
    {
     "data": {
      "text/plain": [
       "array([[118.33333333, 240.53333333, 354.96666667],\n",
       "       [122.2       , 236.63333333, 345.16666667],\n",
       "       [114.43333333, 222.96666667, 343.33333333],\n",
       "       [108.53333333, 228.9       , 313.1       ],\n",
       "       [120.36666667, 204.56666667, 306.86666667],\n",
       "       [ 84.2       , 186.5       , 304.83333333],\n",
       "       [102.3       , 220.63333333, 342.83333333]])"
      ]
     },
     "execution_count": 10,
     "metadata": {},
     "output_type": "execute_result"
    }
   ],
   "source": [
    "# Check accuracy, result should be similar to init_rate\n",
    "np.mean(randomRates[1], axis = 2)"
   ]
  },
  {
   "cell_type": "code",
   "execution_count": 11,
   "metadata": {},
   "outputs": [
    {
     "data": {
      "text/plain": [
       "array([[135, 135, 135, 135, 135, 108, 108],\n",
       "       [115, 115, 115, 115, 115,  92,  92]])"
      ]
     },
     "execution_count": 11,
     "metadata": {},
     "output_type": "execute_result"
    }
   ],
   "source": [
    "# Construct rates for more than one night stay, up to 3-night stay\n",
    "rates_init"
   ]
  },
  {
   "cell_type": "code",
   "execution_count": 12,
   "metadata": {},
   "outputs": [],
   "source": [
    "# Calculate averate rates for each arrival day of week and los combination\n",
    "rates_arrival_los = [[rates_init[i, j],\n",
    "                      rates_init[i, j] + rates_init[i, (j+1)%7],\n",
    "                      rates_init[i, j] + rates_init[i, (j+1)%7] + rates_init[i, (j+2)%7]] \n",
    "                      for i, j in itertools.product(range(n_class), range(7))]\n",
    "# Store it as a numpy array\n",
    "rates_arrival_los = np.array(rates_arrival_los).reshape(n_class, 7, los)"
   ]
  },
  {
   "cell_type": "code",
   "execution_count": 13,
   "metadata": {},
   "outputs": [
    {
     "data": {
      "text/plain": [
       "array([[[135, 270, 405],\n",
       "        [135, 270, 405],\n",
       "        [135, 270, 405],\n",
       "        [135, 270, 378],\n",
       "        [135, 243, 351],\n",
       "        [108, 216, 351],\n",
       "        [108, 243, 378]],\n",
       "\n",
       "       [[115, 230, 345],\n",
       "        [115, 230, 345],\n",
       "        [115, 230, 345],\n",
       "        [115, 230, 322],\n",
       "        [115, 207, 299],\n",
       "        [ 92, 184, 299],\n",
       "        [ 92, 207, 322]]])"
      ]
     },
     "execution_count": 13,
     "metadata": {},
     "output_type": "execute_result"
    }
   ],
   "source": [
    "rates_arrival_los"
   ]
  },
  {
   "cell_type": "code",
   "execution_count": 14,
   "metadata": {},
   "outputs": [],
   "source": [
    "# Calculate y-intercepts, assuming los distribution for a stay night is 1/3, 1/3, and 1/3\n",
    "# There exist one 1-night stay, two 2-night stays and three 3-night stays that cover \n",
    "# stay night in question.\n",
    "# Each rate class contribute half of the demand for each stay night\n",
    "half_demand = 0.5 * capacity * demand_intensity\n",
    "# Intercepts for 1-night stay\n",
    "A1 = np.array([[1, 0, 0, 0, 0, 0, 0],\n",
    "               [0, 1, 0, 0, 0, 0, 0],\n",
    "               [0, 0, 1, 0, 0, 0, 0],\n",
    "               [0, 0, 0, 1, 0, 0, 0],\n",
    "               [0, 0, 0, 0, 1, 0, 0],\n",
    "               [0, 0, 0, 0, 0, 1, 0],\n",
    "               [0, 0, 0, 0, 0, 0, 1]])\n",
    "b1 = [(half_demand * 1/3 - slope[i] * rates_arrival_los[i, j, 0]) \n",
    "               for i, j in itertools.product(range(n_class), range(7))]\n",
    "b1 = np.array(b1).reshape(n_class, 7)\n",
    "x1 = [np.linalg.solve(A1, b1[i]) for i in range(n_class)]\n",
    "\n",
    "# Intercepts for 2-night stay\n",
    "A2 = np.array([[1, 0, 0, 0, 0, 0, 1],\n",
    "               [1, 1, 0, 0, 0, 0, 0],\n",
    "               [0, 1, 1, 0, 0, 0, 0],\n",
    "               [0, 0, 1, 1, 0, 0, 0],\n",
    "               [0, 0, 0, 1, 1, 0, 0],\n",
    "               [0, 0, 0, 0, 1, 1, 0],\n",
    "               [0, 0, 0, 0, 0, 1, 1]])\n",
    "b2 = [(half_demand * 1/3 - slope[i] * (rates_arrival_los[i, j, 1]\n",
    "                                               +rates_arrival_los[i, (j-1+7)%7, 1])) \n",
    "               for i, j in itertools.product(range(n_class), range(7))]\n",
    "b2 = np.array(b2).reshape(n_class, 7)\n",
    "x2 = [np.linalg.solve(A2, b2[i]) for i in range(n_class)]\n",
    "\n",
    "# Intercepts for 3-night stay\n",
    "A3 = np.array([[1, 0, 0, 0, 0, 1, 1],\n",
    "               [1, 1, 0, 0, 0, 0, 1],\n",
    "               [1, 1, 1, 0, 0, 0, 0],\n",
    "               [0, 1, 1, 1, 0, 0, 0],\n",
    "               [0, 0, 1, 1, 1, 0, 0],\n",
    "               [0, 0, 0, 1, 1, 1, 0],\n",
    "               [0, 0, 0, 0, 1, 1, 1]])\n",
    "b3 = [(half_demand * 1/3 - slope[i] * (rates_arrival_los[i, j, 2]\n",
    "                                               +rates_arrival_los[i, (j-1+7)%7, 2]\n",
    "                                               +rates_arrival_los[i, (j-2+7)%7, 2]))\n",
    "             for i, j in itertools.product(range(n_class), range(7))]\n",
    "b3 = np.array(b3).reshape(n_class, 7)\n",
    "x3 = [np.linalg.solve(A3, b3[i]) for i in range(n_class)]"
   ]
  },
  {
   "cell_type": "code",
   "execution_count": 15,
   "metadata": {},
   "outputs": [],
   "source": [
    "# Create intercepts matrix for all arrival day-los combinations\n",
    "# Total 2 * 7 * 3 = 42 intercepts\n",
    "intercepts = np.concatenate((np.array(x1), np.array(x2), np.array(x3)), axis=1)\n",
    "intercepts = np.reshape(intercepts, (n_class, los, 7), order='C')\n",
    "intercepts = np.array([np.transpose(intercepts[i]) for i in range(n_class)])"
   ]
  },
  {
   "cell_type": "code",
   "execution_count": 16,
   "metadata": {},
   "outputs": [
    {
     "data": {
      "text/plain": [
       "array([[[21.  , 30.75, 43.  ],\n",
       "        [21.  , 30.75, 43.  ],\n",
       "        [21.  , 30.75, 43.  ],\n",
       "        [21.  , 30.75, 40.3 ],\n",
       "        [21.  , 28.05, 37.6 ],\n",
       "        [18.3 , 25.35, 37.6 ],\n",
       "        [18.3 , 28.05, 40.3 ]],\n",
       "\n",
       "       [[24.75, 38.25, 54.25],\n",
       "        [24.75, 38.25, 54.25],\n",
       "        [24.75, 38.25, 54.25],\n",
       "        [24.75, 38.25, 50.8 ],\n",
       "        [24.75, 34.8 , 47.35],\n",
       "        [21.3 , 31.35, 47.35],\n",
       "        [21.3 , 34.8 , 50.8 ]]])"
      ]
     },
     "execution_count": 16,
     "metadata": {},
     "output_type": "execute_result"
    }
   ],
   "source": [
    "intercepts"
   ]
  },
  {
   "cell_type": "code",
   "execution_count": 17,
   "metadata": {},
   "outputs": [],
   "source": [
    "# Mean of Poisson demand that is generated by the slope and y-intercept\n",
    "# One mean demand for each of the 30 randomly drawn price\n",
    "meanDemand = [intercepts[i,j, k] + slope[i] * randomRates[i, j, k, l] \n",
    "                    for i, j, k, l in itertools.product(range(n_class), range(7), range(los), range(drawsize))]\n",
    "meanDemand = np.array(meanDemand).reshape(n_class, 7, los, drawsize)\n",
    "zeros = np.zeros(n_class * 7 * los * drawsize).reshape(n_class, 7, los, drawsize)\n",
    "# Can't have megative demand, so truncate mean demand at zero\n",
    "meanDemand = np.maximum(meanDemand, zeros)"
   ]
  },
  {
   "cell_type": "code",
   "execution_count": 18,
   "metadata": {},
   "outputs": [
    {
     "data": {
      "text/plain": [
       "array([6.50333333, 3.21666667, 2.57666667])"
      ]
     },
     "execution_count": 18,
     "metadata": {},
     "output_type": "execute_result"
    }
   ],
   "source": [
    "# Mean demand rate for a Sunday arrival (including 1-, 2-, and 3-night stay) \n",
    "np.average(meanDemand[0, 0], axis=1)"
   ]
  },
  {
   "cell_type": "code",
   "execution_count": 19,
   "metadata": {},
   "outputs": [
    {
     "data": {
      "text/plain": [
       "array([3.4 , 0.05, 0.  ])"
      ]
     },
     "execution_count": 19,
     "metadata": {},
     "output_type": "execute_result"
    }
   ],
   "source": [
    "# Mean demand rate for a Sunday arrival (including 1-, 2-, and 3-night stay) \n",
    "meanDemand[0, 0, :, 0]"
   ]
  },
  {
   "cell_type": "code",
   "execution_count": 20,
   "metadata": {},
   "outputs": [
    {
     "data": {
      "text/plain": [
       "array([[20.63833333, 23.36      , 23.63      , 22.96      , 24.705     ,\n",
       "        23.92      , 22.32      ],\n",
       "       [23.785     , 22.84666667, 27.44333333, 31.68833333, 30.07333333,\n",
       "        31.955     , 25.30333333]])"
      ]
     },
     "execution_count": 20,
     "metadata": {},
     "output_type": "execute_result"
    }
   ],
   "source": [
    "# Check total mean demand for each control day of week for each random drawn price\n",
    "totalDemand = [np.sum(meanDemand[i, j,:,k]) \n",
    "                     + np.sum(meanDemand[i, (j-1+7)%7, 1:, k]) \n",
    "                     + np.sum(meanDemand[i, (j-2+7)%7, 2:, k]) \n",
    "                     for i, j, k in itertools.product(range(n_class), range(7), range(drawsize))]\n",
    "# Check total mean demand for each day of week\n",
    "# This mean demand should be around half of the expected demand\n",
    "totalDemand = np.array(totalDemand).reshape(n_class, 7, drawsize)\n",
    "np.mean(totalDemand, axis=2)"
   ]
  },
  {
   "cell_type": "code",
   "execution_count": 21,
   "metadata": {},
   "outputs": [],
   "source": [
    "# Generate random demand for each day of week and length of stay combination\n",
    "randomDemand = [poisson.rvs(mu, size=1) for mu in np.nditer(meanDemand)]\n",
    "randomDemand = np.array(randomDemand).reshape(n_class, 7, los, drawsize)"
   ]
  },
  {
   "cell_type": "code",
   "execution_count": 22,
   "metadata": {},
   "outputs": [
    {
     "data": {
      "text/plain": [
       "array([[ 4,  9,  3,  4,  7, 10,  2,  5,  9,  8, 11,  8,  2,  5,  2,  6,\n",
       "         5,  4, 12,  9,  6,  2,  4,  9,  9,  6, 10, 12, 11,  0],\n",
       "       [ 0,  4,  0,  1,  3,  6,  4,  7,  6,  1,  3,  3,  0,  0,  4,  1,\n",
       "         5,  0,  7,  2,  0,  0,  2,  5,  2,  0,  6,  2,  3,  3],\n",
       "       [ 0,  6,  0,  0,  1, 11,  0,  0,  5,  0,  8,  0,  0,  0,  0,  3,\n",
       "        10,  0,  0,  2,  0,  2,  1,  4,  3,  0,  6,  3,  0, 11]])"
      ]
     },
     "execution_count": 22,
     "metadata": {},
     "output_type": "execute_result"
    }
   ],
   "source": [
    "# Class 1 Sunday arrivals for 1-night, 2-night, and 3-night stays\n",
    "randomDemand[0, 0]"
   ]
  },
  {
   "cell_type": "code",
   "execution_count": 23,
   "metadata": {},
   "outputs": [
    {
     "data": {
      "text/plain": [
       "array([[20.33333333, 24.        , 23.33333333, 23.5       , 24.93333333,\n",
       "        24.43333333, 22.23333333],\n",
       "       [23.56666667, 22.6       , 26.73333333, 31.66666667, 29.23333333,\n",
       "        31.86666667, 25.53333333]])"
      ]
     },
     "execution_count": 23,
     "metadata": {},
     "output_type": "execute_result"
    }
   ],
   "source": [
    "# Check number of total arrivals span a stay night in question for each day of week, \n",
    "# Consider up to 3-night stay\n",
    "arrivals = [np.sum(randomDemand[i, j,:,k]) \n",
    "            + np.sum(randomDemand[i, (j-1+7)%7, 1:, k]) \n",
    "            + np.sum(randomDemand[i, (j-2+7)%7, 2:, k]) \n",
    "            for i, j, k in itertools.product(range(n_class), range(7), range(drawsize))]\n",
    "arrivals = np.array(arrivals).reshape(n_class, 7, drawsize)\n",
    "np.mean(arrivals, axis = 2)"
   ]
  },
  {
   "cell_type": "code",
   "execution_count": 24,
   "metadata": {},
   "outputs": [
    {
     "data": {
      "text/plain": [
       "(2, 7, 30)"
      ]
     },
     "execution_count": 24,
     "metadata": {},
     "output_type": "execute_result"
    }
   ],
   "source": [
    "arrivals.shape"
   ]
  },
  {
   "cell_type": "code",
   "execution_count": 25,
   "metadata": {},
   "outputs": [
    {
     "data": {
      "text/plain": [
       "(array([[176, 148, 140, 166, 174, 100, 168, 101, 113, 137, 105, 152, 169,\n",
       "         131, 180, 176, 166, 175, 117, 120, 185, 179, 125, 135, 119, 166,\n",
       "          89, 105, 155, 177],\n",
       "        [307, 248, 291, 278, 269, 197, 267, 253, 257, 299, 262, 296, 335,\n",
       "         300, 277, 280, 253, 285, 260, 277, 303, 286, 275, 258, 301, 338,\n",
       "         241, 280, 279, 266],\n",
       "        [478, 340, 448, 419, 429, 292, 437, 436, 394, 428, 355, 470, 501,\n",
       "         457, 433, 372, 342, 421, 430, 415, 440, 386, 408, 424, 416, 489,\n",
       "         363, 417, 405, 371]]),\n",
       " array([[ 4,  9,  3,  4,  7, 10,  2,  5,  9,  8, 11,  8,  2,  5,  2,  6,\n",
       "          5,  4, 12,  9,  6,  2,  4,  9,  9,  6, 10, 12, 11,  0],\n",
       "        [ 0,  4,  0,  1,  3,  6,  4,  7,  6,  1,  3,  3,  0,  0,  4,  1,\n",
       "          5,  0,  7,  2,  0,  0,  2,  5,  2,  0,  6,  2,  3,  3],\n",
       "        [ 0,  6,  0,  0,  1, 11,  0,  0,  5,  0,  8,  0,  0,  0,  0,  3,\n",
       "         10,  0,  0,  2,  0,  2,  1,  4,  3,  0,  6,  3,  0, 11]]))"
      ]
     },
     "execution_count": 25,
     "metadata": {},
     "output_type": "execute_result"
    }
   ],
   "source": [
    "# Rates and demand for Sunday stay night for rate class 1 \n",
    "randomRates[0, 0], randomDemand[0, 0]"
   ]
  },
  {
   "cell_type": "code",
   "execution_count": 26,
   "metadata": {},
   "outputs": [],
   "source": [
    "# Create linear regression object\n",
    "slopes_update = []\n",
    "intercepts_update = []\n",
    "regr = LinearRegression()\n",
    "for i, j, k in itertools.product(range(n_class), range(7), range(los)):\n",
    "    regr.fit(randomRates[i, j, k, :].reshape(drawsize, -1), randomDemand[i, j, k, :])\n",
    "    intercepts_update.append(regr.intercept_)\n",
    "    slopes_update.append(regr.coef_)"
   ]
  },
  {
   "cell_type": "code",
   "execution_count": 27,
   "metadata": {},
   "outputs": [],
   "source": [
    "slopes_update = np.array(slopes_update).reshape(n_class, 7, los)\n",
    "intercepts_update = np.array(intercepts_update).reshape(n_class, 7, los)"
   ]
  },
  {
   "cell_type": "code",
   "execution_count": 28,
   "metadata": {},
   "outputs": [
    {
     "data": {
      "text/plain": [
       "(array([[[-0.07594953, -0.06561424, -0.06301721],\n",
       "         [-0.11992563, -0.09024233, -0.07049887],\n",
       "         [-0.09138282, -0.09077322, -0.07178556],\n",
       "         [-0.11293003, -0.08637421, -0.08582598],\n",
       "         [-0.09960282, -0.09464667, -0.05444705],\n",
       "         [-0.09876834, -0.0881714 , -0.05147391],\n",
       "         [-0.09426554, -0.06999039, -0.07450737]],\n",
       " \n",
       "        [[-0.14165646, -0.07633223, -0.10975472],\n",
       "         [-0.1724553 , -0.09177277, -0.09545327],\n",
       "         [-0.1364252 , -0.13642381, -0.0897306 ],\n",
       "         [-0.15950198, -0.10638805, -0.11117524],\n",
       "         [-0.13291119, -0.11354309, -0.083495  ],\n",
       "         [-0.1310014 , -0.09378962, -0.10450127],\n",
       "         [-0.14837   , -0.11453852, -0.06483943]]]),\n",
       " array([[[17.47681729, 20.85930807, 28.61405603],\n",
       "         [24.29949418, 28.49949597, 32.08165077],\n",
       "         [19.31622694, 29.18326798, 32.37548343],\n",
       "         [22.94468389, 27.28048394, 36.51452507],\n",
       "         [21.2408003 , 26.9149151 , 22.55955496],\n",
       "         [18.25340909, 23.75534037, 21.52279146],\n",
       "         [16.89544681, 21.04652728, 32.09970618]],\n",
       " \n",
       "        [[23.09601469, 21.49377919, 42.05926556],\n",
       "         [27.77403776, 24.98316258, 36.71395221],\n",
       "         [22.74492421, 35.91796216, 34.77417271],\n",
       "         [25.71128209, 28.98555766, 40.20896813],\n",
       "         [22.23141018, 28.26046387, 29.58850051],\n",
       "         [19.39698455, 22.05843023, 36.38880242],\n",
       "         [21.17825118, 29.10434792, 24.86245129]]]))"
      ]
     },
     "execution_count": 28,
     "metadata": {},
     "output_type": "execute_result"
    }
   ],
   "source": [
    "slopes_update, intercepts_update"
   ]
  },
  {
   "cell_type": "code",
   "execution_count": null,
   "metadata": {},
   "outputs": [],
   "source": []
  }
 ],
 "metadata": {
  "kernelspec": {
   "display_name": "Python 3",
   "language": "python",
   "name": "python3"
  },
  "language_info": {
   "codemirror_mode": {
    "name": "ipython",
    "version": 3
   },
   "file_extension": ".py",
   "mimetype": "text/x-python",
   "name": "python",
   "nbconvert_exporter": "python",
   "pygments_lexer": "ipython3",
   "version": "3.7.7"
  }
 },
 "nbformat": 4,
 "nbformat_minor": 4
}
