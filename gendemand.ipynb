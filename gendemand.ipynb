{
 "cells": [
  {
   "cell_type": "code",
   "execution_count": 5,
   "metadata": {},
   "outputs": [],
   "source": [
    "# Generate demand for simulation analysis"
   ]
  },
  {
   "cell_type": "code",
   "execution_count": 44,
   "metadata": {},
   "outputs": [],
   "source": [
    "import itertools\n",
    "import numpy as np\n",
    "from scipy.stats import norm\n",
    "from scipy.stats import poisson\n",
    "from sklearn.linear_model import LinearRegression\n",
    "import matplotlib.pyplot as plt"
   ]
  },
  {
   "cell_type": "code",
   "execution_count": 71,
   "metadata": {},
   "outputs": [],
   "source": [
    "# Consider two rate classes for simplicity\n",
    "n_class = 2\n",
    "los = 3\n",
    "capacity = 50\n",
    "# Consider two demand scenario, by changing capacity\n",
    "demand_intensity = np.array([0.9, 1.5])\n",
    "# Slope for linear demand curve\n",
    "slope = np.array([-0.1, -0.15])\n",
    "intercept = np.array([21, 19])\n",
    "# Nightly rates for Monday stay night through Sunday stay night\n",
    "# Higher weekday rates imply typical hotel settings and higher weekend rates imply resorts\n",
    "init_rate1 = np.array([135, 135, 135, 135, 135, 108, 108])\n",
    "init_rate2 = np.array([115, 115, 115, 115, 115, 92, 92])"
   ]
  },
  {
   "cell_type": "code",
   "execution_count": 102,
   "metadata": {},
   "outputs": [],
   "source": [
    "# Take the slope of -0.1 for rate class 1, then the mean true demand point for any arrival date/lengthof-\n",
    "# stay combination is passed through by the line defined by this slope; 30 points on the price \n",
    "# axis for each arrival date/length-of-stay combination over the first 21 simulation days \n",
    "# are randomly generated from the interval (init_rate-50, init_rate+50)\n",
    "# Sunday-one night stay as an example\n",
    "drawsize = 30\n",
    "# Random draw for one night stay for each day of week\n",
    "random_rates1_one = [np.random.randint(init_rate1[i]-50, init_rate1[i]+50+1, drawsize) \n",
    "                     for i in range(7)]\n",
    "random_rates2_one = [np.random.randint(init_rate2[i]-50, init_rate2[i]+50+1, drawsize) \n",
    "                     for i in range(7)]\n",
    "\n",
    "# Construct rates for more than one night stay, up to 3-night stay\n",
    "# Sunday night arrival, two night stay rates equal sunday one night + monday one night stay\n",
    "random_rates1_two = [random_rates1_one[i%7] \n",
    "                     + random_rates1_one[(i+1)%7] \n",
    "                     for i in range(7)]\n",
    "\n",
    "random_rates2_two = [random_rates2_one[i%7] \n",
    "                     + random_rates2_one[(i+1)%7] \n",
    "                     for i in range(7)]\n",
    "\n",
    "random_rates1_three = [random_rates1_one[i%7] \n",
    "                       + random_rates1_one[(i+1)%7] \n",
    "                       + random_rates1_one[(i+2)%7] \n",
    "                       for i in range(7)]\n",
    "\n",
    "random_rates2_three = [random_rates2_one[i%7] \n",
    "                       + random_rates2_one[(i+1)%7] \n",
    "                       + random_rates2_one[(i+2)%7] \n",
    "                       for i in range(7)]"
   ]
  },
  {
   "cell_type": "code",
   "execution_count": 122,
   "metadata": {},
   "outputs": [],
   "source": [
    "# Change type to numpy array\n",
    "random_rates1_one = np.array(random_rates1_one).reshape(7, drawsize)\n",
    "random_rates1_two = np.array(random_rates1_two).reshape(7, drawsize)\n",
    "random_rates1_three = np.array(random_rates1_three).reshape(7, drawsize)\n",
    "random_rates1 = [(random_rates1_one[i], random_rates1_two[i], random_rates1_three[i]) \n",
    "                 for i in range(7)]"
   ]
  },
  {
   "cell_type": "code",
   "execution_count": 124,
   "metadata": {},
   "outputs": [],
   "source": [
    "# Reshape array, where axis 0 = day of week, axis 1 = length of stay, and axis 3 = random draw\n",
    "random_rates1 = np.array(random_rates1).reshape(7, 3, drawsize)"
   ]
  },
  {
   "cell_type": "code",
   "execution_count": 125,
   "metadata": {},
   "outputs": [
    {
     "data": {
      "text/plain": [
       "array([[[178, 173,  93, 125,  93, 167,  87, 146, 159,  99, 183, 153,\n",
       "          98,  91, 137, 105, 121, 112, 159, 155, 170, 138, 112, 119,\n",
       "         178, 125, 155,  99, 125, 131],\n",
       "        [265, 287, 208, 232, 276, 271, 188, 285, 303, 222, 323, 272,\n",
       "         252, 207, 283, 260, 269, 245, 309, 240, 332, 285, 254, 271,\n",
       "         357, 287, 269, 211, 244, 312],\n",
       "        [354, 406, 357, 402, 403, 431, 284, 447, 420, 337, 411, 416,\n",
       "         373, 335, 397, 402, 358, 410, 417, 361, 465, 422, 365, 400,\n",
       "         515, 420, 445, 318, 339, 433]],\n",
       "\n",
       "       [[ 87, 114, 115, 107, 183, 104, 101, 139, 144, 123, 140, 119,\n",
       "         154, 116, 146, 155, 148, 133, 150,  85, 162, 147, 142, 152,\n",
       "         179, 162, 114, 112, 119, 181],\n",
       "        [176, 233, 264, 277, 310, 264, 197, 301, 261, 238, 228, 263,\n",
       "         275, 244, 260, 297, 237, 298, 258, 206, 295, 284, 253, 281,\n",
       "         337, 295, 290, 219, 214, 302],\n",
       "        [274, 393, 400, 408, 424, 415, 340, 480, 433, 417, 322, 430,\n",
       "         380, 423, 353, 436, 345, 457, 393, 324, 458, 436, 385, 410,\n",
       "         466, 408, 437, 353, 363, 412]],\n",
       "\n",
       "       [[ 89, 119, 149, 170, 127, 160,  96, 162, 117, 115,  88, 144,\n",
       "         121, 128, 114, 142,  89, 165, 108, 121, 133, 137, 111, 129,\n",
       "         158, 133, 176, 107,  95, 121],\n",
       "        [187, 279, 285, 301, 241, 311, 239, 341, 289, 294, 182, 311,\n",
       "         226, 307, 207, 281, 197, 324, 243, 239, 296, 289, 243, 258,\n",
       "         287, 246, 323, 241, 244, 231],\n",
       "        [273, 464, 435, 432, 416, 489, 378, 490, 458, 465, 321, 482,\n",
       "         374, 405, 348, 395, 286, 458, 360, 410, 465, 378, 410, 362,\n",
       "         388, 341, 481, 419, 414, 359]],\n",
       "\n",
       "       [[ 98, 160, 136, 131, 114, 151, 143, 179, 172, 179,  94, 167,\n",
       "         105, 179,  93, 139, 108, 159, 135, 118, 163, 152, 132, 129,\n",
       "         129, 113, 147, 134, 149, 110],\n",
       "        [184, 345, 286, 262, 289, 329, 282, 328, 341, 350, 233, 338,\n",
       "         253, 277, 234, 253, 197, 293, 252, 289, 332, 241, 299, 233,\n",
       "         230, 208, 305, 312, 319, 238],\n",
       "        [253, 456, 381, 410, 446, 403, 396, 435, 409, 417, 330, 469,\n",
       "         334, 412, 293, 387, 289, 440, 404, 403, 470, 395, 358, 347,\n",
       "         388, 343, 419, 400, 398, 330]],\n",
       "\n",
       "       [[ 86, 185, 150, 131, 175, 178, 139, 149, 169, 171, 139, 171,\n",
       "         148,  98, 141, 114,  89, 134, 117, 171, 169,  89, 167, 104,\n",
       "         101,  95, 158, 178, 170, 128],\n",
       "        [155, 296, 245, 279, 332, 252, 253, 256, 237, 238, 236, 302,\n",
       "         229, 233, 200, 248, 181, 281, 269, 285, 307, 243, 226, 218,\n",
       "         259, 230, 272, 266, 249, 220],\n",
       "        [281, 394, 377, 400, 444, 318, 358, 393, 358, 327, 361, 435,\n",
       "         321, 340, 317, 384, 252, 341, 365, 363, 465, 359, 330, 373,\n",
       "         330, 295, 335, 373, 385, 334]],\n",
       "\n",
       "       [[ 69, 111,  95, 148, 157,  74, 114, 107,  68,  67,  97, 131,\n",
       "          81, 135,  59, 134,  92, 147, 152, 114, 138, 154,  59, 114,\n",
       "         158, 135, 114,  88,  79,  92],\n",
       "        [195, 209, 227, 269, 269, 140, 219, 244, 189, 156, 222, 264,\n",
       "         173, 242, 176, 270, 163, 207, 248, 192, 296, 270, 163, 269,\n",
       "         229, 200, 177, 195, 215, 206],\n",
       "        [373, 382, 320, 394, 362, 307, 306, 390, 348, 255, 405, 417,\n",
       "         271, 333, 313, 375, 284, 319, 407, 347, 466, 408, 275, 388,\n",
       "         407, 325, 332, 294, 340, 337]],\n",
       "\n",
       "       [[126,  98, 132, 121, 112,  66, 105, 137, 121,  89, 125, 133,\n",
       "          92, 107, 117, 136,  71,  60,  96,  78, 158, 116, 104, 155,\n",
       "          71,  65,  63, 107, 136, 114],\n",
       "        [304, 271, 225, 246, 205, 233, 192, 283, 280, 188, 308, 286,\n",
       "         190, 198, 254, 241, 192, 172, 255, 233, 328, 254, 216, 274,\n",
       "         249, 190, 218, 206, 261, 245],\n",
       "        [391, 385, 340, 353, 388, 337, 293, 422, 424, 311, 448, 405,\n",
       "         344, 314, 400, 396, 340, 305, 405, 318, 490, 401, 358, 426,\n",
       "         428, 352, 332, 318, 380, 426]]])"
      ]
     },
     "execution_count": 125,
     "metadata": {},
     "output_type": "execute_result"
    }
   ],
   "source": [
    "random_rates1"
   ]
  },
  {
   "cell_type": "code",
   "execution_count": 69,
   "metadata": {},
   "outputs": [
    {
     "data": {
      "text/plain": [
       "array([[135.46666667, 108.53333333],\n",
       "       [133.86666667, 108.56666667],\n",
       "       [133.43333333, 117.63333333],\n",
       "       [130.5       , 108.6       ],\n",
       "       [134.83333333, 120.        ],\n",
       "       [105.7       ,  95.5       ],\n",
       "       [ 97.3       ,  90.03333333]])"
      ]
     },
     "execution_count": 69,
     "metadata": {},
     "output_type": "execute_result"
    }
   ],
   "source": [
    "# Reshape by setting axis 0 = day of week, axis 1 = rate class, and axis 2 = 30 random rate draw\n",
    "random_rates_single = np.array(random_rates_single).reshape(7, n_class, drawsize)\n",
    "# Check accuracy, result should be similar to init_rate\n",
    "np.mean(random_rates, axis = 2)"
   ]
  },
  {
   "cell_type": "code",
   "execution_count": null,
   "metadata": {},
   "outputs": [],
   "source": [
    "# Construct rates for more than one night stay, up to 3-night stay\n"
   ]
  },
  {
   "cell_type": "code",
   "execution_count": 34,
   "metadata": {},
   "outputs": [],
   "source": [
    "# 30 corresponding points on the demand axis are generated via a draw from\n",
    "# the Poisson distribution with a mean equal to that predicted by the slope and y-intercept;\n",
    "\n",
    "sunday1_demand_mean = intercept[0] + slope[0]*sunday1_rate\n",
    "sunday1_demand = [poisson.rvs(mu, size = 1) for mu in sunday1_demand_mean]\n",
    "sunday1_demand = np.array(sunday1_demand).reshape(len(sunday1_rate))"
   ]
  },
  {
   "cell_type": "code",
   "execution_count": 35,
   "metadata": {},
   "outputs": [
    {
     "data": {
      "text/plain": [
       "array([ 8,  7,  1, 10, 10,  5,  9,  0,  5,  5,  1, 10,  3,  7,  9,  2,  7,\n",
       "        8,  0, 13,  5,  9,  4,  9,  7,  2, 11, 14,  8,  4])"
      ]
     },
     "execution_count": 35,
     "metadata": {},
     "output_type": "execute_result"
    }
   ],
   "source": [
    "sunday1_demand"
   ]
  },
  {
   "cell_type": "code",
   "execution_count": null,
   "metadata": {},
   "outputs": [],
   "source": []
  }
 ],
 "metadata": {
  "kernelspec": {
   "display_name": "Python 3",
   "language": "python",
   "name": "python3"
  },
  "language_info": {
   "codemirror_mode": {
    "name": "ipython",
    "version": 3
   },
   "file_extension": ".py",
   "mimetype": "text/x-python",
   "name": "python",
   "nbconvert_exporter": "python",
   "pygments_lexer": "ipython3",
   "version": "3.7.7"
  }
 },
 "nbformat": 4,
 "nbformat_minor": 4
}
