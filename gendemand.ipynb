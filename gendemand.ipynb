{
 "cells": [
  {
   "cell_type": "code",
   "execution_count": 1,
   "metadata": {},
   "outputs": [],
   "source": [
    "# Generate demand for simulation analysis"
   ]
  },
  {
   "cell_type": "code",
   "execution_count": 30,
   "metadata": {},
   "outputs": [],
   "source": [
    "import itertools\n",
    "import numpy as np\n",
    "from scipy.stats import norm\n",
    "from scipy.stats import poisson\n",
    "from sklearn import datasets\n",
    "from sklearn.linear_model import LinearRegression\n",
    "import matplotlib.pyplot as plt"
   ]
  },
  {
   "cell_type": "code",
   "execution_count": 72,
   "metadata": {},
   "outputs": [],
   "source": [
    "# Consider two rate classes for simplicity\n",
    "n_class = 2\n",
    "# Consider Length-of-Stay (los) of upto three days\n",
    "los = 3\n",
    "capacity = 50\n",
    "# Consider two demand scenario, by changing capacity\n",
    "demand_intensity = np.array([0.9, 1.5])\n",
    "# Slope for linear demand curve\n",
    "slope = np.array([-0.1, -0.15])\n",
    "# Nightly rates for Monday stay night through Sunday stay night\n",
    "# Higher weekday rates imply business hotel settings and higher weekend rates imply resorts\n",
    "rates_init = np.array([[135, 135, 135, 135, 135, 108, 108],\n",
    "                       [115, 115, 115, 115, 115, 92, 92]])"
   ]
  },
  {
   "cell_type": "code",
   "execution_count": 73,
   "metadata": {},
   "outputs": [
    {
     "data": {
      "text/plain": [
       "array([[131.4, 136. , 133.5, 141.3, 141. , 105.9, 115.1],\n",
       "       [108.7,  99.5, 105.8, 110. , 119. ,  98.5,  90.8]])"
      ]
     },
     "execution_count": 73,
     "metadata": {},
     "output_type": "execute_result"
    }
   ],
   "source": [
    "# Take the slope of -0.1 for rate class 1, then the mean true demand point for any arrival date/lengthof-\n",
    "# stay combination is passed through by the line defined by this slope; 30 points on the price \n",
    "# axis for each arrival date/length-of-stay combination over the first 21 simulation days \n",
    "# are randomly generated from the interval (init_rate-50, init_rate+50)\n",
    "# Sunday-one night stay as an example\n",
    "drawsize = 30\n",
    "# Random draw for one night stay for each day of week\n",
    "randomRates_one = [np.random.randint(rates_init[i, j]-50, rates_init[i, j]+50+1, drawsize) \n",
    "                     for i, j in itertools.product(range(n_class), range(7))]\n",
    "randomRates_one = np.array(randomRates_one).reshape(n_class, 7, drawsize)\n",
    "# Check the averages are close to rates_init\n",
    "np.round(np.average(randomRates_one, axis = 2), decimals=1)"
   ]
  },
  {
   "cell_type": "code",
   "execution_count": 74,
   "metadata": {},
   "outputs": [
    {
     "data": {
      "text/plain": [
       "(2, 7, 30)"
      ]
     },
     "execution_count": 74,
     "metadata": {},
     "output_type": "execute_result"
    }
   ],
   "source": [
    "randomRates_one.shape"
   ]
  },
  {
   "cell_type": "code",
   "execution_count": 75,
   "metadata": {},
   "outputs": [
    {
     "data": {
      "text/plain": [
       "array([[170, 105, 177, 184, 116, 138, 113, 177, 133, 109, 139, 166,  92,\n",
       "        153,  98, 185, 149, 130, 151, 117, 133, 161, 150, 123, 121, 115,\n",
       "        161, 121, 173, 185],\n",
       "       [162, 107, 140, 121, 148, 175,  95, 142, 156, 182, 110, 148, 181,\n",
       "        138, 132, 157, 128, 106, 158, 106, 124, 128, 158, 168, 180, 151,\n",
       "         89, 116,  98, 177],\n",
       "       [113, 159, 129, 123, 116, 156, 140, 169, 127, 147,  92, 146, 147,\n",
       "         87, 154, 169, 102, 106, 144,  92, 161, 137, 113, 161, 159, 141,\n",
       "        106, 147, 119,  99],\n",
       "       [139, 176, 116, 150, 105, 123, 129, 116, 176, 182, 100, 138, 144,\n",
       "        131, 146,  98, 144, 178, 139, 121, 106,  96, 127,  90,  86,  86,\n",
       "        136, 132,  95, 182],\n",
       "       [148, 113, 141, 183, 122, 109, 105, 178, 150, 173, 132, 161, 178,\n",
       "        106,  99, 130, 136, 120, 138, 139,  86, 174, 161,  99,  96, 111,\n",
       "        102,  87, 144, 145],\n",
       "       [ 67,  80, 104,  71, 129,  72, 146, 126, 122, 133,  92,  88, 120,\n",
       "        133, 144, 146,  87, 131, 123, 137, 123,  61, 107, 120, 110,  90,\n",
       "        122, 128, 142, 126],\n",
       "       [117,  71, 154, 135, 100, 157,  86,  95,  95, 128, 135, 155,  96,\n",
       "         58, 112, 154,  95,  70,  96,  72,  76,  70, 143, 105,  62, 149,\n",
       "        152, 108,  67,  58]])"
      ]
     },
     "execution_count": 75,
     "metadata": {},
     "output_type": "execute_result"
    }
   ],
   "source": [
    "random_rates1_one"
   ]
  },
  {
   "cell_type": "code",
   "execution_count": 80,
   "metadata": {},
   "outputs": [],
   "source": [
    "# Construct rates for more than one night stay, up to 3-night stay\n",
    "# Sunday night arrival, two night stay rates equal Sunday one night + Monday one night stay\n",
    "randomRates_two = [randomRates_one[i, j%7] \n",
    "                     + randomRates_one[i, (j+1)%7] \n",
    "                     for i, j in itertools.product(range(n_class), range(7))]\n",
    "\n",
    "randomRates_three = [randomRates_one[i, j%7] \n",
    "                       + randomRates_one[i, (j+1)%7] \n",
    "                       + randomRates_one[i, (j+2)%7] \n",
    "                     for i, j in itertools.product(range(n_class), range(7))]"
   ]
  },
  {
   "cell_type": "code",
   "execution_count": 87,
   "metadata": {},
   "outputs": [],
   "source": [
    "# For each arrival date, los can be 1-night, 2-night, or 3-night.\n",
    "# Accordingly, the rates will be corresponding to different los.\n",
    "# e.g., for Mon arrival, 2-night stay, the rate equals Mon single night rate + Tu single night rate\n",
    "randomRates_one = np.array(randomRates_one).reshape(n_class, 7, drawsize)\n",
    "randomRates_two = np.array(randomRates_two).reshape(n_class, 7, drawsize)\n",
    "randomRates_three = np.array(randomRates_three).reshape(n_class, 7, drawsize)\n",
    "randomRates = [(randomRates_one[i, j], randomRates_two[i, j], randomRates_three[i, j]) \n",
    "               for i, j in itertools.product(range(n_class), range(7))]"
   ]
  },
  {
   "cell_type": "code",
   "execution_count": 92,
   "metadata": {},
   "outputs": [
    {
     "data": {
      "text/plain": [
       "(2, 7, 3, 30)"
      ]
     },
     "execution_count": 92,
     "metadata": {},
     "output_type": "execute_result"
    }
   ],
   "source": [
    "# axis 0 = n_class, axis 1 = day of week, axis 2 = los, and axis 3 = random draws\n",
    "randomRates = np.array(randomRates).reshape(n_class, 7, los, drawsize)\n",
    "randomRates.shape"
   ]
  },
  {
   "cell_type": "code",
   "execution_count": 93,
   "metadata": {},
   "outputs": [
    {
     "data": {
      "text/plain": [
       "array([[ 91, 158, 114,  90, 110,  99, 126,  89, 161, 117,  86, 164, 135,\n",
       "        124, 162, 121, 156, 100, 161, 118, 161, 180, 165, 165,  91, 155,\n",
       "         94, 130, 175, 144],\n",
       "       [197, 315, 247, 267, 243, 215, 299, 201, 297, 280, 224, 332, 225,\n",
       "        286, 249, 251, 249, 245, 289, 303, 343, 315, 259, 331, 205, 300,\n",
       "        265, 233, 310, 248],\n",
       "       [333, 443, 345, 373, 352, 400, 470, 323, 428, 381, 395, 418, 332,\n",
       "        454, 382, 342, 373, 383, 454, 442, 500, 500, 361, 489, 359, 468,\n",
       "        361, 391, 406, 371]])"
      ]
     },
     "execution_count": 93,
     "metadata": {},
     "output_type": "execute_result"
    }
   ],
   "source": [
    "# Randomly generated rates for class 1, Sunday arrivals\n",
    "randomRates[0, 0]"
   ]
  },
  {
   "cell_type": "code",
   "execution_count": 96,
   "metadata": {},
   "outputs": [
    {
     "data": {
      "text/plain": [
       "array([[108.73333333, 208.2       , 313.96666667],\n",
       "       [ 99.46666667, 205.23333333, 315.26666667],\n",
       "       [105.76666667, 215.8       , 334.76666667],\n",
       "       [110.03333333, 229.        , 327.5       ],\n",
       "       [118.96666667, 217.46666667, 308.3       ],\n",
       "       [ 98.5       , 189.33333333, 298.06666667],\n",
       "       [ 90.83333333, 199.56666667, 299.03333333]])"
      ]
     },
     "execution_count": 96,
     "metadata": {},
     "output_type": "execute_result"
    }
   ],
   "source": [
    "# Check accuracy, result should be similar to init_rate\n",
    "np.mean(randomRates[1], axis = 2)"
   ]
  },
  {
   "cell_type": "code",
   "execution_count": 97,
   "metadata": {},
   "outputs": [
    {
     "data": {
      "text/plain": [
       "array([[135, 135, 135, 135, 135, 108, 108],\n",
       "       [115, 115, 115, 115, 115,  92,  92]])"
      ]
     },
     "execution_count": 97,
     "metadata": {},
     "output_type": "execute_result"
    }
   ],
   "source": [
    "# Construct rates for more than one night stay, up to 3-night stay\n",
    "rates_init"
   ]
  },
  {
   "cell_type": "code",
   "execution_count": 98,
   "metadata": {},
   "outputs": [],
   "source": [
    "# Calculate averate rates for each arrival day of week and los combination\n",
    "rates_arrival_los = [[rates_init[i, j],\n",
    "                      rates_init[i, j] + rates_init[i, (j+1)%7],\n",
    "                      rates_init[i, j] + rates_init[i, (j+1)%7] + rates_init[i, (j+2)%7]] \n",
    "                      for i, j in itertools.product(range(n_class), range(7))]\n",
    "# Store it as a numpy array\n",
    "rates_arrival_los = np.array(rates_arrival_los).reshape(n_class, 7, los)"
   ]
  },
  {
   "cell_type": "code",
   "execution_count": 104,
   "metadata": {},
   "outputs": [
    {
     "data": {
      "text/plain": [
       "array([[[135, 270, 405],\n",
       "        [135, 270, 405],\n",
       "        [135, 270, 405],\n",
       "        [135, 270, 378],\n",
       "        [135, 243, 351],\n",
       "        [108, 216, 351],\n",
       "        [108, 243, 378]],\n",
       "\n",
       "       [[115, 230, 345],\n",
       "        [115, 230, 345],\n",
       "        [115, 230, 345],\n",
       "        [115, 230, 322],\n",
       "        [115, 207, 299],\n",
       "        [ 92, 184, 299],\n",
       "        [ 92, 207, 322]]])"
      ]
     },
     "execution_count": 104,
     "metadata": {},
     "output_type": "execute_result"
    }
   ],
   "source": [
    "rates_arrival_los"
   ]
  },
  {
   "cell_type": "code",
   "execution_count": 101,
   "metadata": {},
   "outputs": [
    {
     "data": {
      "text/plain": [
       "(array([22.5, 37.5]), array([-0.1 , -0.15]))"
      ]
     },
     "execution_count": 101,
     "metadata": {},
     "output_type": "execute_result"
    }
   ],
   "source": [
    "half_demand, slope"
   ]
  },
  {
   "cell_type": "code",
   "execution_count": 119,
   "metadata": {},
   "outputs": [],
   "source": [
    "# Calculate y-intercepts, assuming los distribution for a stay night is 1/3, 1/3, and 1/3\n",
    "# There exist one 1-night stay, two 2-night stays and three 3-night stays that cover \n",
    "# stay night in question.\n",
    "# Each rate class contribute half of the demand for each stay night\n",
    "half_demand = 0.5 * capacity * demand_intensity\n",
    "# Intercepts for 1-night stay\n",
    "A1 = np.array([[1, 0, 0, 0, 0, 0, 0],\n",
    "               [0, 1, 0, 0, 0, 0, 0],\n",
    "               [0, 0, 1, 0, 0, 0, 0],\n",
    "               [0, 0, 0, 1, 0, 0, 0],\n",
    "               [0, 0, 0, 0, 1, 0, 0],\n",
    "               [0, 0, 0, 0, 0, 1, 0],\n",
    "               [0, 0, 0, 0, 0, 0, 1]])\n",
    "b1 = [(half_demand[0] * 1/3 - slope[i] * rates_arrival_los[i, j, 0]) \n",
    "               for i, j in itertools.product(range(n_class), range(7))]\n",
    "b1 = np.array(b1).reshape(n_class, 7)\n",
    "x1 = [np.linalg.solve(A1, b1[i]) for i in range(n_class)]\n",
    "\n",
    "# Intercepts for 2-night stay\n",
    "A2 = np.array([[1, 0, 0, 0, 0, 0, 1],\n",
    "               [1, 1, 0, 0, 0, 0, 0],\n",
    "               [0, 1, 1, 0, 0, 0, 0],\n",
    "               [0, 0, 1, 1, 0, 0, 0],\n",
    "               [0, 0, 0, 1, 1, 0, 0],\n",
    "               [0, 0, 0, 0, 1, 1, 0],\n",
    "               [0, 0, 0, 0, 0, 1, 1]])\n",
    "b2 = [(half_demand[0] * 1/3 - slope[i] * (rates_arrival_los[i, j, 1]\n",
    "                                               +rates_arrival_los[i, (j-1+7)%7, 1])) \n",
    "               for i, j in itertools.product(range(n_class), range(7))]\n",
    "b2 = np.array(b2).reshape(n_class, 7)\n",
    "x2 = [np.linalg.solve(A2, b2[i]) for i in range(n_class)]\n",
    "\n",
    "# Intercepts for 3-night stay\n",
    "A3 = np.array([[1, 0, 0, 0, 0, 1, 1],\n",
    "               [1, 1, 0, 0, 0, 0, 1],\n",
    "               [1, 1, 1, 0, 0, 0, 0],\n",
    "               [0, 1, 1, 1, 0, 0, 0],\n",
    "               [0, 0, 1, 1, 1, 0, 0],\n",
    "               [0, 0, 0, 1, 1, 1, 0],\n",
    "               [0, 0, 0, 0, 1, 1, 1]])\n",
    "b3 = [(half_demand[0] * 1/3 - slope[i] * (rates_arrival_los[i, j, 2]\n",
    "                                               +rates_arrival_los[i, (j-1+7)%7, 2]\n",
    "                                               +rates_arrival_los[i, (j-2+7)%7, 2]))\n",
    "             for i, j in itertools.product(range(n_class), range(7))]\n",
    "b3 = np.array(b3).reshape(n_class, 7)\n",
    "x3 = [np.linalg.solve(A3, b3[i]) for i in range(n_class)]"
   ]
  },
  {
   "cell_type": "code",
   "execution_count": 161,
   "metadata": {},
   "outputs": [],
   "source": [
    "# Create intercepts matrix for all arrival day-los combinations\n",
    "# Total 2 * 7 * 3 = 42 intercepts\n",
    "intercepts = np.concatenate((np.array(x1), np.array(x2), np.array(x3)), axis=1)\n",
    "intercepts = np.reshape(intercepts, (n_class, los, 7), order='C')\n",
    "intercepts = np.array([np.transpose(intercepts[i]) for i in range(n_class)])"
   ]
  },
  {
   "cell_type": "code",
   "execution_count": 162,
   "metadata": {},
   "outputs": [
    {
     "data": {
      "text/plain": [
       "array([[[21.  , 30.75, 43.  ],\n",
       "        [21.  , 30.75, 43.  ],\n",
       "        [21.  , 30.75, 43.  ],\n",
       "        [21.  , 30.75, 40.3 ],\n",
       "        [21.  , 28.05, 37.6 ],\n",
       "        [18.3 , 25.35, 37.6 ],\n",
       "        [18.3 , 28.05, 40.3 ]],\n",
       "\n",
       "       [[24.75, 38.25, 54.25],\n",
       "        [24.75, 38.25, 54.25],\n",
       "        [24.75, 38.25, 54.25],\n",
       "        [24.75, 38.25, 50.8 ],\n",
       "        [24.75, 34.8 , 47.35],\n",
       "        [21.3 , 31.35, 47.35],\n",
       "        [21.3 , 34.8 , 50.8 ]]])"
      ]
     },
     "execution_count": 162,
     "metadata": {},
     "output_type": "execute_result"
    }
   ],
   "source": [
    "intercepts"
   ]
  },
  {
   "cell_type": "code",
   "execution_count": 164,
   "metadata": {},
   "outputs": [],
   "source": [
    "# Mean of Poisson demand that is generated by the slope and y-intercept\n",
    "# One mean demand for each of the 30 randomly drawn price\n",
    "meanDemand = [intercepts[i,j, k] + slope[i] * randomRates[i, j, k, l] \n",
    "                    for i, j, k, l in itertools.product(range(n_class), range(7), range(los), range(drawsize))]\n",
    "meanDemand = np.array(meanDemand).reshape(n_class, 7, los, drawsize)\n",
    "zeros = np.zeros(n_class * 7 * los * drawsize).reshape(n_class, 7, los, drawsize)\n",
    "# Can't have megative demand, so truncate mean demand at zero\n",
    "meanDemand = np.maximum(meanDemand, zeros)"
   ]
  },
  {
   "cell_type": "code",
   "execution_count": 198,
   "metadata": {},
   "outputs": [
    {
     "data": {
      "text/plain": [
       "array([7.86      , 4.34333333, 4.07      ])"
      ]
     },
     "execution_count": 198,
     "metadata": {},
     "output_type": "execute_result"
    }
   ],
   "source": [
    "# Mean demand rate for a Sunday arrival (including 1-, 2-, and 3-night stay) \n",
    "np.average(meanDemand[0, 0], axis=1)"
   ]
  },
  {
   "cell_type": "code",
   "execution_count": 202,
   "metadata": {},
   "outputs": [
    {
     "data": {
      "text/plain": [
       "array([11.9 , 11.05,  9.7 ])"
      ]
     },
     "execution_count": 202,
     "metadata": {},
     "output_type": "execute_result"
    }
   ],
   "source": [
    "# Mean demand rate for a Sunday arrival (including 1-, 2-, and 3-night stay) \n",
    "meanDemand[0, 0, :, 0]"
   ]
  },
  {
   "cell_type": "code",
   "execution_count": 172,
   "metadata": {},
   "outputs": [
    {
     "data": {
      "text/plain": [
       "array([[26.50166667, 26.43333333, 26.10833333, 23.85666667, 23.88      ,\n",
       "        25.29333333, 23.95333333],\n",
       "       [39.96166667, 46.99833333, 44.13833333, 37.09833333, 29.01666667,\n",
       "        27.34      , 32.21666667]])"
      ]
     },
     "execution_count": 172,
     "metadata": {},
     "output_type": "execute_result"
    }
   ],
   "source": [
    "# Check total mean demand for each day of week for each random drawn price\n",
    "totalDemand = [np.sum(meanDemand[i, j,:,k]) \n",
    "                     + np.sum(meanDemand[i, (j-1+7)%7, 1:, k]) \n",
    "                     + np.sum(meanDemand[i, (j-2+7)%7, 2:, k]) \n",
    "                     for i, j, k in itertools.product(range(n_class), range(7), range(drawsize))]\n",
    "# Check total mean demand for each day of week\n",
    "# This mean demand should be around half of the expected demand\n",
    "totalDemand = np.array(totalDemand).reshape(n_class, 7, drawsize)\n",
    "np.mean(totalDemand, axis=2)"
   ]
  },
  {
   "cell_type": "code",
   "execution_count": 17,
   "metadata": {},
   "outputs": [],
   "source": [
    "# Check total mean demand for each day of week for each random drawn price\n",
    "meanDemand_rate1\n",
    "totalDemand = [[np.sum(meanDemand_rate1[i,:,j]) \n",
    "                     + np.sum(meanDemand_rate1[(i-1+7)%7, 1:, j]) \n",
    "                     + np.sum(meanDemand_rate1[(i-2+7)%7, 2:, j]) \n",
    "                     for i in range(7)] for j in range(drawsize)]"
   ]
  },
  {
   "cell_type": "code",
   "execution_count": 18,
   "metadata": {},
   "outputs": [
    {
     "data": {
      "text/plain": [
       "array([23.55      , 23.20166667, 17.575     , 27.73666667, 31.18666667,\n",
       "       31.01666667, 27.53333333])"
      ]
     },
     "execution_count": 18,
     "metadata": {},
     "output_type": "execute_result"
    }
   ],
   "source": [
    "# Check total mean demand for each day of week\n",
    "# This mean demand should be around half of the expected demand\n",
    "totalDemand_rate1 = np.array(totalDemand_rate1).reshape(7, drawsize)\n",
    "np.mean(totalDemand_rate1, axis=1)"
   ]
  },
  {
   "cell_type": "code",
   "execution_count": 19,
   "metadata": {},
   "outputs": [],
   "source": [
    "# Generate random demand for each day of week and length of stay combination\n",
    "randomDemand_rate1 = [poisson.rvs(mu, size=1) for mu in np.nditer(meanDemand_rate1)]\n",
    "randomDemand_rate1 = np.array(randomDemand_rate1).reshape(7, los, drawsize)"
   ]
  },
  {
   "cell_type": "code",
   "execution_count": 20,
   "metadata": {},
   "outputs": [
    {
     "data": {
      "text/plain": [
       "array([[ 7, 11,  1,  3,  7,  3, 14,  4, 16, 13,  5, 12, 16,  7,  8,  2,\n",
       "         9,  5, 10,  8,  9,  7,  7,  3, 11, 10,  5, 11,  2,  1],\n",
       "       [ 0, 11,  0,  0,  5,  0,  7,  0,  2,  2,  7,  0,  4,  0,  5,  0,\n",
       "         2,  6,  0,  8,  5,  1,  0,  1,  0,  6,  2,  9,  4,  0],\n",
       "       [ 0,  5,  0,  1,  8,  0,  3,  0,  1,  0, 13,  0,  0,  5,  5,  0,\n",
       "         5, 11,  0, 13,  1,  0,  1,  0,  0,  2, 10,  4,  2,  0]])"
      ]
     },
     "execution_count": 20,
     "metadata": {},
     "output_type": "execute_result"
    }
   ],
   "source": [
    "# Sunday arrivals for 1-night, 2-night, and 3-night stays\n",
    "randomDemand_rate1[0]"
   ]
  },
  {
   "cell_type": "code",
   "execution_count": 24,
   "metadata": {},
   "outputs": [
    {
     "data": {
      "text/plain": [
       "array([23.7       , 24.1       , 28.13333333, 29.56666667, 27.13333333,\n",
       "       23.46666667, 24.6       ])"
      ]
     },
     "execution_count": 24,
     "metadata": {},
     "output_type": "execute_result"
    }
   ],
   "source": [
    "# Check number of total arrivals for each day of week, considering up to 3-night stay\n",
    "arrivals = np.array([[np.sum(randomDemand_rate1[i,:,j]) \n",
    "                     + np.sum(randomDemand_rate1[(i-1+7)%7, 1:, j]) \n",
    "                     + np.sum(randomDemand_rate1[(i-2+7)%7, 2:, j]) \n",
    "                     for i in range(7)] for j in range(drawsize)])\n",
    "np.average(arrivals, axis = 0)"
   ]
  },
  {
   "cell_type": "code",
   "execution_count": 53,
   "metadata": {},
   "outputs": [
    {
     "data": {
      "text/plain": [
       "(array([170, 105, 177, 184, 116, 138, 113, 177, 133, 109, 139, 166,  92,\n",
       "        153,  98, 185, 149, 130, 151, 117, 133, 161, 150, 123, 121, 115,\n",
       "        161, 121, 173, 185]),\n",
       " array([ 7, 11,  1,  3,  7,  3, 14,  4, 16, 13,  5, 12, 16,  7,  8,  2,  9,\n",
       "         5, 10,  8,  9,  7,  7,  3, 11, 10,  5, 11,  2,  1]))"
      ]
     },
     "execution_count": 53,
     "metadata": {},
     "output_type": "execute_result"
    }
   ],
   "source": [
    "randomRates1[0, 0], randomDemand_rate1[0, 0]"
   ]
  },
  {
   "cell_type": "code",
   "execution_count": 50,
   "metadata": {},
   "outputs": [],
   "source": [
    "# Create linear regression object\n",
    "slopes_rate1_update = []\n",
    "intercepts_rate1_update = []\n",
    "regr = LinearRegression()\n",
    "for i,j in itertools.product(range(7), range(los)):\n",
    "    regr.fit(randomRates1[i, j, :].reshape(drawsize, -1), randomDemand_rate1[i, j, :])\n",
    "    intercepts_rate1_update.append(regr.intercept_)\n",
    "    slopes_rate1_update.append(regr.coef_)"
   ]
  },
  {
   "cell_type": "code",
   "execution_count": 51,
   "metadata": {},
   "outputs": [],
   "source": [
    "slopes_rate1_update = np.array(slopes_rate1_update).reshape(7, los)\n",
    "intercepts_rate1_update = np.array(intercepts_rate1_update).reshape(7, los)"
   ]
  },
  {
   "cell_type": "code",
   "execution_count": 52,
   "metadata": {},
   "outputs": [
    {
     "data": {
      "text/plain": [
       "(array([[-0.10059067, -0.07400144, -0.07324504],\n",
       "        [-0.10040019, -0.07948722, -0.08769441],\n",
       "        [-0.07392731, -0.08347017, -0.06736604],\n",
       "        [-0.09295855, -0.09159165, -0.06706168],\n",
       "        [-0.10934749, -0.08273451, -0.06921872],\n",
       "        [-0.13191376, -0.0654306 , -0.05958809],\n",
       "        [-0.09095736, -0.06224823, -0.07314297]]),\n",
       " array([[21.8002463 , 23.68453917, 33.24287657],\n",
       "        [20.45910642, 25.33949756, 39.42920389],\n",
       "        [17.82753575, 26.36913056, 31.02874689],\n",
       "        [19.27766284, 29.07564114, 29.04346101],\n",
       "        [21.38907096, 23.82559093, 27.36577547],\n",
       "        [21.49561654, 17.82119494, 24.14376591],\n",
       "        [17.34752621, 19.22109644, 31.97463246]]))"
      ]
     },
     "execution_count": 52,
     "metadata": {},
     "output_type": "execute_result"
    }
   ],
   "source": [
    "slopes_rate1_update, intercepts_rate1_update"
   ]
  },
  {
   "cell_type": "code",
   "execution_count": null,
   "metadata": {},
   "outputs": [],
   "source": []
  }
 ],
 "metadata": {
  "kernelspec": {
   "display_name": "Python 3",
   "language": "python",
   "name": "python3"
  },
  "language_info": {
   "codemirror_mode": {
    "name": "ipython",
    "version": 3
   },
   "file_extension": ".py",
   "mimetype": "text/x-python",
   "name": "python",
   "nbconvert_exporter": "python",
   "pygments_lexer": "ipython3",
   "version": "3.7.7"
  }
 },
 "nbformat": 4,
 "nbformat_minor": 4
}
