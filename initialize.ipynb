{
 "cells": [
  {
   "cell_type": "code",
   "execution_count": 1,
   "metadata": {},
   "outputs": [],
   "source": [
    "# Initialize adaptive pricing algorithm by generating initial nested protection levels, \n",
    "# each bucket representative revenues, and discount ratios for a given initial rate, \n",
    "# capacity, and demand intensity"
   ]
  },
  {
   "cell_type": "code",
   "execution_count": 2,
   "metadata": {},
   "outputs": [],
   "source": [
    "import itertools\n",
    "from operator import itemgetter\n",
    "import numpy as np\n",
    "from cvxopt import matrix, solvers\n",
    "\n",
    "np.set_printoptions(precision=2, suppress=True)"
   ]
  },
  {
   "cell_type": "code",
   "execution_count": 3,
   "metadata": {},
   "outputs": [],
   "source": [
    "# Parameter values\n",
    "n_class = 2\n",
    "los = 3\n",
    "capacity = 50\n",
    "intensity = 1.5\n",
    "rates_init = np.array([[135, 135, 135, 135, 135, 108, 108],\n",
    "                       [115, 115, 115, 115, 115, 92, 92]])\n",
    "combs = n_class * 7 * los"
   ]
  },
  {
   "cell_type": "code",
   "execution_count": 4,
   "metadata": {},
   "outputs": [
    {
     "data": {
      "text/plain": [
       "array([[[135, 270, 405],\n",
       "        [135, 270, 405],\n",
       "        [135, 270, 405],\n",
       "        [135, 270, 378],\n",
       "        [135, 243, 351],\n",
       "        [108, 216, 351],\n",
       "        [108, 243, 378]],\n",
       "\n",
       "       [[115, 230, 345],\n",
       "        [115, 230, 345],\n",
       "        [115, 230, 345],\n",
       "        [115, 230, 322],\n",
       "        [115, 207, 299],\n",
       "        [ 92, 184, 299],\n",
       "        [ 92, 207, 322]]])"
      ]
     },
     "execution_count": 4,
     "metadata": {},
     "output_type": "execute_result"
    }
   ],
   "source": [
    "# Calculate averate rates for each arrival day of week and los combination\n",
    "rates_arrival_los = [[rates_init[i, j],\n",
    "                      rates_init[i, j] + rates_init[i, (j+1)%7],\n",
    "                      rates_init[i, j] + rates_init[i, (j+1)%7] + rates_init[i, (j+2)%7]] \n",
    "                      for i, j in itertools.product(range(n_class), range(7))]\n",
    "# Store it as a numpy array\n",
    "rates_arrival_los = np.array(rates_arrival_los).reshape(n_class, 7, los)\n",
    "rates_arrival_los"
   ]
  },
  {
   "cell_type": "code",
   "execution_count": 5,
   "metadata": {},
   "outputs": [
    {
     "data": {
      "text/plain": [
       "array([-135, -270, -405, -135, -270, -405, -135, -270, -405, -135, -270,\n",
       "       -378, -135, -243, -351, -108, -216, -351, -108, -243, -378, -115,\n",
       "       -230, -345, -115, -230, -345, -115, -230, -345, -115, -230, -322,\n",
       "       -115, -207, -299,  -92, -184, -299,  -92, -207, -322])"
      ]
     },
     "execution_count": 5,
     "metadata": {},
     "output_type": "execute_result"
    }
   ],
   "source": [
    "# Coefficients of objective function for LP\n",
    "obj_coefs = (-1) * rates_arrival_los.reshape(n_class * 7 * los)\n",
    "obj_coefs"
   ]
  },
  {
   "cell_type": "code",
   "execution_count": 6,
   "metadata": {},
   "outputs": [],
   "source": [
    "# Inequality equations, LHS\n",
    "# We have total number of 42 decision veriables, corresponding to total number of\n",
    "# rate class, arrival day of week and los combinations.\n",
    "# Column indexes 0-20 are associated with decision variables for rate class 1\n",
    "# Column indexes 21-41 are associated with decision variables for rate class 2\n",
    "G = np.zeros(7 * los * n_class * 7).reshape(7, n_class*7*los)\n",
    "# Arrivals that span Sunday stay night for rate class 1\n",
    "G[0,:(7*los)] = [1, 1, 1, 0, 0, 0, 0, 0, 0, 0, 0, 0, 0, 0, 0, 0, 0, 0, 0, 0, 0]\n",
    "# Arrivals that span Monday stay night for rate class 1\n",
    "G[1,:(7*los)] = [0, 1, 1, 1, 1, 1, 0, 0, 0, 0, 0, 0, 0, 0, 0, 0, 0, 0, 0, 0, 0]\n",
    "G[2,:(7*los)] = [0, 0, 1, 0, 1, 1, 1, 1, 1, 0, 0, 0, 0, 0, 0, 0, 0, 0, 0, 0, 0]\n",
    "G[3,:(7*los)] = [0, 0, 0, 0, 0, 1, 0, 1, 1, 1, 1, 1, 0, 0, 0, 0, 0, 0, 0, 0, 0]\n",
    "G[4,:(7*los)] = [0, 0, 0, 0, 0, 0, 0, 0, 1, 0, 1, 1, 1, 1, 1, 0, 0, 0, 0, 0, 0]\n",
    "G[5,:(7*los)] = [0, 0, 0, 0, 0, 0, 0, 0, 0, 0, 0, 1, 0, 1, 1, 1, 1, 1, 0, 0, 0]\n",
    "G[6,:(7*los)] = [0, 0, 0, 0, 0, 0, 0, 0, 0, 0, 0, 0, 0, 0, 1, 0, 1, 1, 1, 1, 1]\n",
    "# Arrivals that span Sunday stay night for rate class 2\n",
    "G[0,(7*los):] = [1, 1, 1, 0, 0, 0, 0, 0, 0, 0, 0, 0, 0, 0, 0, 0, 0, 0, 0, 0, 0]\n",
    "# Arrivals that span Monday stay night for rate class 2\n",
    "G[1,(7*los):] = [0, 1, 1, 1, 1, 1, 0, 0, 0, 0, 0, 0, 0, 0, 0, 0, 0, 0, 0, 0, 0]\n",
    "G[2,(7*los):] = [0, 0, 1, 0, 1, 1, 1, 1, 1, 0, 0, 0, 0, 0, 0, 0, 0, 0, 0, 0, 0]\n",
    "G[3,(7*los):] = [0, 0, 0, 0, 0, 1, 0, 1, 1, 1, 1, 1, 0, 0, 0, 0, 0, 0, 0, 0, 0]\n",
    "G[4,(7*los):] = [0, 0, 0, 0, 0, 0, 0, 0, 1, 0, 1, 1, 1, 1, 1, 0, 0, 0, 0, 0, 0]\n",
    "G[5,(7*los):] = [0, 0, 0, 0, 0, 0, 0, 0, 0, 0, 0, 1, 0, 1, 1, 1, 1, 1, 0, 0, 0]\n",
    "G[6,(7*los):] = [0, 0, 0, 0, 0, 0, 0, 0, 0, 0, 0, 0, 0, 0, 1, 0, 1, 1, 1, 1, 1]\n",
    "\n",
    "# identity matrix for expected demand constraints, G for capacity constraints,\n",
    "# Negative identity matrix for non-negativity\n",
    "G = np.concatenate((np.identity(combs), G, -np.identity(combs)), axis=0)\n",
    "# Inequality equations, RHS\n",
    "# For each rate class, number of arrivals for a stay night in question is half of\n",
    "# expected demand, which is capacity * intensity, then this expected demand is equally \n",
    "# split between 6 arrival day, los combination that spans the stay night in question\n",
    "expDemand_each = (capacity * intensity * 0.5) / 6\n",
    "h = np.round(expDemand_each, decimals=0) * np.ones(n_class * 7 * los)\n",
    "# First h for expected demand, second component for capacity rhs\n",
    "# Third component for non-negativity rhs.\n",
    "h = np.concatenate((h, capacity * np.ones(7), np.zeros(combs)), axis=0)"
   ]
  },
  {
   "cell_type": "code",
   "execution_count": 7,
   "metadata": {},
   "outputs": [
    {
     "data": {
      "text/plain": [
       "array([ 6.,  6.,  6.,  6.,  6.,  6.,  6.,  6.,  6.,  6.,  6.,  6.,  6.,\n",
       "        6.,  6.,  6.,  6.,  6.,  6.,  6.,  6.,  6.,  6.,  6.,  6.,  6.,\n",
       "        6.,  6.,  6.,  6.,  6.,  6.,  6.,  6.,  6.,  6.,  6.,  6.,  6.,\n",
       "        6.,  6.,  6., 50., 50., 50., 50., 50., 50., 50.,  0.,  0.,  0.,\n",
       "        0.,  0.,  0.,  0.,  0.,  0.,  0.,  0.,  0.,  0.,  0.,  0.,  0.,\n",
       "        0.,  0.,  0.,  0.,  0.,  0.,  0.,  0.,  0.,  0.,  0.,  0.,  0.,\n",
       "        0.,  0.,  0.,  0.,  0.,  0.,  0.,  0.,  0.,  0.,  0.,  0.,  0.])"
      ]
     },
     "execution_count": 7,
     "metadata": {},
     "output_type": "execute_result"
    }
   ],
   "source": [
    "h"
   ]
  },
  {
   "cell_type": "code",
   "execution_count": 8,
   "metadata": {},
   "outputs": [],
   "source": [
    "# Convert numpy arrays to cvxopt matrix forms\n",
    "c = matrix(obj_coefs, tc='d')\n",
    "G = matrix(G)\n",
    "h = matrix(h)"
   ]
  },
  {
   "cell_type": "code",
   "execution_count": 9,
   "metadata": {},
   "outputs": [],
   "source": [
    "# Solve LP, method = \"interior point method\" by default\n",
    "# Results are used for initialization purpose (warm start), so it should\n",
    "# not affect final algorithm performance after an efficient number of runs\n",
    "solvers.options['show_progress'] = False\n",
    "sol = solvers.lp(c, G, h)"
   ]
  },
  {
   "cell_type": "code",
   "execution_count": 10,
   "metadata": {},
   "outputs": [
    {
     "data": {
      "text/plain": [
       "array([[[6., 6., 6.],\n",
       "        [6., 6., 6.],\n",
       "        [6., 6., 6.],\n",
       "        [6., 6., 6.],\n",
       "        [6., 6., 6.],\n",
       "        [6., 6., 6.],\n",
       "        [2., 6., 6.]],\n",
       "\n",
       "       [[6., 6., 6.],\n",
       "        [4., 2., 2.],\n",
       "        [1., 1., 2.],\n",
       "        [3., 3., 3.],\n",
       "        [3., 3., 0.],\n",
       "        [2., 0., 6.],\n",
       "        [0., 6., 6.]]])"
      ]
     },
     "execution_count": 10,
     "metadata": {},
     "output_type": "execute_result"
    }
   ],
   "source": [
    "# Optimal solutions serve as booking limits: number of booking requests to accept for \n",
    "# a given rate class, arrival day, los combination\n",
    "bkLimits = np.array(sol['x']).reshape(n_class, 7, los)\n",
    "bkLimits = np.round(bkLimits, decimals=0)\n",
    "bkLimits"
   ]
  },
  {
   "cell_type": "code",
   "execution_count": 11,
   "metadata": {},
   "outputs": [
    {
     "data": {
      "text/plain": [
       "array([[[135., 155., 175.],\n",
       "        [ 20.,  40.,  60.],\n",
       "        [ 20.,  40.,  60.],\n",
       "        [ 20.,  40.,  56.],\n",
       "        [ 20.,  36.,  36.],\n",
       "        [ 16.,  16., 151.],\n",
       "        [  0., 135., 270.]],\n",
       "\n",
       "       [[115., 115., 115.],\n",
       "        [  0.,   0.,   0.],\n",
       "        [  0.,   0.,   0.],\n",
       "        [  0.,   0.,   0.],\n",
       "        [  0.,   0.,   0.],\n",
       "        [  0.,   0.,  99.],\n",
       "        [  0.,  99., 214.]]])"
      ]
     },
     "execution_count": 11,
     "metadata": {},
     "output_type": "execute_result"
    }
   ],
   "source": [
    "# Dual values associated with demand constraints\n",
    "# Represent marginal contribution for the stay night revenue\n",
    "duals = np.array(sol['z'])[:(n_class*7*los)].reshape(n_class, 7, los)\n",
    "duals = np.round(duals, decimals=0)\n",
    "duals"
   ]
  },
  {
   "cell_type": "code",
   "execution_count": 12,
   "metadata": {},
   "outputs": [],
   "source": [
    "# tuple (0, 1, 2) represents rate class 1, Monday arrival and 3-night stay\n",
    "sun_stay_index = [(0, 0, 0), (0, 0, 1), (0, 0, 2), (0, 6, 1), (0, 6, 2), (0, 5, 2), \n",
    "            (1, 0, 0), (1, 0, 1), (1, 0, 2), (1, 6, 1), (1, 6, 2), (1, 5, 2)]\n",
    "\n",
    "mon_stay_index = [(0, 1, 0), (0, 1, 1), (0, 1, 2), (0, 0, 1), (0, 0, 2), (0, 6, 2), \n",
    "            (1, 1, 0), (1, 1, 1), (1, 1, 2), (1, 0, 1), (1, 0, 2), (1, 6, 2)]\n",
    "\n",
    "tue_stay_index = [(0, 2, 0), (0, 2, 1), (0, 2, 2), (0, 1, 1), (0, 1, 2), (0, 0, 2), \n",
    "            (1, 2, 0), (1, 2, 1), (1, 2, 2), (1, 1, 1), (1, 1, 2), (1, 0, 2)]\n",
    "\n",
    "wed_stay_index = [(0, 3, 0), (0, 3, 1), (0, 3, 2), (0, 2, 1), (0, 2, 2), (0, 1, 2), \n",
    "            (1, 3, 0), (1, 3, 1), (1, 3, 2), (1, 2, 1), (1, 2, 2), (1, 1, 2)]\n",
    "\n",
    "thr_stay_index = [(0, 4, 0), (0, 4, 1), (0, 4, 2), (0, 3, 1), (0, 3, 2), (0, 2, 2), \n",
    "            (1, 4, 0), (1, 4, 1), (1, 4, 2), (1, 3, 1), (1, 3, 2), (1, 2, 2)]\n",
    "\n",
    "fri_stay_index = [(0, 5, 0), (0, 5, 1), (0, 5, 2), (0, 4, 1), (0, 4, 2), (0, 3, 2), \n",
    "            (1, 5, 0), (1, 5, 1), (1, 5, 2), (1, 4, 1), (1, 4, 2), (1, 3, 2)]\n",
    "\n",
    "sat_stay_index = [(0, 6, 0), (0, 6, 1), (0, 6, 2), (0, 5, 1), (0, 5, 2), (0, 4, 2), \n",
    "            (1, 6, 0), (1, 6, 1), (1, 6, 2), (1, 5, 1), (1, 5, 2), (1, 4, 2)]"
   ]
  },
  {
   "cell_type": "code",
   "execution_count": 13,
   "metadata": {},
   "outputs": [],
   "source": [
    "# Create one complete index list\n",
    "stay_index = [sun_stay_index, mon_stay_index, tue_stay_index, wed_stay_index,\n",
    "             thr_stay_index, fri_stay_index, sat_stay_index]"
   ]
  },
  {
   "cell_type": "code",
   "execution_count": 14,
   "metadata": {},
   "outputs": [],
   "source": [
    "# Create virtual buckets with booking classes in them\n",
    "# Use a copy of the index list in order to keep the index list unchanged for later use\n",
    "stay_index_cp = stay_index.copy()\n",
    "max_buckets = 5\n",
    "buckets_all = []\n",
    "\n",
    "for index_ls in stay_index_cp:\n",
    "    buckets = [[] for i in range(max_buckets)]\n",
    "    duals_ls = [duals[item] for item in index_ls]\n",
    "    n_buckets = 1\n",
    "\n",
    "    # Stop clustering when the number of buckets is higher than max_buckets of 5 or\n",
    "    # when the index list is empty\n",
    "    while n_buckets <= max_buckets and index_ls:\n",
    "        duals_left = [duals[item] for item in index_ls]\n",
    "        duals_max = np.max(duals_left)\n",
    "        # Keep track of the elements to remove from the index list in \n",
    "        # each bucket creation iteration\n",
    "        item_delete_index = []\n",
    "        # Create lower and upper limits for buckets\n",
    "        lower = ((max_buckets-n_buckets) / (max_buckets-n_buckets+1)) * duals_max\n",
    "        upper = duals_max\n",
    "        # Cluster each item into appropriate buckets\n",
    "        for item in index_ls:\n",
    "            item_index = index_ls.index(item)\n",
    "            if duals[item] >= lower: \n",
    "                buckets[n_buckets-1].append(item)\n",
    "                item_delete_index.append(item_index)\n",
    "        # Update index list for the next iteration by removing elements that have been\n",
    "        # already clustered\n",
    "        index_ls = [item for item in index_ls if index_ls.index(item) not in item_delete_index]\n",
    "        # Update bucket number\n",
    "        n_buckets += 1\n",
    "        \n",
    "    buckets_all.append(buckets)\n",
    "    "
   ]
  },
  {
   "cell_type": "code",
   "execution_count": 15,
   "metadata": {},
   "outputs": [],
   "source": [
    "# Filter out empty lists where number of buckets for a stay night is less than 5\n",
    "buckets_all = [list(filter(None, elem)) for elem in buckets_all]"
   ]
  },
  {
   "cell_type": "code",
   "execution_count": 16,
   "metadata": {},
   "outputs": [
    {
     "data": {
      "text/plain": [
       "[[(0, 6, 2)],\n",
       " [(0, 0, 2), (1, 6, 2)],\n",
       " [(0, 0, 0), (0, 0, 1), (0, 6, 1), (0, 5, 2), (1, 0, 0), (1, 0, 1), (1, 0, 2)],\n",
       " [(1, 6, 1), (1, 5, 2)]]"
      ]
     },
     "execution_count": 16,
     "metadata": {},
     "output_type": "execute_result"
    }
   ],
   "source": [
    "# Cluster booking classes that span Sunday stay night into 4 buckets\n",
    "buckets_all[0]"
   ]
  },
  {
   "cell_type": "code",
   "execution_count": 17,
   "metadata": {},
   "outputs": [
    {
     "data": {
      "text/plain": [
       "[4, 5, 5, 4, 4, 5, 5]"
      ]
     },
     "execution_count": 17,
     "metadata": {},
     "output_type": "execute_result"
    }
   ],
   "source": [
    "# Number of buckets in each stay night\n",
    "n_buckets = list(map(len, buckets_all))\n",
    "n_buckets"
   ]
  },
  {
   "cell_type": "code",
   "execution_count": 18,
   "metadata": {},
   "outputs": [],
   "source": [
    "# Calculate protection levels for each bucket in each stay night of the week\n",
    "# Store partitioned protection levels for all days of a week\n",
    "ptLevels_ptd = []\n",
    "for buckets_each in buckets_all:\n",
    "    # Store partitioned protection levels for each stay night\n",
    "    levels = []\n",
    "    # Partitioned protection levels\n",
    "    for bucket in buckets_each:\n",
    "        # If there is only one element in the bucket, then it is not iterable\n",
    "        # and code will throw out TypeError. Therefore, we implement try...except.\n",
    "        try:\n",
    "            level = list(itemgetter(*bucket)(bkLimits))\n",
    "            level = np.sum(np.array(level).reshape(len(level)))\n",
    "        except TypeError:\n",
    "            level = bkLimits[bucket[0]]\n",
    "        levels.append(level)\n",
    "    ptLevels_ptd.append(levels)"
   ]
  },
  {
   "cell_type": "code",
   "execution_count": 19,
   "metadata": {},
   "outputs": [
    {
     "data": {
      "text/plain": [
       "[[6.0, 12.0, 42.0, 12.0],\n",
       " [6.0, 12.0, 18.0, 12.0, 14.0],\n",
       " [6.0, 6.0, 24.0, 6.0, 8.0],\n",
       " [18.0, 12.0, 6.0, 14.0],\n",
       " [12.0, 18.0, 6.0, 14.0],\n",
       " [6.0, 6.0, 6.0, 12.0, 20.0],\n",
       " [6.0, 6.0, 12.0, 12.0, 14.0]]"
      ]
     },
     "execution_count": 19,
     "metadata": {},
     "output_type": "execute_result"
    }
   ],
   "source": [
    "ptLevels_ptd"
   ]
  },
  {
   "cell_type": "code",
   "execution_count": 20,
   "metadata": {},
   "outputs": [
    {
     "data": {
      "text/plain": [
       "[array([ 6., 18., 60., 72.]),\n",
       " array([ 6., 18., 36., 48., 62.]),\n",
       " array([ 6., 12., 36., 42., 50.]),\n",
       " array([18., 30., 36., 50.]),\n",
       " array([12., 30., 36., 50.]),\n",
       " array([ 6., 12., 18., 30., 50.]),\n",
       " array([ 6., 12., 24., 36., 50.])]"
      ]
     },
     "execution_count": 20,
     "metadata": {},
     "output_type": "execute_result"
    }
   ],
   "source": [
    "# Compute nested protection levels\n",
    "ptLevels = [np.cumsum(ptLevels_ptd[i]) for i in range(7)]\n",
    "ptLevels"
   ]
  },
  {
   "cell_type": "code",
   "execution_count": 21,
   "metadata": {},
   "outputs": [
    {
     "data": {
      "text/plain": [
       "[[1, 2, 7, 2],\n",
       " [1, 2, 3, 2, 4],\n",
       " [1, 1, 4, 1, 5],\n",
       " [3, 2, 1, 6],\n",
       " [2, 3, 1, 6],\n",
       " [1, 1, 1, 2, 7],\n",
       " [1, 1, 2, 2, 6]]"
      ]
     },
     "execution_count": 21,
     "metadata": {},
     "output_type": "execute_result"
    }
   ],
   "source": [
    "# Store number of rda combinations in a bucket for a stay night\n",
    "bkt_length = [list(map(len, buckets_all[i])) for i in range(7)]\n",
    "bkt_length"
   ]
  },
  {
   "cell_type": "code",
   "execution_count": 22,
   "metadata": {},
   "outputs": [],
   "source": [
    "# Calculate average revenue for each bucket in each stay night of the week\n",
    "# Store calculated average revenues for all days of a week\n",
    "revenues_avg = []\n",
    "for buckets_each in buckets_all:\n",
    "    # Store average revenue for each stay night\n",
    "    revenue_each = []\n",
    "    for bucket in buckets_each:\n",
    "        # If there is only one element in the bucket, then it is not iterable\n",
    "        # and code will throw out TypeError. Therefore, we implement try...except.\n",
    "        try:\n",
    "            revenue = list(itemgetter(*bucket)(rates_arrival_los))\n",
    "            revenue = np.mean(np.array(revenue).reshape(len(revenue)))\n",
    "        except TypeError:\n",
    "            revenue = rates_arrival_los[bucket[0]]\n",
    "        revenue_each.append(revenue)\n",
    "    revenues_avg.append(revenue_each)"
   ]
  },
  {
   "cell_type": "code",
   "execution_count": 23,
   "metadata": {},
   "outputs": [
    {
     "data": {
      "text/plain": [
       "[[378, 363.5, 241.28571428571428, 253.0],\n",
       " [378, 363.5, 281.6666666666667, 337.5, 206.25],\n",
       " [405, 345, 337.5, 135, 253.0],\n",
       " [396.0, 270.0, 135, 264.5],\n",
       " [391.5, 288.0, 135, 253.0],\n",
       " [351, 299, 378, 297.0, 204.0],\n",
       " [378, 322, 297.0, 253.0, 208.33333333333334]]"
      ]
     },
     "execution_count": 23,
     "metadata": {},
     "output_type": "execute_result"
    }
   ],
   "source": [
    "revenues_avg"
   ]
  },
  {
   "cell_type": "code",
   "execution_count": 24,
   "metadata": {},
   "outputs": [],
   "source": [
    "# Calculate minimum dual values for each bucket in each stay night of the week\n",
    "# Store output for all days of a week\n",
    "duals_min = []\n",
    "for buckets_each in buckets_all:\n",
    "    # Store average revenue for each stay night\n",
    "    dual_vals = []\n",
    "    for bucket in buckets_each:\n",
    "        # If there is only one element in the bucket, then it is not iterable\n",
    "        # and code will throw out TypeError. Therefore, we implement try...except.\n",
    "        try:\n",
    "            dual_val = list(itemgetter(*bucket)(duals))\n",
    "            dual_val = np.min(np.array(dual_val).reshape(len(dual_val)))\n",
    "        except TypeError:\n",
    "            dual_val = duals[bucket[0]]\n",
    "        dual_vals.append(dual_val)\n",
    "    duals_min.append(dual_vals)"
   ]
  },
  {
   "cell_type": "code",
   "execution_count": 25,
   "metadata": {},
   "outputs": [
    {
     "data": {
      "text/plain": [
       "([[270.0, 175.0, 115.0, 99.0],\n",
       "  [270.0, 175.0, 115.0, 40.0, 0.0],\n",
       "  [175.0, 115.0, 40.0, 20.0, 0.0],\n",
       "  [56.0, 40.0, 20.0, 0.0],\n",
       "  [56.0, 36.0, 20.0, 0.0],\n",
       "  [151.0, 99.0, 56.0, 36.0, 0.0],\n",
       "  [270.0, 214.0, 135.0, 99.0, 0.0]],\n",
       " [[378, 363.5, 241.28571428571428, 253.0],\n",
       "  [378, 363.5, 281.6666666666667, 337.5, 206.25],\n",
       "  [405, 345, 337.5, 135, 253.0],\n",
       "  [396.0, 270.0, 135, 264.5],\n",
       "  [391.5, 288.0, 135, 253.0],\n",
       "  [351, 299, 378, 297.0, 204.0],\n",
       "  [378, 322, 297.0, 253.0, 208.33333333333334]])"
      ]
     },
     "execution_count": 25,
     "metadata": {},
     "output_type": "execute_result"
    }
   ],
   "source": [
    "duals_min, revenues_avg"
   ]
  },
  {
   "cell_type": "code",
   "execution_count": 26,
   "metadata": {},
   "outputs": [],
   "source": [
    "# Calculate dual values difference and find the average difference\n",
    "# Here, implement Algorithm 2 from the paper\n",
    "duals_diff = []\n",
    "for vals in duals_min:\n",
    "    duals_diff_each = []\n",
    "    [duals_diff_each.append(vals[i] - vals[i+1]) for i in range(len(vals) - 1)]\n",
    "    duals_diff.append(duals_diff_each)\n",
    "\n",
    "# After calculation the difference between two adjacent dual values, we calculate\n",
    "# the average dual difference by diving the difference by the number of booking classes\n",
    "# in that bucket\n",
    "avg_diff = []\n",
    "for diff, length in zip(duals_diff, bkt_length):\n",
    "    avg_diff.append(np.array(diff) / np.array(length[:-1]))"
   ]
  },
  {
   "cell_type": "code",
   "execution_count": 27,
   "metadata": {},
   "outputs": [
    {
     "data": {
      "text/plain": [
       "[[458.5, 363.5, 255.28571428571428, 253.0],\n",
       " [487.5, 392.5, 362.5, 337.5, 206.25],\n",
       " [472.5, 412.5, 337.5, 273.0, 253.0],\n",
       " [396.0, 294.5, 284.5, 264.5],\n",
       " [391.5, 288.0, 273.0, 253.0],\n",
       " [473.0, 421.0, 378, 297.0, 204.0],\n",
       " [432.0, 376.0, 297.0, 257.83333333333337, 208.33333333333334]]"
      ]
     },
     "execution_count": 27,
     "metadata": {},
     "output_type": "execute_result"
    }
   ],
   "source": [
    "# Calculate final representative rates for each bucket in each stay night\n",
    "# by taking the maximum values of three quantities\n",
    "rates = []\n",
    "for i in range(7):\n",
    "    rates_each = []\n",
    "    # This is for the last bucket in each stay night\n",
    "    maxVal = max(revenues_avg[i][n_buckets[i]-1], duals_min[i][n_buckets[i]-1])\n",
    "    rates_each.append(maxVal)\n",
    "    # This is for all the remaining buckets, counting backwards\n",
    "    for j in range(n_buckets[i]-2, -1, -1):\n",
    "        revenues_adj = rates_each[0] + avg_diff[i][j]\n",
    "        final_rate = max(revenues_avg[i][j], duals_min[i][j], revenues_adj)\n",
    "        # Since counting backward, we insert each rate at the beginning of the list\n",
    "        rates_each.insert(0, final_rate)\n",
    "    rates.append(rates_each)\n",
    "rates"
   ]
  },
  {
   "cell_type": "code",
   "execution_count": 28,
   "metadata": {},
   "outputs": [],
   "source": [
    "# Final representative revenues\n",
    "rates = [[round(rate, 0) for rate in rates[i]] for i in range(7)]"
   ]
  },
  {
   "cell_type": "code",
   "execution_count": 29,
   "metadata": {},
   "outputs": [
    {
     "data": {
      "text/plain": [
       "[[458.0, 364.0, 255.0, 253.0],\n",
       " [488.0, 392.0, 362.0, 338.0, 206.0],\n",
       " [472.0, 412.0, 338.0, 273.0, 253.0],\n",
       " [396.0, 294.0, 284.0, 264.0],\n",
       " [392.0, 288.0, 273.0, 253.0],\n",
       " [473.0, 421.0, 378, 297.0, 204.0],\n",
       " [432.0, 376.0, 297.0, 258.0, 208.0]]"
      ]
     },
     "execution_count": 29,
     "metadata": {},
     "output_type": "execute_result"
    }
   ],
   "source": [
    "rates"
   ]
  },
  {
   "cell_type": "code",
   "execution_count": 30,
   "metadata": {},
   "outputs": [],
   "source": [
    "# Discount ratio\n",
    "ratios = []\n",
    "for i in range(7):\n",
    "    ratios_each = []\n",
    "    for j in range(n_buckets[i]):\n",
    "        try:\n",
    "            ratio = rates[i][j] / rates[i][0]\n",
    "        except ZeroDivisionError:\n",
    "            ratio = 0.5\n",
    "        ratios_each.append(ratio)\n",
    "    ratios.append(ratios_each)"
   ]
  },
  {
   "cell_type": "code",
   "execution_count": 31,
   "metadata": {},
   "outputs": [],
   "source": [
    "ratios = [[round(ratio, 4) for ratio in ratios[i]] for i in range(7)]"
   ]
  },
  {
   "cell_type": "code",
   "execution_count": 32,
   "metadata": {},
   "outputs": [
    {
     "data": {
      "text/plain": [
       "[[1.0, 0.7948, 0.5568, 0.5524],\n",
       " [1.0, 0.8033, 0.7418, 0.6926, 0.4221],\n",
       " [1.0, 0.8729, 0.7161, 0.5784, 0.536],\n",
       " [1.0, 0.7424, 0.7172, 0.6667],\n",
       " [1.0, 0.7347, 0.6964, 0.6454],\n",
       " [1.0, 0.8901, 0.7992, 0.6279, 0.4313],\n",
       " [1.0, 0.8704, 0.6875, 0.5972, 0.4815]]"
      ]
     },
     "execution_count": 32,
     "metadata": {},
     "output_type": "execute_result"
    }
   ],
   "source": [
    "ratios"
   ]
  },
  {
   "cell_type": "code",
   "execution_count": null,
   "metadata": {},
   "outputs": [],
   "source": []
  }
 ],
 "metadata": {
  "kernelspec": {
   "display_name": "Python 3",
   "language": "python",
   "name": "python3"
  },
  "language_info": {
   "codemirror_mode": {
    "name": "ipython",
    "version": 3
   },
   "file_extension": ".py",
   "mimetype": "text/x-python",
   "name": "python",
   "nbconvert_exporter": "python",
   "pygments_lexer": "ipython3",
   "version": "3.7.7"
  }
 },
 "nbformat": 4,
 "nbformat_minor": 4
}
